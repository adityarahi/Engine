{
 "cells": [
  {
   "attachments": {},
   "cell_type": "markdown",
   "metadata": {},
   "source": [
    "### Import Dependencies and Build Dataframe"
   ]
  },
  {
   "cell_type": "code",
   "execution_count": 1,
   "metadata": {},
   "outputs": [],
   "source": [
    "# !pip install pandas\n",
    "# !pip install numpy\n",
    "# !pip install pyspark\n",
    "# !pip install matplotlib\n",
    "# !pip install pyarrow"
   ]
  },
  {
   "cell_type": "code",
   "execution_count": 2,
   "metadata": {},
   "outputs": [],
   "source": [
    "import pandas as pd\n",
    "import numpy as np\n",
    "import os\n",
    "import sys\n",
    "import math\n",
    "from pyspark.sql import SparkSession\n",
    "from pyspark.context import SparkContext\n",
    "from pyspark.ml.feature import StringIndexer\n",
    "from pyspark.sql.functions import *\n",
    "import pyspark.sql.functions as f\n",
    "from pyspark.sql.types import DoubleType\n",
    "import matplotlib.pyplot as plt\n",
    "import pyarrow"
   ]
  },
  {
   "cell_type": "code",
   "execution_count": 3,
   "metadata": {},
   "outputs": [],
   "source": [
    "# Initialize Spark session\n",
    "\n",
    "sc = SparkSession.builder.appName(\"Product_Recommendation\") \\\n",
    ".config (\"spark.sql.shuffle.partitions\", \"16\") \\\n",
    ".config(\"spark.driver.maxResultSize\",\"4g\") \\\n",
    ".config (\"spark.sql.execution.arrow.enabled\", \"true\") \\\n",
    ".config(\"spark.driver.memory\", \"4g\") \\\n",
    ".config(\"spark.executor.cores\", \"4\") \\\n",
    ".getOrCreate()\n",
    "\n",
    "sc.sparkContext.setLogLevel(\"ERROR\")"
   ]
  },
  {
   "cell_type": "code",
   "execution_count": 4,
   "metadata": {},
   "outputs": [
    {
     "name": "stdout",
     "output_type": "stream",
     "text": [
      "+--------------------+----------+----------+-------+-------+---------+--------------------+------+-----------+----------+---------+-----+-------------------+-------+---------+----------+------+--------+-------+\n",
      "|          event_time|event_type|product_id|  brand|  price|  user_id|        user_session|target|      cat_0|     cat_1|    cat_2|cat_3|          timestamp|ts_hour|ts_minute|ts_weekday|ts_day|ts_month|ts_year|\n",
      "+--------------------+----------+----------+-------+-------+---------+--------------------+------+-----------+----------+---------+-----+-------------------+-------+---------+----------+------+--------+-------+\n",
      "|2019-11-01 00:00:...|      cart|   1005014|samsung| 503.09|533326659|6b928be2-2bce-464...|     0|electronics|smartphone|       NA|   NA|2019-11-01 05:30:14|      0|        0|         4|     1|      11|   2019|\n",
      "|2019-11-01 00:03:...|      cart|   1005115|  apple| 949.47|565865924|fd4bd6d4-bd14-4fd...|     0|electronics|smartphone|       NA|   NA|2019-11-01 05:33:39|      0|        3|         4|     1|      11|   2019|\n",
      "|2019-11-01 00:05:...|      cart|   1002542|  apple| 486.80|549256216|dcbdc6e4-cd49-4ee...|     0|electronics|smartphone|       NA|   NA|2019-11-01 05:35:54|      0|        5|         4|     1|      11|   2019|\n",
      "|2019-11-01 00:07:...|      cart|   1002542|  apple| 486.80|549256216|dcbdc6e4-cd49-4ee...|     0|electronics|smartphone|       NA|   NA|2019-11-01 05:37:22|      0|        7|         4|     1|      11|   2019|\n",
      "|2019-11-01 00:10:...|      cart|   4804056|  apple| 160.57|522355747|0a1f37d1-71b7-464...|     0|electronics|     audio|headphone|   NA|2019-11-01 05:40:45|      0|       10|         4|     1|      11|   2019|\n",
      "|2019-11-01 00:13:...|      cart|   1004873|samsung| 362.29|563558500|e0729b6c-eafe-4b0...|     0|electronics|smartphone|       NA|   NA|2019-11-01 05:43:40|      0|       13|         4|     1|      11|   2019|\n",
      "|2019-11-01 00:14:...|      cart|   1004856|samsung| 128.42|513645631|8cccf28f-136d-494...|     0|electronics|smartphone|       NA|   NA|2019-11-01 05:44:09|      0|       14|         4|     1|      11|   2019|\n",
      "|2019-11-01 00:14:...|      cart|   1004856|samsung| 128.42|557839915|40304779-5050-440...|     0|electronics|smartphone|       NA|   NA|2019-11-01 05:44:23|      0|       14|         4|     1|      11|   2019|\n",
      "|2019-11-01 00:15:...|      cart|   1005115|  apple| 949.47|561713177|821f797d-f9f4-410...|     0|electronics|smartphone|       NA|   NA|2019-11-01 05:45:23|      0|       15|         4|     1|      11|   2019|\n",
      "|2019-11-01 00:15:...|      cart|   1005116|  apple|1013.86|513852314|892943dc-aacd-44d...|     0|electronics|smartphone|       NA|   NA|2019-11-01 05:45:46|      0|       15|         4|     1|      11|   2019|\n",
      "|2019-11-01 00:15:...|      cart|   1005116|  apple|1013.86|513852314|892943dc-aacd-44d...|     0|electronics|smartphone|       NA|   NA|2019-11-01 05:45:56|      0|       15|         4|     1|      11|   2019|\n",
      "|2019-11-01 00:20:...|      cart|   1004870|samsung| 275.25|563626542|e6e2cb92-9103-4e6...|     0|electronics|smartphone|       NA|   NA|2019-11-01 05:50:25|      0|       20|         4|     1|      11|   2019|\n",
      "|2019-11-01 00:20:...|      cart|   1004870|samsung| 275.25|563626542|e6e2cb92-9103-4e6...|     0|electronics|smartphone|       NA|   NA|2019-11-01 05:50:49|      0|       20|         4|     1|      11|   2019|\n",
      "|2019-11-01 00:24:...|      cart|   4804295| xiaomi|  22.80|550508533|fff30096-d345-43a...|     0|electronics|     audio|headphone|   NA|2019-11-01 05:54:48|      0|       24|         4|     1|      11|   2019|\n",
      "|2019-11-01 00:25:...|      cart|   4804295| xiaomi|  22.80|550508533|fff30096-d345-43a...|     0|electronics|     audio|headphone|   NA|2019-11-01 05:55:12|      0|       25|         4|     1|      11|   2019|\n",
      "|2019-11-01 00:30:...|      cart|   1002633|  apple| 358.31|557994805|b3bbf6e2-f995-448...|     0|electronics|smartphone|       NA|   NA|2019-11-01 06:00:05|      0|       30|         4|     1|      11|   2019|\n",
      "|2019-11-01 00:30:...|      cart|   1004856|samsung| 128.42|512800858|ddb1ab7a-7667-4f7...|     0|electronics|smartphone|       NA|   NA|2019-11-01 06:00:35|      0|       30|         4|     1|      11|   2019|\n",
      "|2019-11-01 00:31:...|      cart|   1801881|samsung| 488.80|566283686|771370f8-6f8e-458...|     0|electronics|     video|       tv|   NA|2019-11-01 06:01:35|      0|       31|         4|     1|      11|   2019|\n",
      "|2019-11-01 00:33:...|      cart|   1201471|samsung| 469.84|547694248|ad31f016-29a7-4d6...|     0|electronics|    tablet|       NA|   NA|2019-11-01 06:03:37|      0|       33|         4|     1|      11|   2019|\n",
      "|2019-11-01 00:35:...|      cart|   1004767|samsung| 242.63|532542999|595c35b6-269b-433...|     0|electronics|smartphone|       NA|   NA|2019-11-01 06:05:55|      0|       35|         4|     1|      11|   2019|\n",
      "+--------------------+----------+----------+-------+-------+---------+--------------------+------+-----------+----------+---------+-----+-------------------+-------+---------+----------+------+--------+-------+\n",
      "only showing top 20 rows\n",
      "\n"
     ]
    }
   ],
   "source": [
    "df = sc.read.parquet(\"D:/D drive/BEYOBO/Recommender System - E-Commerce Dataset - 2020/train.parquet\",header=True,escape=\"\\\"\",inferSchema=True)\n",
    "df.show()"
   ]
  },
  {
   "cell_type": "code",
   "execution_count": 5,
   "metadata": {},
   "outputs": [
    {
     "name": "stdout",
     "output_type": "stream",
     "text": [
      "root\n",
      " |-- event_time: string (nullable = true)\n",
      " |-- event_type: string (nullable = true)\n",
      " |-- product_id: string (nullable = true)\n",
      " |-- brand: string (nullable = true)\n",
      " |-- price: string (nullable = true)\n",
      " |-- user_id: string (nullable = true)\n",
      " |-- user_session: string (nullable = true)\n",
      " |-- target: long (nullable = true)\n",
      " |-- cat_0: string (nullable = true)\n",
      " |-- cat_1: string (nullable = true)\n",
      " |-- cat_2: string (nullable = true)\n",
      " |-- cat_3: string (nullable = true)\n",
      " |-- timestamp: timestamp (nullable = true)\n",
      " |-- ts_hour: short (nullable = true)\n",
      " |-- ts_minute: short (nullable = true)\n",
      " |-- ts_weekday: short (nullable = true)\n",
      " |-- ts_day: short (nullable = true)\n",
      " |-- ts_month: short (nullable = true)\n",
      " |-- ts_year: short (nullable = true)\n",
      "\n"
     ]
    }
   ],
   "source": [
    "df.printSchema()"
   ]
  },
  {
   "cell_type": "code",
   "execution_count": 6,
   "metadata": {},
   "outputs": [
    {
     "name": "stdout",
     "output_type": "stream",
     "text": [
      "+-----------------------+----------+----------+-------+------+---------+------------------------------------+------+-----------+----------+---------+-----+-------------------+-------+---------+----------+------+--------+-------+\n",
      "|event_time             |event_type|product_id|brand  |price |user_id  |user_session                        |target|cat_0      |cat_1     |cat_2    |cat_3|timestamp          |ts_hour|ts_minute|ts_weekday|ts_day|ts_month|ts_year|\n",
      "+-----------------------+----------+----------+-------+------+---------+------------------------------------+------+-----------+----------+---------+-----+-------------------+-------+---------+----------+------+--------+-------+\n",
      "|2019-11-01 00:00:14 UTC|cart      |1005014   |samsung|503.09|533326659|6b928be2-2bce-4640-8296-0efdf2fda22a|0     |electronics|smartphone|NA       |NA   |2019-11-01 05:30:14|0      |0        |4         |1     |11      |2019   |\n",
      "|2019-11-01 00:03:39 UTC|cart      |1005115   |apple  |949.47|565865924|fd4bd6d4-bd14-4fdc-9aff-bd41a594f82e|0     |electronics|smartphone|NA       |NA   |2019-11-01 05:33:39|0      |3        |4         |1     |11      |2019   |\n",
      "|2019-11-01 00:05:54 UTC|cart      |1002542   |apple  |486.80|549256216|dcbdc6e4-cd49-4ee8-95c5-e85f3c618fa1|0     |electronics|smartphone|NA       |NA   |2019-11-01 05:35:54|0      |5        |4         |1     |11      |2019   |\n",
      "|2019-11-01 00:07:22 UTC|cart      |1002542   |apple  |486.80|549256216|dcbdc6e4-cd49-4ee8-95c5-e85f3c618fa1|0     |electronics|smartphone|NA       |NA   |2019-11-01 05:37:22|0      |7        |4         |1     |11      |2019   |\n",
      "|2019-11-01 00:10:45 UTC|cart      |4804056   |apple  |160.57|522355747|0a1f37d1-71b7-4645-a8a7-ab91bc198a51|0     |electronics|audio     |headphone|NA   |2019-11-01 05:40:45|0      |10       |4         |1     |11      |2019   |\n",
      "+-----------------------+----------+----------+-------+------+---------+------------------------------------+------+-----------+----------+---------+-----+-------------------+-------+---------+----------+------+--------+-------+\n",
      "only showing top 5 rows\n",
      "\n"
     ]
    }
   ],
   "source": [
    "df.show(5, truncate= False)"
   ]
  },
  {
   "attachments": {},
   "cell_type": "markdown",
   "metadata": {},
   "source": [
    "### Exploratory Data Analysis "
   ]
  },
  {
   "cell_type": "code",
   "execution_count": 7,
   "metadata": {},
   "outputs": [
    {
     "name": "stdout",
     "output_type": "stream",
     "text": [
      "+----------+----------+----------+-----+-----+-------+------------+------+-----+-----+-----+-----+---------+-------+---------+----------+------+--------+-------+\n",
      "|event_time|event_type|product_id|brand|price|user_id|user_session|target|cat_0|cat_1|cat_2|cat_3|timestamp|ts_hour|ts_minute|ts_weekday|ts_day|ts_month|ts_year|\n",
      "+----------+----------+----------+-----+-----+-------+------------+------+-----+-----+-----+-----+---------+-------+---------+----------+------+--------+-------+\n",
      "|         0|         0|         0|    0|    0|      0|          66|     0|    0|    0|    0|    0|        0|      0|        0|         0|     0|       0|      0|\n",
      "+----------+----------+----------+-----+-----+-------+------------+------+-----+-----+-----+-----+---------+-------+---------+----------+------+--------+-------+\n",
      "\n"
     ]
    }
   ],
   "source": [
    "# Null values\n",
    "\n",
    "df.select([count(when(isnull(c), c)).alias(c) for c in df.columns]).show()"
   ]
  },
  {
   "cell_type": "code",
   "execution_count": 8,
   "metadata": {},
   "outputs": [
    {
     "name": "stdout",
     "output_type": "stream",
     "text": [
      "+----------+-------+\n",
      "|event_type|  count|\n",
      "+----------+-------+\n",
      "|      cart|7305042|\n",
      "|  purchase|4190200|\n",
      "+----------+-------+\n",
      "\n"
     ]
    }
   ],
   "source": [
    "# Number of events\n",
    "\n",
    "df.groupBy('event_type').count().show()"
   ]
  },
  {
   "cell_type": "code",
   "execution_count": 9,
   "metadata": {},
   "outputs": [
    {
     "data": {
      "text/plain": [
       "<Axes: ylabel='count'>"
      ]
     },
     "execution_count": 9,
     "metadata": {},
     "output_type": "execute_result"
    },
    {
     "data": {
      "image/png": "[encoded data removed]",
      "text/plain": [
       "<Figure size 500x500 with 1 Axes>"
      ]
     },
     "metadata": {},
     "output_type": "display_data"
    }
   ],
   "source": [
    "events = df.groupBy('event_type').count().toPandas()\n",
    "events.plot(kind='pie', y='count', labels=events['event_type'], autopct='%1.2f%%', figsize=(5, 5))"
   ]
  },
  {
   "cell_type": "code",
   "execution_count": 10,
   "metadata": {},
   "outputs": [
    {
     "name": "stdout",
     "output_type": "stream",
     "text": [
      "+--------------------------+\n",
      "|count(DISTINCT product_id)|\n",
      "+--------------------------+\n",
      "|                    164453|\n",
      "+--------------------------+\n",
      "\n"
     ]
    }
   ],
   "source": [
    "## No. of different products\n",
    "df.select(f.countDistinct(\"product_id\")).show()"
   ]
  },
  {
   "cell_type": "code",
   "execution_count": 11,
   "metadata": {},
   "outputs": [
    {
     "name": "stdout",
     "output_type": "stream",
     "text": [
      "+-----------------------+\n",
      "|count(DISTINCT user_id)|\n",
      "+-----------------------+\n",
      "|                2547058|\n",
      "+-----------------------+\n",
      "\n"
     ]
    }
   ],
   "source": [
    "## No. of different users\n",
    "df.select(f.countDistinct(\"user_id\")).show()"
   ]
  },
  {
   "cell_type": "code",
   "execution_count": 12,
   "metadata": {},
   "outputs": [
    {
     "name": "stdout",
     "output_type": "stream",
     "text": [
      "+----------------------------+\n",
      "|count(DISTINCT user_session)|\n",
      "+----------------------------+\n",
      "|                     7279439|\n",
      "+----------------------------+\n",
      "\n"
     ]
    }
   ],
   "source": [
    "## No. of distinct user sessions\n",
    "df.select(f.countDistinct(\"user_session\")).show()"
   ]
  },
  {
   "cell_type": "code",
   "execution_count": 13,
   "metadata": {},
   "outputs": [
    {
     "data": {
      "image/png": "[encoded data removed]",
      "text/plain": [
       "<Figure size 800x400 with 1 Axes>"
      ]
     },
     "metadata": {},
     "output_type": "display_data"
    }
   ],
   "source": [
    "# Plot the daily number of sessions\n",
    "\n",
    "df = df.withColumn('event_time', to_timestamp('event_time'))\n",
    "df = df.withColumn('date', date_format(\"event_time\", \"yyyy-MM-dd\"))\n",
    "\n",
    "sessions = df.groupby('date').agg(countDistinct('user_session')).toPandas()\n",
    "sessions.sort_values('date').plot(x='date', figsize=(8, 4))\n",
    "\n",
    "# Adjust x-axis tick labels\n",
    "plt.xticks(rotation=45, ha='right')\n",
    "\n",
    "# Display the plot\n",
    "plt.show()"
   ]
  },
  {
   "cell_type": "code",
   "execution_count": 14,
   "metadata": {},
   "outputs": [
    {
     "name": "stdout",
     "output_type": "stream",
     "text": [
      "+---------+----------+-----+---------+\n",
      "|  user_id|product_id|carts|purchases|\n",
      "+---------+----------+-----+---------+\n",
      "|545442548|   1004767|  807|     null|\n",
      "|525325337|   1004767|  753|     null|\n",
      "|512875426|  15300303|  709|     null|\n",
      "|515032042|   1004873|  489|        1|\n",
      "|536911254|   4804718|  471|     null|\n",
      "|557590749|   8800045|  380|     null|\n",
      "|578263741|   3601537|  363|     null|\n",
      "|611998200|   1005100|  333|     null|\n",
      "|521558076|   1005008|  308|        1|\n",
      "|553431815|   1005107|  296|      441|\n",
      "|515481166| 100007950|  287|     null|\n",
      "|513824664|   3601489|  275|     null|\n",
      "|549621004|  28500010|  244|     null|\n",
      "|515642515|  13101546|  237|     null|\n",
      "|586742246| 100038635|  234|     null|\n",
      "|583172291|   1005119|  233|     null|\n",
      "|571683521|   1004870|  229|        1|\n",
      "|520894168|   1004226|  227|     null|\n",
      "|544355282|   4804055|  227|        1|\n",
      "|594188870|   1005100|  214|     null|\n",
      "+---------+----------+-----+---------+\n",
      "only showing top 20 rows\n",
      "\n"
     ]
    }
   ],
   "source": [
    "# Print the number of interactions between users and products, sorted by carts\n",
    "\n",
    "interactions = df.groupby(['user_id', 'product_id']).agg(sum(when(df['event_type'] == 'cart', 1)).alias('carts'),                                                         \n",
    "                                                         sum(when(df['event_type'] == 'purchase', 1)).alias('purchases'))\n",
    "\n",
    "interactions.sort('carts', ascending=False).show()"
   ]
  },
  {
   "cell_type": "code",
   "execution_count": 15,
   "metadata": {},
   "outputs": [
    {
     "data": {
      "text/plain": [
       "127060"
      ]
     },
     "execution_count": 15,
     "metadata": {},
     "output_type": "execute_result"
    }
   ],
   "source": [
    "df.groupby('product_id').agg(f.collect_set('cat_0'))\\\n",
    "                        .filter(size(col('collect_set(cat_0)')) == 1).count()"
   ]
  },
  {
   "cell_type": "code",
   "execution_count": 16,
   "metadata": {},
   "outputs": [
    {
     "name": "stdout",
     "output_type": "stream",
     "text": [
      "+---------------------+\n",
      "|count(DISTINCT cat_0)|\n",
      "+---------------------+\n",
      "|                   14|\n",
      "+---------------------+\n",
      "\n"
     ]
    }
   ],
   "source": [
    "## No. of product categories\n",
    "df.select(f.countDistinct(\"cat_0\")).show()"
   ]
  },
  {
   "cell_type": "code",
   "execution_count": 17,
   "metadata": {},
   "outputs": [
    {
     "data": {
      "text/plain": [
       "1233350"
      ]
     },
     "execution_count": 17,
     "metadata": {},
     "output_type": "execute_result"
    }
   ],
   "source": [
    "df.filter((col('brand') != 'NA') & (col('cat_0') == 'NA') & (col('cat_1') == 'NA') & (col('cat_2') == 'NA') & (col('cat_3') == 'NA')).count()"
   ]
  },
  {
   "cell_type": "code",
   "execution_count": 18,
   "metadata": {},
   "outputs": [
    {
     "data": {
      "text/plain": [
       "654744"
      ]
     },
     "execution_count": 18,
     "metadata": {},
     "output_type": "execute_result"
    }
   ],
   "source": [
    "df.filter((col('brand') == 'NA') & (col('cat_0') != 'NA')).count()"
   ]
  },
  {
   "cell_type": "code",
   "execution_count": null,
   "metadata": {},
   "outputs": [],
   "source": []
  },
  {
   "attachments": {},
   "cell_type": "markdown",
   "metadata": {},
   "source": [
    "### Data Preprocess"
   ]
  },
  {
   "cell_type": "code",
   "execution_count": 19,
   "metadata": {},
   "outputs": [],
   "source": [
    "# Not run yet\n",
    "def preprocess(df):\n",
    "    \n",
    "    # Change data types\n",
    "    df = df.withColumn('event_time', to_timestamp('event_time'))\n",
    "    df = df.withColumn('user_id', col('user_id').cast('integer'))\n",
    "    df = df.withColumn('product_id', col('product_id').cast('integer'))\n",
    "\n",
    "    # Discarding unwanted product categories\n",
    "    df = df.filter(~col('cat_0').isin('construction', 'apparel', 'auto', 'medicine'))\n",
    "    df = df.filter((col('brand') != 'NA') | (col('cat_0') != 'NA'))\n",
    "\n",
    "    return df\n",
    "\n",
    "df = preprocess(df)"
   ]
  },
  {
   "cell_type": "code",
   "execution_count": 20,
   "metadata": {},
   "outputs": [],
   "source": [
    "# Filter rows where 'brand' is 'NA' and 'cat_0' is not 'NA'\n",
    "R = df.filter((col('brand') == 'NA') & (col('cat_0') != 'NA'))\n",
    "\n",
    "# Filter rows where both 'brand' and 'cat_0' are not 'NA'\n",
    "S = df.filter((col('brand') != 'NA') & (col('cat_0') != 'NA'))"
   ]
  },
  {
   "cell_type": "code",
   "execution_count": 21,
   "metadata": {},
   "outputs": [
    {
     "name": "stdout",
     "output_type": "stream",
     "text": [
      "Number of rows where R['cat_0'] matches distinct values: 395020\n"
     ]
    }
   ],
   "source": [
    "def count_matching_rows(R, distinct_values):\n",
    "    count = 0\n",
    "    for row in R.collect():\n",
    "        if row['cat_0'] in distinct_values:\n",
    "            count += 1\n",
    "    return count\n",
    "\n",
    "# Usage:\n",
    "distinct_values = S.select(col('cat_0')).distinct().toPandas()['cat_0'].tolist()\n",
    "matching_count = count_matching_rows(R, distinct_values)\n",
    "print(\"Number of rows where R['cat_0'] matches distinct values:\", matching_count)\n"
   ]
  },
  {
   "cell_type": "code",
   "execution_count": 22,
   "metadata": {},
   "outputs": [
    {
     "data": {
      "text/plain": [
       "395020"
      ]
     },
     "execution_count": 22,
     "metadata": {},
     "output_type": "execute_result"
    }
   ],
   "source": [
    "df.filter((col('brand') == 'NA') & (col('cat_0') != 'NA')).count()"
   ]
  },
  {
   "cell_type": "markdown",
   "metadata": {},
   "source": [
    "### Feature Engineering"
   ]
  },
  {
   "cell_type": "code",
   "execution_count": 23,
   "metadata": {},
   "outputs": [],
   "source": [
    "# Partition dataframes for null and non-null values\n",
    "\n",
    "# R is the dataframe where brand is unknown and product is known\n",
    "R = df.filter((col('brand') == 'NA') & (col('cat_0') != 'NA'))\n",
    "\n",
    "# S is the dataframe where brand is known and product is unknown\n",
    "S = df.filter((col('brand') != 'NA') & (col('cat_0') == 'NA'))\n",
    "\n",
    "# df_new is the dataframe where only non-null values of 'brand' and 'cat_0' are kept\n",
    "df_new = df.filter((col('brand') != 'NA') & (col('cat_0') != 'NA'))\n",
    "df_new = df_new.dropna(subset=['user_session'])"
   ]
  },
  {
   "cell_type": "code",
   "execution_count": 24,
   "metadata": {},
   "outputs": [],
   "source": [
    "def add_category_code(df):\n",
    "    # Create a new column 'category_code' by concatenating 'cat_0' and 'cat_1'\n",
    "    df = df.withColumn('category_code', concat(col('cat_0'), lit(\".\") , col('cat_1')))\n",
    "    return df\n",
    "\n",
    "df_new = add_category_code(df_new)"
   ]
  },
  {
   "cell_type": "code",
   "execution_count": 25,
   "metadata": {},
   "outputs": [
    {
     "name": "stdout",
     "output_type": "stream",
     "text": [
      "+-------------------+----------+----------+-------+------+---------+------------------------------------+------+-----------+----------+---------+-----+-------------------+-------+---------+----------+------+--------+-------+----------+----------------------+-----------+\n",
      "|event_time         |event_type|product_id|brand  |price |user_id  |user_session                        |target|cat_0      |cat_1     |cat_2    |cat_3|timestamp          |ts_hour|ts_minute|ts_weekday|ts_day|ts_month|ts_year|date      |category_code         |category_id|\n",
      "+-------------------+----------+----------+-------+------+---------+------------------------------------+------+-----------+----------+---------+-----+-------------------+-------+---------+----------+------+--------+-------+----------+----------------------+-----------+\n",
      "|2019-11-01 05:30:14|cart      |1005014   |samsung|503.09|533326659|6b928be2-2bce-4640-8296-0efdf2fda22a|0     |electronics|smartphone|NA       |NA   |2019-11-01 05:30:14|0      |0        |4         |1     |11      |2019   |2019-11-01|electronics.smartphone|0          |\n",
      "|2019-11-01 05:33:39|cart      |1005115   |apple  |949.47|565865924|fd4bd6d4-bd14-4fdc-9aff-bd41a594f82e|0     |electronics|smartphone|NA       |NA   |2019-11-01 05:33:39|0      |3        |4         |1     |11      |2019   |2019-11-01|electronics.smartphone|0          |\n",
      "|2019-11-01 05:35:54|cart      |1002542   |apple  |486.80|549256216|dcbdc6e4-cd49-4ee8-95c5-e85f3c618fa1|0     |electronics|smartphone|NA       |NA   |2019-11-01 05:35:54|0      |5        |4         |1     |11      |2019   |2019-11-01|electronics.smartphone|0          |\n",
      "|2019-11-01 05:37:22|cart      |1002542   |apple  |486.80|549256216|dcbdc6e4-cd49-4ee8-95c5-e85f3c618fa1|0     |electronics|smartphone|NA       |NA   |2019-11-01 05:37:22|0      |7        |4         |1     |11      |2019   |2019-11-01|electronics.smartphone|0          |\n",
      "|2019-11-01 05:40:45|cart      |4804056   |apple  |160.57|522355747|0a1f37d1-71b7-4645-a8a7-ab91bc198a51|0     |electronics|audio     |headphone|NA   |2019-11-01 05:40:45|0      |10       |4         |1     |11      |2019   |2019-11-01|electronics.audio     |3          |\n",
      "+-------------------+----------+----------+-------+------+---------+------------------------------------+------+-----------+----------+---------+-----+-------------------+-------+---------+----------+------+--------+-------+----------+----------------------+-----------+\n",
      "only showing top 5 rows\n",
      "\n"
     ]
    }
   ],
   "source": [
    "def add_category_id(df):\n",
    "    # Create a StringIndexer to generate category_id based on category_code\n",
    "    indexer = StringIndexer(inputCol='category_code', outputCol='category_id', handleInvalid=\"keep\")\n",
    "    indexed_df = indexer.fit(df).transform(df)\n",
    "    \n",
    "    # Convert indexed values to integers\n",
    "    indexed_df = indexed_df.withColumn('category_id', col('category_id').cast('integer'))\n",
    "    \n",
    "    return indexed_df\n",
    "\n",
    "df_new = add_category_id(df_new)\n",
    "df_new.show(5, truncate= False)"
   ]
  },
  {
   "cell_type": "code",
   "execution_count": 26,
   "metadata": {},
   "outputs": [],
   "source": [
    "def product_features(df):\n",
    "\n",
    "    # Calculate several metrics for products with the aggregate function\n",
    "    df = df.groupby('product_id').agg(first('category_id').alias('category_id'),\n",
    "                                      first('category_code').alias('category_code'),\n",
    "                                      count(when(df['event_type'] == 'cart', True)).alias('carts'),\n",
    "                                      count(when(df['event_type'] == 'purchase', True)).alias('purchases'),\n",
    "                                      mean('price').alias('price'),\n",
    "                                      min('event_time').alias('first_date'),\n",
    "                                      max('event_time').alias('last_date'))\n",
    "    \n",
    "    # Calculate interaction rates\n",
    "\n",
    "    df = df.withColumn('purchase_per_cart', when(df['carts'] == 0, df['purchases']).otherwise(df['purchases'] / df['carts']))\n",
    "    \n",
    "    return df"
   ]
  },
  {
   "cell_type": "code",
   "execution_count": 27,
   "metadata": {},
   "outputs": [],
   "source": [
    "def category_features(df):\n",
    "    \n",
    "    # Calculate the average product price for each category\n",
    "    products = df.dropDuplicates(subset=['product_id'])\n",
    "    products = products.groupby('category_id').agg(avg('price').alias('average_price'))\n",
    "\n",
    "    # Calculate several metrics for categories with the aggregate function\n",
    "    df = df.groupby('category_id').agg(first('category_code').alias('category_code'),\n",
    "                                       countDistinct('product_id').alias('number_of_products'),\n",
    "                                       count(when(df['event_type'] == 'cart', True)).alias('carts'),\n",
    "                                       count(when(df['event_type'] == 'purchase', True)).alias('purchases'))\n",
    "    \n",
    "    # Calculate interaction rates\n",
    "    df = df.withColumn('purchase_per_cart', when(df['carts'] == 0, df['purchases']).otherwise(df['purchases'] / df['carts']))\n",
    "    \n",
    "    df = df.join(products, on='category_id')\n",
    "    \n",
    "    return df"
   ]
  },
  {
   "cell_type": "code",
   "execution_count": 28,
   "metadata": {},
   "outputs": [],
   "source": [
    "# Calculate smoothed rates for categories with small sample size using means of all products to combat overfitting\n",
    "    \n",
    "def category_smoothener(categories, mean, attr, rate, min_sample_size=1000):\n",
    "    \n",
    "    # Weighted average of category value and overall mean\n",
    "    categories = categories.withColumn(rate, when(categories[attr] < min_sample_size, ((categories[rate] * categories[attr]) + (mean * (min_sample_size - categories[attr]))) / min_sample_size).otherwise(categories[rate]))\n",
    "    \n",
    "    return categories"
   ]
  },
  {
   "cell_type": "code",
   "execution_count": 29,
   "metadata": {},
   "outputs": [],
   "source": [
    "# Calculate smoothed rates for products with small sample size using category means to combat overfitting\n",
    "    \n",
    "def product_smoothener(products, categories, attr, rate, min_sample_size=1000):\n",
    "    \n",
    "    category_rate = rate + '_cat'\n",
    "    categories = categories.withColumnRenamed(rate, category_rate)\n",
    "    products = products.join(categories['category_id', category_rate], on='category_id')\n",
    "    \n",
    "    # Weighted average of product value and category value\n",
    "    products = products.withColumn(rate, when(products[attr] < min_sample_size, ((products[rate] * products[attr]) + (products[category_rate] * (min_sample_size - products[attr]))) / min_sample_size).otherwise(products[rate]))\n",
    "    \n",
    "    products = products.drop(category_rate)\n",
    "    return products"
   ]
  },
  {
   "cell_type": "code",
   "execution_count": 30,
   "metadata": {},
   "outputs": [],
   "source": [
    "# Calculate the price of each product relative to its category using the formula: (price - median) / IQR\n",
    "\n",
    "def calculate_relative_price(products):\n",
    "    \n",
    "    categories = products.groupby('category_id').agg(percentile_approx('price', 0.25, 1000).alias('Q1'),\n",
    "                                                     percentile_approx('price', 0.5, 1000).alias('median'),\n",
    "                                                     percentile_approx('price', 0.75, 1000).alias('Q3'))\n",
    "    # Interquartile range\n",
    "    categories = categories.withColumn('IQR', col('Q3') - col('Q1'))\n",
    "    categories = categories.withColumn('IQR', when(col('IQR') < 1, 1).otherwise(col('IQR')))\n",
    "    \n",
    "    # Calculate relative price\n",
    "    products = products.join(categories, on='category_id')\n",
    "    products = products.withColumn('relative_price', (col('price') - col('median')) / col('IQR'))\n",
    "    \n",
    "    # In order to avoid extreme values, set the max possible value to 5\n",
    "    products = products.withColumn('relative_price', when(col('relative_price') > 5, 5).otherwise(col('relative_price')))\n",
    "\n",
    "    # Set the min possible value to -5\n",
    "    products = products.withColumn('relative_price', when(col('relative_price') < -5, -5).otherwise(col('relative_price')))\n",
    "\n",
    "    products = products.select('product_id', 'relative_price')\n",
    "    return products"
   ]
  },
  {
   "cell_type": "code",
   "execution_count": 31,
   "metadata": {},
   "outputs": [],
   "source": [
    "# Extract product and category features\n",
    "\n",
    "products = product_features(df_new)\n",
    "categories = category_features(df_new)"
   ]
  },
  {
   "cell_type": "code",
   "execution_count": 32,
   "metadata": {},
   "outputs": [],
   "source": [
    "# Calculate relative prices and append it to the main dataframe and product features\n",
    "\n",
    "relative_prices = calculate_relative_price(products)\n",
    "\n",
    "df_new = df_new.join(relative_prices, on='product_id')\n",
    "products = products.join(relative_prices, on='product_id')"
   ]
  },
  {
   "cell_type": "code",
   "execution_count": 33,
   "metadata": {},
   "outputs": [],
   "source": [
    "# Calculate the average interaction rates for all products to smooth category features with low interaction\n",
    "\n",
    "avg_purchase_per_cart = events[events['event_type'] == 'purchase']['count'].values[0] / events[events['event_type'] == 'cart']['count'].values[0]\n",
    "\n",
    "categories = category_smoothener(categories, avg_purchase_per_cart, 'carts', 'purchase_per_cart', 200)"
   ]
  },
  {
   "cell_type": "code",
   "execution_count": 34,
   "metadata": {},
   "outputs": [],
   "source": [
    "# Smooth product features with low interaction using corresponding category features\n",
    "\n",
    "products = product_smoothener(products, categories, 'carts', 'purchase_per_cart', 100)"
   ]
  },
  {
   "cell_type": "code",
   "execution_count": 35,
   "metadata": {},
   "outputs": [],
   "source": [
    "def user_features(df):\n",
    "\n",
    "    # Calculate several metrics for users with the aggregate function\n",
    "    df = df.groupby('user_id').agg(count(when(df['event_type'] == 'cart', True)).alias('carts'),\n",
    "                                   count(when(df['event_type'] == 'purchase', True)).alias('purchases'),\n",
    "                                   countDistinct(when(df['event_type'] == 'cart', col('product_id'))).alias('distinct_products_carted'),\n",
    "                                   countDistinct(when(df['event_type'] == 'purchase', col('product_id'))).alias('distinct_products_purchased'),\n",
    "                                   mean(when(df['event_type'] == 'purchase', col('price'))).alias('average_price_purchased'),\n",
    "                                   mean(when(df['event_type'] == 'purchase', col('relative_price'))).alias('avg_relative_price_purchased'),\n",
    "                                   min('event_time').alias('first_date'),\n",
    "                                   max('event_time').alias('last_date'))\n",
    "    \n",
    "    # Calculate interaction rates\n",
    "    df = df.withColumn('purchase_per_cart', when(df['carts'] == 0, df['purchases']).otherwise(df['purchases'] / df['carts']))\n",
    "    \n",
    "    return df"
   ]
  },
  {
   "cell_type": "code",
   "execution_count": 36,
   "metadata": {},
   "outputs": [],
   "source": [
    "# Extract user features\n",
    "\n",
    "users = user_features(df_new)"
   ]
  },
  {
   "cell_type": "code",
   "execution_count": 37,
   "metadata": {},
   "outputs": [
    {
     "name": "stdout",
     "output_type": "stream",
     "text": [
      "root\n",
      " |-- category_id: integer (nullable = true)\n",
      " |-- product_id: integer (nullable = true)\n",
      " |-- category_code: string (nullable = true)\n",
      " |-- carts: long (nullable = false)\n",
      " |-- purchases: long (nullable = false)\n",
      " |-- price: double (nullable = true)\n",
      " |-- first_date: timestamp (nullable = true)\n",
      " |-- last_date: timestamp (nullable = true)\n",
      " |-- purchase_per_cart: double (nullable = true)\n",
      " |-- relative_price: double (nullable = true)\n",
      "\n"
     ]
    }
   ],
   "source": [
    "# Top 50 products in terms of purchases\n",
    "\n",
    "# products.sort('purchases', ascending=False).toPandas().head(50)\n",
    "products.printSchema()"
   ]
  },
  {
   "cell_type": "code",
   "execution_count": 38,
   "metadata": {},
   "outputs": [],
   "source": [
    "# Convert timestamp columns to datetime\n",
    "products = products.withColumn('first_date', col('first_date').cast('timestamp'))\n",
    "products = products.withColumn('last_date', col('last_date').cast('timestamp'))\n",
    "\n",
    "# Sort the DataFrame by 'purchases' column in descending order\n",
    "top_50_products = products.orderBy(col('purchases').desc()).limit(50)"
   ]
  },
  {
   "cell_type": "code",
   "execution_count": 39,
   "metadata": {},
   "outputs": [
    {
     "name": "stdout",
     "output_type": "stream",
     "text": [
      "+-----------+----------+--------------------+------+---------+------------------+-------------------+-------------------+-------------------+--------------------+\n",
      "|category_id|product_id|       category_code| carts|purchases|             price|         first_date|          last_date|  purchase_per_cart|      relative_price|\n",
      "+-----------+----------+--------------------+------+---------+------------------+-------------------+-------------------+-------------------+--------------------+\n",
      "|          3|   4804056|   electronics.audio|140899|    84859|160.01074726036197|2019-10-01 05:41:00|2020-03-01 04:41:07| 0.6022682914711956|  0.5934102364379646|\n",
      "|          0|   1004856|electronics.smart...| 60317|    51605| 128.6646537767211|2019-10-01 07:55:04|2019-12-01 05:26:03| 0.8555631082447734|-0.14939608158209594|\n",
      "|          0|   1004767|electronics.smart...| 52117|    35654|247.27265964839307|2019-10-01 08:03:21|2019-12-01 05:28:57| 0.6841145883301034| 0.14876016104137865|\n",
      "|          0|   1005115|electronics.smart...| 46575|    25882| 935.5182813255365|2019-10-01 07:56:30|2019-12-01 05:15:40| 0.5557058507783146|  1.8788687405864721|\n",
      "|          3|   4804055|   electronics.audio| 37995|    23778|193.92169701974055|2019-10-01 08:22:17|2020-03-01 05:28:39| 0.6258191867350967|  0.8095999997008357|\n",
      "|          0|   1004833|electronics.smart...| 25449|    21663| 171.3583078621057|2019-10-01 07:47:59|2019-12-01 05:13:09| 0.8512318755157373|-0.04207297643068...|\n",
      "|          0|   1002544|electronics.smart...| 20570|    17620|470.03526184864853|2019-10-01 08:18:27|2019-12-01 05:23:39| 0.8565872630043753|  0.7087397339288699|\n",
      "|          0|   1004870|electronics.smart...| 29635|    17212|284.07379341256564|2019-10-01 08:01:46|2019-12-01 05:17:16| 0.5807997300489286|  0.2412706765565056|\n",
      "|          3|   4804718|   electronics.audio| 28029|    15535|321.64011592140076|2019-11-01 15:36:18|2020-03-01 04:35:16| 0.5542473866352706|  1.6238330112378176|\n",
      "|          0|   1005174|electronics.smart...| 15722|    14985| 638.0415185462593|2019-10-21 21:04:03|2020-02-29 23:52:30|  0.953123012339397|  1.1310730651914478|\n",
      "|          3|   4804295|   electronics.audio| 33775|    14430| 23.56326729592402|2019-10-01 08:01:00|2020-03-01 02:51:49|0.42723908216136197|-0.27647245928832986|\n",
      "|          7|   1801690|   electronics.video| 21945|    14187|383.96155236356344|2019-10-01 08:35:12|2020-03-01 01:05:19| 0.6464798359535202|  0.3295619538836379|\n",
      "|          0|   1004249|electronics.smart...| 22054|    13490| 752.3419589804242|2019-10-01 08:37:00|2019-12-01 05:09:55|  0.611680420785345|   1.418400970248136|\n",
      "|          0|   1004836|electronics.smart...| 17269|    12953|230.36201674275904|2019-10-01 07:54:23|2019-12-01 03:43:01| 0.7500723840407667|  0.1062502671093757|\n",
      "|          0|   1005100|electronics.smart...| 20052|    12887| 137.9928282582919|2019-10-01 08:13:16|2019-12-01 04:46:16| 0.6426790345102733|-0.12594696081220033|\n",
      "|          0|   1005105|electronics.smart...| 17490|    11713| 1370.176492483659|2019-10-01 08:07:40|2019-12-01 05:25:28| 0.6696969696969697|  2.9715104902889604|\n",
      "|          3|   4803977|   electronics.audio| 16559|    11538| 104.7276235897065|2019-10-01 08:38:39|2020-03-01 04:26:47| 0.6967812065946011|  0.2409681637860295|\n",
      "|          0|   1004873|electronics.smart...| 14581|    10085|364.21484391470784|2019-10-01 08:24:08|2019-12-01 04:12:26| 0.6916535217063302|  0.4427288692140028|\n",
      "|          0|   1002524|electronics.smart...| 13772|     9866| 546.6713846349182|2019-10-01 05:40:08|2019-12-01 05:05:50| 0.7163810630264305|  0.9013872559174574|\n",
      "|          7|   1801766|   electronics.video| 17509|     9846|152.38792505940586|2019-10-01 08:00:19|2020-03-01 04:09:44| 0.5623393683248615|-0.43485881360879486|\n",
      "+-----------+----------+--------------------+------+---------+------------------+-------------------+-------------------+-------------------+--------------------+\n",
      "only showing top 20 rows\n",
      "\n"
     ]
    }
   ],
   "source": [
    "top_50_products.show()"
   ]
  },
  {
   "attachments": {},
   "cell_type": "markdown",
   "metadata": {},
   "source": [
    "### Collaborative filtering"
   ]
  },
  {
   "cell_type": "code",
   "execution_count": 40,
   "metadata": {},
   "outputs": [],
   "source": [
    "# Get the timestamp of the most recent event in the df\n",
    "last_date = df_new.agg(max('event_time')).collect()[0][0]\n",
    "df_new = df_new.withColumn('last_date', lit(last_date))\n",
    "\n",
    "# Calculate the recency of each event in terms of days\n",
    "df_new = df_new.withColumn('recency', (col('last_date').cast('double') - col('event_time').cast('double')) / 86400)\n",
    "df_new = df_new.drop('last_date')\n",
    "\n",
    "# Half-life decay function, the value of an event is halved after 20 days\n",
    "df_new = df_new.withColumn('recency_coef', expr('exp(ln(0.5)*recency/20)'))"
   ]
  },
  {
   "cell_type": "code",
   "execution_count": 41,
   "metadata": {},
   "outputs": [],
   "source": [
    "# Find the number of carts and purchases for each user-product pair\n",
    "interactions = df_new.groupby(['user_id', 'product_id']).agg(sum(when(df_new['event_type'] == 'cart', 1) * df_new['recency_coef']).alias('carts'),\n",
    "                                                         sum(when(df_new['event_type'] == 'purchase', 1) * df_new['recency_coef']).alias('purchases'))\n",
    "interactions = interactions.na.fill(0)"
   ]
  },
  {
   "cell_type": "code",
   "execution_count": 42,
   "metadata": {},
   "outputs": [],
   "source": [
    "def calculate_interaction_matrix(df, cart_weight=0.4, purchase_weight=1.0):\n",
    " \n",
    "    # Create a new column with the weighted interaction value\n",
    "    df = df.withColumn('interaction', cart_weight * col('carts') + purchase_weight * col('purchases'))\n",
    "    \n",
    "    # Use log10 value for views, carts and purchases\n",
    "    df = df.withColumn('interaction', log10(col('interaction') + 1))\n",
    "    \n",
    "    # Set the max possible value to 100 (log100 = 2)\n",
    "    df = df.withColumn('interaction', when(col('interaction') > 2, 2).otherwise(col('interaction')))\n",
    "\n",
    "    return df"
   ]
  },
  {
   "cell_type": "code",
   "execution_count": 43,
   "metadata": {},
   "outputs": [],
   "source": [
    "interaction_matrix = calculate_interaction_matrix(interactions)"
   ]
  },
  {
   "cell_type": "markdown",
   "metadata": {},
   "source": []
  },
  {
   "cell_type": "code",
   "execution_count": 44,
   "metadata": {},
   "outputs": [
    {
     "name": "stdout",
     "output_type": "stream",
     "text": [
      "+---------+----------+------------------+------------------+------------------+\n",
      "|  user_id|product_id|             carts|         purchases|       interaction|\n",
      "+---------+----------+------------------+------------------+------------------+\n",
      "|563599039|   1005174| 5.216822607935234|138.34229840865544|               2.0|\n",
      "|536911254|   4804718|392.30705812650694|               0.0|               2.0|\n",
      "|559369947|   5100855|0.6001086863480617|61.881865855441106|1.8001801270665945|\n",
      "|558033855|   4804055|3.0618951751249197| 56.11998001965234|1.7660016946290078|\n",
      "|608008129|   4804718|130.84205010021222|               0.0|1.7270271193363844|\n",
      "|598224683|   2702331|15.796491149497644| 45.02024458019186| 1.718824101652938|\n",
      "|529011210|   1801881| 3.672617192786467|49.033805045417836| 1.711831278360134|\n",
      "|605258231|  26500146|1.0615950453858758| 49.75146686234308|1.7090672277551255|\n",
      "|557590749|   8800045|125.04464371221276|               0.0| 1.707722216288089|\n",
      "|520947784|   2240125| 5.332844220571641|  47.6958223686536|1.7061112242772125|\n",
      "|522035920|   5100689|2.8789796583238134|48.150620370935215|1.7015870852548727|\n",
      "|543250511|   4804055|3.5494492621830416|47.750225954592025|  1.70044415001867|\n",
      "|553613963|   4804718| 8.240539858078202| 45.09666521178085|1.6936643598976977|\n",
      "|605966690|   4804056| 7.964733238425662| 41.33407780643252| 1.658201977676743|\n",
      "|550023661|  14100444| 7.496738775562949| 38.74567391625268| 1.630878914665105|\n",
      "|576154686|   4804718| 77.10183059638868|10.747392060763703|1.6292885129454582|\n",
      "|613954635|   4804056|               0.0| 41.39551085023114|1.6273198727203477|\n",
      "|594228235|   8800773|1.3033440392674942| 39.06654549198126| 1.608396400944677|\n",
      "|592804940|   3600675| 79.79249259170982| 7.340381298870771|1.6048454890952426|\n",
      "|607941998|   4804056| 5.345720261517586| 34.98210254006225|1.5811573424897665|\n",
      "+---------+----------+------------------+------------------+------------------+\n",
      "only showing top 20 rows\n",
      "\n"
     ]
    }
   ],
   "source": [
    "#  User-product pairs with the highest interaction scores\n",
    "\n",
    "interaction_matrix.sort('interaction', ascending=False).show()"
   ]
  },
  {
   "cell_type": "code",
   "execution_count": 45,
   "metadata": {},
   "outputs": [],
   "source": [
    "from pyspark.ml.recommendation import ALS\n",
    "from pyspark.ml.evaluation import RegressionEvaluator\n",
    "from pyspark.ml.tuning import CrossValidator, ParamGridBuilder\n",
    "from pyspark.ml import Pipeline\n",
    "\n",
    "# def cross_validate_als(interaction_matrix):\n",
    "    \n",
    "#     # Define the ALS model\n",
    "#     als = ALS(userCol='user_id', itemCol='product_id', ratingCol='interaction', \n",
    "#               nonnegative=True, coldStartStrategy='drop', implicitPrefs=True)\n",
    "\n",
    "#     # Define the parameter grid for hyperparameter tuning\n",
    "#     param_grid = ParamGridBuilder() \\\n",
    "#         .addGrid(als.rank, [5, 10, 15, 20]).addGrid(als.regParam, [0.005, 0.01, 0.05, 0.1]) \\\n",
    "#         .addGrid(als.alpha, [0, 1.0, 5.0]) \\\n",
    "#         .build()\n",
    "        \n",
    "#     # Define the evaluator for computing the evaluation metrics\n",
    "#     evaluator = RegressionEvaluator(metricName='rmse', labelCol='interaction', predictionCol='prediction')\n",
    "\n",
    "#     # Define the cross-validator for performing 5-fold cross-validation\n",
    "#     cv = CrossValidator(estimator=als, estimatorParamMaps=param_grid, evaluator=evaluator, numFolds=5, collectSubModels=False)\n",
    "\n",
    "#     # Define the pipeline for fitting the model and evaluating it\n",
    "#     pipeline = Pipeline(stages=[cv])\n",
    "\n",
    "#     # Fit the pipeline on the data and evaluate the model\n",
    "#     model = pipeline.fit(interaction_matrix)\n",
    "    \n",
    "#     return model"
   ]
  },
  {
   "cell_type": "code",
   "execution_count": 46,
   "metadata": {},
   "outputs": [],
   "source": [
    "# model = cross_validate_als(interaction_matrix)\n",
    "\n",
    "# # Model with the lowest RMSE value \n",
    "# bestModel = model.stages[0].bestModel\n",
    "\n",
    "# # Make predictions\n",
    "# predictions = bestModel.transform(interaction_matrix)\n",
    "\n"
   ]
  },
  {
   "cell_type": "code",
   "execution_count": 47,
   "metadata": {},
   "outputs": [],
   "source": [
    "# # Calculate RMSE and MAE metrics\n",
    "# evaluator = RegressionEvaluator(metricName='rmse', labelCol='interaction', predictionCol='prediction')\n",
    "# rmse = evaluator.setMetricName('rmse').evaluate(predictions)\n",
    "# mae = evaluator.setMetricName('mae').evaluate(predictions)\n",
    "# print(' rmse:' + str(rmse) + ' mae:' + str(mae))\n",
    "\n",
    "# # Print the parameters of the model with the lowest RMSE value\n",
    "# regParam = bestModel._java_obj.parent().getRegParam()\n",
    "# rank = bestModel._java_obj.parent().getRank()\n",
    "# alpha = bestModel._java_obj.parent().getAlpha()\n",
    "# print('rank:' + str(rank) + ' regParam:' + str(regParam) + ' alpha:' + str(alpha))"
   ]
  },
  {
   "cell_type": "code",
   "execution_count": 48,
   "metadata": {},
   "outputs": [],
   "source": [
    "from pyspark.ml.recommendation import ALS\n",
    "from pyspark.ml.evaluation import RegressionEvaluator\n",
    "\n",
    "def simple_als(interaction_matrix):\n",
    "    \n",
    "    # Train-test split\n",
    "    (train, test) = interaction_matrix.randomSplit([0.8, 0.2])\n",
    "    \n",
    "    # Initialize the model with the optimized parameters\n",
    "    als = ALS(userCol='user_id', itemCol='product_id', ratingCol='interaction', \n",
    "              alpha=5.0, regParam=0.1, rank=20, implicitPrefs=True, \n",
    "              nonnegative=True, coldStartStrategy='drop')\n",
    "\n",
    "    # Fit the ALS model on the ratings data\n",
    "    model = als.fit(train)\n",
    "    \n",
    "    # Make predictions\n",
    "    predictions = model.transform(test)\n",
    "    \n",
    "    # Calculate the RMSE and MAE metrics\n",
    "    evaluator = RegressionEvaluator(metricName='rmse', labelCol='interaction', predictionCol='prediction')\n",
    "    rmse = evaluator.evaluate(predictions)\n",
    "    mae = evaluator.setMetricName('mae').evaluate(predictions)\n",
    "    print('test rmse:' + str(rmse) + ' mae:' + str(mae))\n",
    "    \n",
    "    return model"
   ]
  },
  {
   "cell_type": "code",
   "execution_count": 49,
   "metadata": {},
   "outputs": [
    {
     "name": "stdout",
     "output_type": "stream",
     "text": [
      "test rmse:0.11480117218877173 mae:0.06154526694486701\n"
     ]
    }
   ],
   "source": [
    "als_model = simple_als(interaction_matrix)"
   ]
  },
  {
   "cell_type": "code",
   "execution_count": 50,
   "metadata": {},
   "outputs": [
    {
     "name": "stdout",
     "output_type": "stream",
     "text": [
      "+----------+-------------------+----------+---------+-------+---------+------------------------------------+------+-----------+-----------+-------+-----+-------------------+-------+---------+----------+------+--------+-------+----------+----------------------+-----------+---------------------+------------------+--------------------+\n",
      "|product_id|event_time         |event_type|brand    |price  |user_id  |user_session                        |target|cat_0      |cat_1      |cat_2  |cat_3|timestamp          |ts_hour|ts_minute|ts_weekday|ts_day|ts_month|ts_year|date      |category_code         |category_id|relative_price       |recency           |recency_coef        |\n",
      "+----------+-------------------+----------+---------+-------+---------+------------------------------------+------+-----------+-----------+-------+-----+-------------------+-------+---------+----------+------+--------+-------+----------+----------------------+-----------+---------------------+------------------+--------------------+\n",
      "|3100690   |2019-11-01 07:24:01|cart      |panasonic|83.14  |532107139|c70dc3f5-ca2a-4b50-aed4-163479b89e24|0     |appliances |kitchen    |blender|NA   |2019-11-01 07:24:01|1      |54       |4         |1     |11      |2019   |2019-11-01|appliances.kitchen    |1          |-0.16331957483824242 |120.92049768518518|0.015134398159442059|\n",
      "|1004739   |2019-11-01 07:46:20|cart      |xiaomi   |203.09 |512411198|64a9195f-e4ee-448f-9241-9b4d23467f5d|0     |electronics|smartphone |NA     |NA   |2019-11-01 07:46:20|2      |16       |4         |1     |11      |2019   |2019-11-01|electronics.smartphone|0          |0.012039021106350339 |120.905           |0.015142529161896182|\n",
      "|1004739   |2019-11-01 07:48:33|cart      |xiaomi   |203.09 |512411198|64a9195f-e4ee-448f-9241-9b4d23467f5d|0     |electronics|smartphone |NA     |NA   |2019-11-01 07:48:33|2      |18       |4         |1     |11      |2019   |2019-11-01|electronics.smartphone|0          |0.012039021106350339 |120.90346064814815|0.015143337035405182|\n",
      "|1005067   |2019-11-01 07:49:09|cart      |samsung  |1183.22|552819937|aabd62c7-d774-4562-9ca3-b7ede43d7eba|0     |electronics|smartphone |NA     |NA   |2019-11-01 07:49:09|2      |19       |4         |1     |11      |2019   |2019-11-01|electronics.smartphone|0          |2.5006371109285785   |120.90304398148149|0.015143555715345995|\n",
      "|1003310   |2019-11-01 08:01:39|cart      |apple    |720.47 |563416044|b96bd613-3fba-4b8c-b187-f323364414ba|0     |electronics|smartphone |NA     |NA   |2019-11-01 08:01:39|2      |31       |4         |1     |11      |2019   |2019-11-01|electronics.smartphone|0          |1.3560480755128412   |120.89436342592593|0.015148112265714301|\n",
      "|1005135   |2019-11-01 08:06:13|cart      |apple    |1665.36|516239091|895599d8-f738-4fa3-9168-56d0f1ff3f28|0     |electronics|smartphone |NA     |NA   |2019-11-01 08:06:13|2      |36       |4         |1     |11      |2019   |2019-11-01|electronics.smartphone|0          |3.7355110811067402   |120.89119212962963|0.015149777267361258|\n",
      "|1005253   |2019-11-01 08:15:06|cart      |xiaomi   |308.44 |562245277|06692da8-9e8a-40ad-910b-aaa00e58c692|0     |electronics|smartphone |NA     |NA   |2019-11-01 08:15:06|2      |45       |4         |1     |11      |2019   |2019-11-01|electronics.smartphone|0          |0.24888777548757957  |120.88502314814815|0.015153016645200532|\n",
      "|1005098   |2019-11-01 08:22:43|cart      |samsung  |139.64 |560860500|c60ecd82-3418-4930-b99d-d0ecffc2c20f|0     |electronics|smartphone |NA     |NA   |2019-11-01 08:22:43|2      |52       |4         |1     |11      |2019   |2019-11-01|electronics.smartphone|0          |-0.124539638482799   |120.87973379629629|0.015155794674553394|\n",
      "|1005098   |2019-11-01 08:23:25|cart      |samsung  |139.64 |560860500|c60ecd82-3418-4930-b99d-d0ecffc2c20f|0     |electronics|smartphone |NA     |NA   |2019-11-01 08:23:25|2      |53       |4         |1     |11      |2019   |2019-11-01|electronics.smartphone|0          |-0.124539638482799   |120.87924768518519|0.01515605001133772 |\n",
      "|1005098   |2019-11-01 08:23:26|cart      |samsung  |139.64 |560860500|c60ecd82-3418-4930-b99d-d0ecffc2c20f|0     |electronics|smartphone |NA     |NA   |2019-11-01 08:23:26|2      |53       |4         |1     |11      |2019   |2019-11-01|electronics.smartphone|0          |-0.124539638482799   |120.87923611111111|0.01515605609083739 |\n",
      "|1005017   |2019-11-01 08:26:13|cart      |huawei   |91.32  |527568893|f3a53109-cde8-47b1-af94-9bbc1177531f|0     |electronics|smartphone |NA     |NA   |2019-11-01 08:26:13|2      |56       |4         |1     |11      |2019   |2019-11-01|electronics.smartphone|0          |-0.24880754368089927 |120.87730324074074|0.015157071401493503|\n",
      "|5100719   |2019-11-01 08:27:10|cart      |samsung  |151.61 |518870968|d9b8b843-523f-4eeb-aca5-725b3dd98674|0     |electronics|clocks     |NA     |NA   |2019-11-01 08:27:10|2      |57       |4         |1     |11      |2019   |2019-11-01|electronics.clocks    |4          |-0.006840361206091895|120.87664351851852|0.015157417960220732|\n",
      "|1005253   |2019-11-01 09:03:29|cart      |xiaomi   |308.44 |545597583|d3b78161-ed91-4f22-9e7e-c7d1828d5a0a|0     |electronics|smartphone |NA     |NA   |2019-11-01 09:03:29|3      |33       |4         |1     |11      |2019   |2019-11-01|electronics.smartphone|0          |0.24888777548757957  |120.85142361111112|0.015170672174636664|\n",
      "|1004739   |2019-11-01 09:06:01|cart      |xiaomi   |203.09 |530131574|b0d06405-9c0b-4a83-80a0-7a1b42d3dd67|0     |electronics|smartphone |NA     |NA   |2019-11-01 09:06:01|3      |36       |4         |1     |11      |2019   |2019-11-01|electronics.smartphone|0          |0.012039021106350339 |120.84966435185186|0.015171597178133172|\n",
      "|1004739   |2019-11-01 09:16:23|cart      |xiaomi   |203.09 |530131574|a33ca2ae-2efd-4634-b526-2ba1dc45e251|0     |electronics|smartphone |NA     |NA   |2019-11-01 09:16:23|3      |46       |4         |1     |11      |2019   |2019-11-01|electronics.smartphone|0          |0.012039021106350339 |120.84246527777778|0.015175382977466024|\n",
      "|1003310   |2019-11-01 09:23:27|cart      |apple    |720.47 |544776148|a5748cfd-3612-415e-af5f-0288209e85b7|0     |electronics|smartphone |NA     |NA   |2019-11-01 09:23:27|3      |53       |4         |1     |11      |2019   |2019-11-01|electronics.smartphone|0          |1.3560480755128412   |120.83755787037038|0.015177964192417195|\n",
      "|1005135   |2019-11-01 09:27:32|cart      |apple    |1665.36|513334665|8e19f63e-cda4-4526-9a39-3177ac7f1122|0     |electronics|smartphone |NA     |NA   |2019-11-01 09:27:32|3      |57       |4         |1     |11      |2019   |2019-11-01|electronics.smartphone|0          |3.7355110811067402   |120.83472222222223|0.01517945589647712 |\n",
      "|1005135   |2019-11-01 09:29:41|cart      |apple    |1665.36|513334665|0e1fcdf3-0eab-4047-8200-d9e9211d3263|0     |electronics|smartphone |NA     |NA   |2019-11-01 09:29:41|3      |59       |4         |1     |11      |2019   |2019-11-01|electronics.smartphone|0          |3.7355110811067402   |120.83322916666667|0.015180241383246562|\n",
      "|1005135   |2019-11-01 09:29:56|cart      |apple    |1665.36|513334665|0e1fcdf3-0eab-4047-8200-d9e9211d3263|0     |electronics|smartphone |NA     |NA   |2019-11-01 09:29:56|3      |59       |4         |1     |11      |2019   |2019-11-01|electronics.smartphone|0          |3.7355110811067402   |120.83305555555556|0.015180332721555332|\n",
      "|1005098   |2019-11-01 09:31:36|cart      |samsung  |139.64 |550514305|95472880-6ba0-4ea9-a4fb-18de33f4cf01|0     |electronics|smartphone |NA     |NA   |2019-11-01 09:31:36|4      |1        |4         |1     |11      |2019   |2019-11-01|electronics.smartphone|0          |-0.124539638482799   |120.83189814814814|0.015180941657658676|\n",
      "|1005253   |2019-11-01 09:32:53|cart      |xiaomi   |308.44 |512602040|953c11b1-40c4-4d17-8d25-31ad6182ec46|0     |electronics|smartphone |NA     |NA   |2019-11-01 09:32:53|4      |2        |4         |1     |11      |2019   |2019-11-01|electronics.smartphone|0          |0.24888777548757957  |120.83100694444444|0.015181410555103657|\n",
      "|1005253   |2019-11-01 09:33:45|cart      |xiaomi   |308.44 |512602040|953c11b1-40c4-4d17-8d25-31ad6182ec46|0     |electronics|smartphone |NA     |NA   |2019-11-01 09:33:45|4      |3        |4         |1     |11      |2019   |2019-11-01|electronics.smartphone|0          |0.24888777548757957  |120.8304050925926 |0.015181727221311343|\n",
      "|1004739   |2019-11-01 09:40:24|cart      |xiaomi   |203.09 |512411198|16b11854-d04b-4761-893a-54991e970c15|0     |electronics|smartphone |NA     |NA   |2019-11-01 09:40:24|4      |10       |4         |1     |11      |2019   |2019-11-01|electronics.smartphone|0          |0.012039021106350339 |120.82578703703703|0.015184157245280158|\n",
      "|1005098   |2019-11-01 09:42:55|cart      |samsung  |139.64 |550514305|95472880-6ba0-4ea9-a4fb-18de33f4cf01|0     |electronics|smartphone |NA     |NA   |2019-11-01 09:42:55|4      |12       |4         |1     |11      |2019   |2019-11-01|electronics.smartphone|0          |-0.124539638482799   |120.82403935185185|0.015185076979860563|\n",
      "|1004739   |2019-11-01 09:46:40|cart      |xiaomi   |203.09 |512888330|fd42b9d6-2ae0-53e4-646e-7788962819db|0     |electronics|smartphone |NA     |NA   |2019-11-01 09:46:40|4      |16       |4         |1     |11      |2019   |2019-11-01|electronics.smartphone|0          |0.012039021106350339 |120.82143518518518|0.015186447548648467|\n",
      "|1005104   |2019-11-01 09:48:38|cart      |apple    |977.30 |523548021|e236afe9-0fc4-4cac-a92b-68e6e21d51e7|0     |electronics|smartphone |NA     |NA   |2019-11-01 09:48:38|4      |18       |4         |1     |11      |2019   |2019-11-01|electronics.smartphone|0          |1.9917920455383704   |120.82006944444444|0.015187166385284223|\n",
      "|1005159   |2019-11-01 09:53:17|cart      |xiaomi   |212.10 |566033600|f237ed65-5c3a-4f53-86c7-5504dfd1c68e|0     |electronics|smartphone |NA     |NA   |2019-11-01 09:53:17|4      |23       |4         |1     |11      |2019   |2019-11-01|electronics.smartphone|0          |0.04230247099810983  |120.81684027777777|0.015188866142835608|\n",
      "|1005135   |2019-11-01 10:00:20|cart      |apple    |1665.36|517522272|d9716534-d006-423b-b8d5-bbae1751aa90|0     |electronics|smartphone |NA     |NA   |2019-11-01 10:00:20|4      |30       |4         |1     |11      |2019   |2019-11-01|electronics.smartphone|0          |3.7355110811067402   |120.81194444444445|0.015191443557471665|\n",
      "|1005136   |2019-11-01 10:01:35|cart      |apple    |2011.63|550418439|e49ec1ed-375c-433b-8582-6182fb162e4c|0     |electronics|smartphone |NA     |NA   |2019-11-01 10:01:35|4      |31       |4         |1     |11      |2019   |2019-11-01|electronics.smartphone|0          |4.5570166128555725   |120.81107638888889|0.015191900591528334|\n",
      "|1005098   |2019-11-01 10:21:37|cart      |samsung  |139.64 |514673131|7677e684-e796-491e-8c62-5c4bcd595b0a|0     |electronics|smartphone |NA     |NA   |2019-11-01 10:21:37|4      |51       |4         |1     |11      |2019   |2019-11-01|electronics.smartphone|0          |-0.124539638482799   |120.79716435185185|0.01519922720032756 |\n",
      "|1005098   |2019-11-01 10:28:37|cart      |samsung  |139.64 |566291403|2cd25ec0-f674-4be9-84c5-4276032bda3d|0     |electronics|smartphone |NA     |NA   |2019-11-01 10:28:37|4      |58       |4         |1     |11      |2019   |2019-11-01|electronics.smartphone|0          |-0.124539638482799   |120.79230324074074|0.015201788079595675|\n",
      "|1005135   |2019-11-01 10:28:48|cart      |apple    |1665.36|566321739|58165a01-ee44-480c-8cb7-d25403e7331b|0     |electronics|smartphone |NA     |NA   |2019-11-01 10:28:48|4      |58       |4         |1     |11      |2019   |2019-11-01|electronics.smartphone|0          |3.7355110811067402   |120.79217592592593|0.01520185515604112 |\n",
      "|1005098   |2019-11-01 10:28:57|cart      |samsung  |139.64 |566291403|2cd25ec0-f674-4be9-84c5-4276032bda3d|0     |electronics|smartphone |NA     |NA   |2019-11-01 10:28:57|4      |58       |4         |1     |11      |2019   |2019-11-01|electronics.smartphone|0          |-0.124539638482799   |120.79207175925926|0.015201910036989352|\n",
      "|1005098   |2019-11-01 10:30:04|cart      |samsung  |139.64 |566291403|2cd25ec0-f674-4be9-84c5-4276032bda3d|0     |electronics|smartphone |NA     |NA   |2019-11-01 10:30:04|5      |0        |4         |1     |11      |2019   |2019-11-01|electronics.smartphone|0          |-0.124539638482799   |120.7912962962963 |0.015202318601387176|\n",
      "|1005098   |2019-11-01 10:31:25|cart      |samsung  |139.64 |566291403|2cd25ec0-f674-4be9-84c5-4276032bda3d|0     |electronics|smartphone |NA     |NA   |2019-11-01 10:31:25|5      |1        |4         |1     |11      |2019   |2019-11-01|electronics.smartphone|0          |-0.124539638482799   |120.7903587962963 |0.015202812552112142|\n",
      "|1005098   |2019-11-01 10:32:31|cart      |samsung  |139.64 |566291403|2cd25ec0-f674-4be9-84c5-4276032bda3d|0     |electronics|smartphone |NA     |NA   |2019-11-01 10:32:31|5      |2        |4         |1     |11      |2019   |2019-11-01|electronics.smartphone|0          |-0.124539638482799   |120.7895949074074 |0.015203215042347002|\n",
      "|6301417   |2019-11-01 10:34:55|cart      |tefal    |46.31  |527519497|a3105b4a-4e5f-4116-92dd-7734876b7703|0     |appliances |kitchen    |kettle |NA   |2019-11-01 10:34:55|5      |4        |4         |1     |11      |2019   |2019-11-01|appliances.kitchen    |1          |-0.28841617241319323 |120.78792824074074|0.015204093239846932|\n",
      "|6301417   |2019-11-01 10:38:38|cart      |tefal    |46.31  |527519497|35d51809-c6bf-4e2f-bff8-60561676294b|0     |appliances |kitchen    |kettle |NA   |2019-11-01 10:38:38|5      |8        |4         |1     |11      |2019   |2019-11-01|appliances.kitchen    |1          |-0.28841617241319323 |120.78534722222223|0.015205453326361227|\n",
      "|3701088   |2019-11-01 10:44:36|cart      |bosch    |105.02 |515094302|15e2945b-a3c6-4d1c-a0b5-7e945b205bf5|0     |appliances |environment|vacuum |NA   |2019-11-01 10:44:36|5      |14       |4         |1     |11      |2019   |2019-11-01|appliances.environment|6          |-0.07874006094492968 |120.78120370370371|0.015207637038083777|\n",
      "|1005135   |2019-11-01 10:45:48|cart      |apple    |1665.36|521625064|c840d7f2-5c84-46ac-b6bf-6b7d949df3ff|0     |electronics|smartphone |NA     |NA   |2019-11-01 10:45:48|5      |15       |4         |1     |11      |2019   |2019-11-01|electronics.smartphone|0          |3.7355110811067402   |120.78037037037036|0.015208076258207004|\n",
      "|1004739   |2019-11-01 10:47:22|cart      |xiaomi   |203.09 |533186776|a375c544-96ca-4793-b184-130b673b9618|0     |electronics|smartphone |NA     |NA   |2019-11-01 10:47:22|5      |17       |4         |1     |11      |2019   |2019-11-01|electronics.smartphone|0          |0.012039021106350339 |120.77928240740741|0.01520864970357069 |\n",
      "|1005253   |2019-11-01 10:47:54|cart      |xiaomi   |308.44 |530888393|4646aef5-4679-44eb-9b3a-d086926ee85a|0     |electronics|smartphone |NA     |NA   |2019-11-01 10:47:54|5      |17       |4         |1     |11      |2019   |2019-11-01|electronics.smartphone|0          |0.24888777548757957  |120.77891203703703|0.015208844923946993|\n",
      "|1004739   |2019-11-01 10:53:28|cart      |xiaomi   |203.09 |519085622|ede8cfa3-70e2-4a87-af96-2551a5662b7b|0     |electronics|smartphone |NA     |NA   |2019-11-01 10:53:28|5      |23       |4         |1     |11      |2019   |2019-11-01|electronics.smartphone|0          |0.012039021106350339 |120.7750462962963 |0.015210882686205065|\n",
      "|1005017   |2019-11-01 10:55:07|cart      |huawei   |91.32  |566327011|3e8d29be-1454-4dea-8455-d57ee6ae1f30|0     |electronics|smartphone |NA     |NA   |2019-11-01 10:55:07|5      |25       |4         |1     |11      |2019   |2019-11-01|electronics.smartphone|0          |-0.24880754368089927 |120.77390046296296|0.015211486746037216|\n",
      "|1005159   |2019-11-01 10:56:22|cart      |xiaomi   |212.10 |548680520|adef46da-04f2-401d-b20d-9b05b81b1100|0     |electronics|smartphone |NA     |NA   |2019-11-01 10:56:22|5      |26       |4         |1     |11      |2019   |2019-11-01|electronics.smartphone|0          |0.04230247099810983  |120.77303240740741|0.015211944383092509|\n",
      "|1005098   |2019-11-01 10:56:48|cart      |samsung  |139.64 |550514305|623cdb01-e58d-4573-a926-aa7cffe285f5|0     |electronics|smartphone |NA     |NA   |2019-11-01 10:56:48|5      |26       |4         |1     |11      |2019   |2019-11-01|electronics.smartphone|0          |-0.124539638482799   |120.77273148148149|0.015212103033818763|\n",
      "|1005159   |2019-11-01 11:01:14|cart      |xiaomi   |212.10 |548680520|adef46da-04f2-401d-b20d-9b05b81b1100|0     |electronics|smartphone |NA     |NA   |2019-11-01 11:01:14|5      |31       |4         |1     |11      |2019   |2019-11-01|electronics.smartphone|0          |0.04230247099810983  |120.76965277777778|0.01521372624784796 |\n",
      "|1005159   |2019-11-01 11:01:29|cart      |xiaomi   |212.10 |548680520|adef46da-04f2-401d-b20d-9b05b81b1100|0     |electronics|smartphone |NA     |NA   |2019-11-01 11:01:29|5      |31       |4         |1     |11      |2019   |2019-11-01|electronics.smartphone|0          |0.04230247099810983  |120.76947916666667|0.015213817787632507|\n",
      "|1005098   |2019-11-01 11:03:55|cart      |samsung  |139.64 |565656736|46e03951-3975-425d-afa7-2bfaa818befb|0     |electronics|smartphone |NA     |NA   |2019-11-01 11:03:55|5      |33       |4         |1     |11      |2019   |2019-11-01|electronics.smartphone|0          |-0.124539638482799   |120.76778935185185|0.01521470880363996 |\n",
      "|1005098   |2019-11-01 11:07:43|cart      |samsung  |139.64 |517238931|c74fd5f6-b79c-4071-8679-29b17a44b44f|0     |electronics|smartphone |NA     |NA   |2019-11-01 11:07:43|5      |37       |4         |1     |11      |2019   |2019-11-01|electronics.smartphone|0          |-0.124539638482799   |120.76515046296296|0.015216100357673273|\n",
      "+----------+-------------------+----------+---------+-------+---------+------------------------------------+------+-----------+-----------+-------+-----+-------------------+-------+---------+----------+------+--------+-------+----------+----------------------+-----------+---------------------+------------------+--------------------+\n",
      "only showing top 50 rows\n",
      "\n"
     ]
    }
   ],
   "source": [
    "df_new.show(n=50, truncate=False)"
   ]
  },
  {
   "cell_type": "markdown",
   "metadata": {},
   "source": [
    "### Recommend Products for Users"
   ]
  },
  {
   "cell_type": "code",
   "execution_count": 57,
   "metadata": {},
   "outputs": [],
   "source": [
    "# 3 random users\n",
    "user_subset = [559369947, 514673131, 512411198]\n",
    "\n",
    "# Recommend top 500 products for the users\n",
    "recommendations = sc.createDataFrame([(user, 0) for user in user_subset], ['user_id', 'product_id'])\n",
    "recommendations = als_model.recommendForUserSubset(recommendations, 500)"
   ]
  },
  {
   "cell_type": "code",
   "execution_count": 58,
   "metadata": {},
   "outputs": [
    {
     "ename": "Py4JJavaError",
     "evalue": "An error occurred while calling o968.showString.\n: org.apache.spark.SparkException: Job aborted due to stage failure: Task 1 in stage 823.0 failed 1 times, most recent failure: Lost task 1.0 in stage 823.0 (TID 1395) (10.184.16.101 executor driver): org.apache.spark.SparkException: Python worker failed to connect back.\r\n\tat org.apache.spark.api.python.PythonWorkerFactory.createSimpleWorker(PythonWorkerFactory.scala:192)\r\n\tat org.apache.spark.api.python.PythonWorkerFactory.create(PythonWorkerFactory.scala:109)\r\n\tat org.apache.spark.SparkEnv.createPythonWorker(SparkEnv.scala:124)\r\n\tat org.apache.spark.api.python.BasePythonRunner.compute(PythonRunner.scala:166)\r\n\tat org.apache.spark.api.python.PythonRDD.compute(PythonRDD.scala:65)\r\n\tat org.apache.spark.rdd.RDD.computeOrReadCheckpoint(RDD.scala:364)\r\n\tat org.apache.spark.rdd.RDD.iterator(RDD.scala:328)\r\n\tat org.apache.spark.rdd.MapPartitionsRDD.compute(MapPartitionsRDD.scala:52)\r\n\tat org.apache.spark.rdd.RDD.computeOrReadCheckpoint(RDD.scala:364)\r\n\tat org.apache.spark.rdd.RDD.iterator(RDD.scala:328)\r\n\tat org.apache.spark.rdd.MapPartitionsRDD.compute(MapPartitionsRDD.scala:52)\r\n\tat org.apache.spark.rdd.RDD.computeOrReadCheckpoint(RDD.scala:364)\r\n\tat org.apache.spark.rdd.RDD.iterator(RDD.scala:328)\r\n\tat org.apache.spark.rdd.MapPartitionsRDD.compute(MapPartitionsRDD.scala:52)\r\n\tat org.apache.spark.rdd.RDD.computeOrReadCheckpoint(RDD.scala:364)\r\n\tat org.apache.spark.rdd.RDD.iterator(RDD.scala:328)\r\n\tat org.apache.spark.rdd.MapPartitionsRDD.compute(MapPartitionsRDD.scala:52)\r\n\tat org.apache.spark.rdd.RDD.computeOrReadCheckpoint(RDD.scala:364)\r\n\tat org.apache.spark.rdd.RDD.iterator(RDD.scala:328)\r\n\tat org.apache.spark.rdd.MapPartitionsRDD.compute(MapPartitionsRDD.scala:52)\r\n\tat org.apache.spark.rdd.RDD.computeOrReadCheckpoint(RDD.scala:364)\r\n\tat org.apache.spark.rdd.RDD.iterator(RDD.scala:328)\r\n\tat org.apache.spark.shuffle.ShuffleWriteProcessor.write(ShuffleWriteProcessor.scala:59)\r\n\tat org.apache.spark.scheduler.ShuffleMapTask.runTask(ShuffleMapTask.scala:101)\r\n\tat org.apache.spark.scheduler.ShuffleMapTask.runTask(ShuffleMapTask.scala:53)\r\n\tat org.apache.spark.TaskContext.runTaskWithListeners(TaskContext.scala:161)\r\n\tat org.apache.spark.scheduler.Task.run(Task.scala:139)\r\n\tat org.apache.spark.executor.Executor$TaskRunner.$anonfun$run$3(Executor.scala:554)\r\n\tat org.apache.spark.util.Utils$.tryWithSafeFinally(Utils.scala:1529)\r\n\tat org.apache.spark.executor.Executor$TaskRunner.run(Executor.scala:557)\r\n\tat java.base/java.util.concurrent.ThreadPoolExecutor.runWorker(ThreadPoolExecutor.java:1144)\r\n\tat java.base/java.util.concurrent.ThreadPoolExecutor$Worker.run(ThreadPoolExecutor.java:642)\r\n\tat java.base/java.lang.Thread.run(Thread.java:1623)\r\nCaused by: java.net.SocketTimeoutException: Accept timed out\r\n\tat java.base/sun.nio.ch.NioSocketImpl.timedAccept(NioSocketImpl.java:694)\r\n\tat java.base/sun.nio.ch.NioSocketImpl.accept(NioSocketImpl.java:738)\r\n\tat java.base/java.net.ServerSocket.implAccept(ServerSocket.java:690)\r\n\tat java.base/java.net.ServerSocket.platformImplAccept(ServerSocket.java:655)\r\n\tat java.base/java.net.ServerSocket.implAccept(ServerSocket.java:631)\r\n\tat java.base/java.net.ServerSocket.implAccept(ServerSocket.java:588)\r\n\tat java.base/java.net.ServerSocket.accept(ServerSocket.java:546)\r\n\tat org.apache.spark.api.python.PythonWorkerFactory.createSimpleWorker(PythonWorkerFactory.scala:179)\r\n\t... 32 more\r\n\nDriver stacktrace:\r\n\tat org.apache.spark.scheduler.DAGScheduler.failJobAndIndependentStages(DAGScheduler.scala:2785)\r\n\tat org.apache.spark.scheduler.DAGScheduler.$anonfun$abortStage$2(DAGScheduler.scala:2721)\r\n\tat org.apache.spark.scheduler.DAGScheduler.$anonfun$abortStage$2$adapted(DAGScheduler.scala:2720)\r\n\tat scala.collection.mutable.ResizableArray.foreach(ResizableArray.scala:62)\r\n\tat scala.collection.mutable.ResizableArray.foreach$(ResizableArray.scala:55)\r\n\tat scala.collection.mutable.ArrayBuffer.foreach(ArrayBuffer.scala:49)\r\n\tat org.apache.spark.scheduler.DAGScheduler.abortStage(DAGScheduler.scala:2720)\r\n\tat org.apache.spark.scheduler.DAGScheduler.$anonfun$handleTaskSetFailed$1(DAGScheduler.scala:1206)\r\n\tat org.apache.spark.scheduler.DAGScheduler.$anonfun$handleTaskSetFailed$1$adapted(DAGScheduler.scala:1206)\r\n\tat scala.Option.foreach(Option.scala:407)\r\n\tat org.apache.spark.scheduler.DAGScheduler.handleTaskSetFailed(DAGScheduler.scala:1206)\r\n\tat org.apache.spark.scheduler.DAGSchedulerEventProcessLoop.doOnReceive(DAGScheduler.scala:2984)\r\n\tat org.apache.spark.scheduler.DAGSchedulerEventProcessLoop.onReceive(DAGScheduler.scala:2923)\r\n\tat org.apache.spark.scheduler.DAGSchedulerEventProcessLoop.onReceive(DAGScheduler.scala:2912)\r\n\tat org.apache.spark.util.EventLoop$$anon$1.run(EventLoop.scala:49)\r\nCaused by: org.apache.spark.SparkException: Python worker failed to connect back.\r\n\tat org.apache.spark.api.python.PythonWorkerFactory.createSimpleWorker(PythonWorkerFactory.scala:192)\r\n\tat org.apache.spark.api.python.PythonWorkerFactory.create(PythonWorkerFactory.scala:109)\r\n\tat org.apache.spark.SparkEnv.createPythonWorker(SparkEnv.scala:124)\r\n\tat org.apache.spark.api.python.BasePythonRunner.compute(PythonRunner.scala:166)\r\n\tat org.apache.spark.api.python.PythonRDD.compute(PythonRDD.scala:65)\r\n\tat org.apache.spark.rdd.RDD.computeOrReadCheckpoint(RDD.scala:364)\r\n\tat org.apache.spark.rdd.RDD.iterator(RDD.scala:328)\r\n\tat org.apache.spark.rdd.MapPartitionsRDD.compute(MapPartitionsRDD.scala:52)\r\n\tat org.apache.spark.rdd.RDD.computeOrReadCheckpoint(RDD.scala:364)\r\n\tat org.apache.spark.rdd.RDD.iterator(RDD.scala:328)\r\n\tat org.apache.spark.rdd.MapPartitionsRDD.compute(MapPartitionsRDD.scala:52)\r\n\tat org.apache.spark.rdd.RDD.computeOrReadCheckpoint(RDD.scala:364)\r\n\tat org.apache.spark.rdd.RDD.iterator(RDD.scala:328)\r\n\tat org.apache.spark.rdd.MapPartitionsRDD.compute(MapPartitionsRDD.scala:52)\r\n\tat org.apache.spark.rdd.RDD.computeOrReadCheckpoint(RDD.scala:364)\r\n\tat org.apache.spark.rdd.RDD.iterator(RDD.scala:328)\r\n\tat org.apache.spark.rdd.MapPartitionsRDD.compute(MapPartitionsRDD.scala:52)\r\n\tat org.apache.spark.rdd.RDD.computeOrReadCheckpoint(RDD.scala:364)\r\n\tat org.apache.spark.rdd.RDD.iterator(RDD.scala:328)\r\n\tat org.apache.spark.rdd.MapPartitionsRDD.compute(MapPartitionsRDD.scala:52)\r\n\tat org.apache.spark.rdd.RDD.computeOrReadCheckpoint(RDD.scala:364)\r\n\tat org.apache.spark.rdd.RDD.iterator(RDD.scala:328)\r\n\tat org.apache.spark.shuffle.ShuffleWriteProcessor.write(ShuffleWriteProcessor.scala:59)\r\n\tat org.apache.spark.scheduler.ShuffleMapTask.runTask(ShuffleMapTask.scala:101)\r\n\tat org.apache.spark.scheduler.ShuffleMapTask.runTask(ShuffleMapTask.scala:53)\r\n\tat org.apache.spark.TaskContext.runTaskWithListeners(TaskContext.scala:161)\r\n\tat org.apache.spark.scheduler.Task.run(Task.scala:139)\r\n\tat org.apache.spark.executor.Executor$TaskRunner.$anonfun$run$3(Executor.scala:554)\r\n\tat org.apache.spark.util.Utils$.tryWithSafeFinally(Utils.scala:1529)\r\n\tat org.apache.spark.executor.Executor$TaskRunner.run(Executor.scala:557)\r\n\tat java.base/java.util.concurrent.ThreadPoolExecutor.runWorker(ThreadPoolExecutor.java:1144)\r\n\tat java.base/java.util.concurrent.ThreadPoolExecutor$Worker.run(ThreadPoolExecutor.java:642)\r\n\tat java.base/java.lang.Thread.run(Thread.java:1623)\r\nCaused by: java.net.SocketTimeoutException: Accept timed out\r\n\tat java.base/sun.nio.ch.NioSocketImpl.timedAccept(NioSocketImpl.java:694)\r\n\tat java.base/sun.nio.ch.NioSocketImpl.accept(NioSocketImpl.java:738)\r\n\tat java.base/java.net.ServerSocket.implAccept(ServerSocket.java:690)\r\n\tat java.base/java.net.ServerSocket.platformImplAccept(ServerSocket.java:655)\r\n\tat java.base/java.net.ServerSocket.implAccept(ServerSocket.java:631)\r\n\tat java.base/java.net.ServerSocket.implAccept(ServerSocket.java:588)\r\n\tat java.base/java.net.ServerSocket.accept(ServerSocket.java:546)\r\n\tat org.apache.spark.api.python.PythonWorkerFactory.createSimpleWorker(PythonWorkerFactory.scala:179)\r\n\t... 32 more\r\n",
     "output_type": "error",
     "traceback": [
      "\u001b[1;31m---------------------------------------------------------------------------\u001b[0m",
      "\u001b[1;31mPy4JJavaError\u001b[0m                             Traceback (most recent call last)",
      "Cell \u001b[1;32mIn[58], line 1\u001b[0m\n\u001b[1;32m----> 1\u001b[0m recommendations\u001b[39m.\u001b[39;49mshow()\n",
      "File \u001b[1;32mc:\\Users\\DELL\\AppData\\Local\\Programs\\Python\\Python311\\Lib\\site-packages\\pyspark\\sql\\dataframe.py:899\u001b[0m, in \u001b[0;36mDataFrame.show\u001b[1;34m(self, n, truncate, vertical)\u001b[0m\n\u001b[0;32m    893\u001b[0m     \u001b[39mraise\u001b[39;00m PySparkTypeError(\n\u001b[0;32m    894\u001b[0m         error_class\u001b[39m=\u001b[39m\u001b[39m\"\u001b[39m\u001b[39mNOT_BOOL\u001b[39m\u001b[39m\"\u001b[39m,\n\u001b[0;32m    895\u001b[0m         message_parameters\u001b[39m=\u001b[39m{\u001b[39m\"\u001b[39m\u001b[39marg_name\u001b[39m\u001b[39m\"\u001b[39m: \u001b[39m\"\u001b[39m\u001b[39mvertical\u001b[39m\u001b[39m\"\u001b[39m, \u001b[39m\"\u001b[39m\u001b[39marg_type\u001b[39m\u001b[39m\"\u001b[39m: \u001b[39mtype\u001b[39m(vertical)\u001b[39m.\u001b[39m\u001b[39m__name__\u001b[39m},\n\u001b[0;32m    896\u001b[0m     )\n\u001b[0;32m    898\u001b[0m \u001b[39mif\u001b[39;00m \u001b[39misinstance\u001b[39m(truncate, \u001b[39mbool\u001b[39m) \u001b[39mand\u001b[39;00m truncate:\n\u001b[1;32m--> 899\u001b[0m     \u001b[39mprint\u001b[39m(\u001b[39mself\u001b[39;49m\u001b[39m.\u001b[39;49m_jdf\u001b[39m.\u001b[39;49mshowString(n, \u001b[39m20\u001b[39;49m, vertical))\n\u001b[0;32m    900\u001b[0m \u001b[39melse\u001b[39;00m:\n\u001b[0;32m    901\u001b[0m     \u001b[39mtry\u001b[39;00m:\n",
      "File \u001b[1;32mc:\\Users\\DELL\\AppData\\Local\\Programs\\Python\\Python311\\Lib\\site-packages\\py4j\\java_gateway.py:1322\u001b[0m, in \u001b[0;36mJavaMember.__call__\u001b[1;34m(self, *args)\u001b[0m\n\u001b[0;32m   1316\u001b[0m command \u001b[39m=\u001b[39m proto\u001b[39m.\u001b[39mCALL_COMMAND_NAME \u001b[39m+\u001b[39m\\\n\u001b[0;32m   1317\u001b[0m     \u001b[39mself\u001b[39m\u001b[39m.\u001b[39mcommand_header \u001b[39m+\u001b[39m\\\n\u001b[0;32m   1318\u001b[0m     args_command \u001b[39m+\u001b[39m\\\n\u001b[0;32m   1319\u001b[0m     proto\u001b[39m.\u001b[39mEND_COMMAND_PART\n\u001b[0;32m   1321\u001b[0m answer \u001b[39m=\u001b[39m \u001b[39mself\u001b[39m\u001b[39m.\u001b[39mgateway_client\u001b[39m.\u001b[39msend_command(command)\n\u001b[1;32m-> 1322\u001b[0m return_value \u001b[39m=\u001b[39m get_return_value(\n\u001b[0;32m   1323\u001b[0m     answer, \u001b[39mself\u001b[39;49m\u001b[39m.\u001b[39;49mgateway_client, \u001b[39mself\u001b[39;49m\u001b[39m.\u001b[39;49mtarget_id, \u001b[39mself\u001b[39;49m\u001b[39m.\u001b[39;49mname)\n\u001b[0;32m   1325\u001b[0m \u001b[39mfor\u001b[39;00m temp_arg \u001b[39min\u001b[39;00m temp_args:\n\u001b[0;32m   1326\u001b[0m     \u001b[39mif\u001b[39;00m \u001b[39mhasattr\u001b[39m(temp_arg, \u001b[39m\"\u001b[39m\u001b[39m_detach\u001b[39m\u001b[39m\"\u001b[39m):\n",
      "File \u001b[1;32mc:\\Users\\DELL\\AppData\\Local\\Programs\\Python\\Python311\\Lib\\site-packages\\pyspark\\errors\\exceptions\\captured.py:169\u001b[0m, in \u001b[0;36mcapture_sql_exception.<locals>.deco\u001b[1;34m(*a, **kw)\u001b[0m\n\u001b[0;32m    167\u001b[0m \u001b[39mdef\u001b[39;00m \u001b[39mdeco\u001b[39m(\u001b[39m*\u001b[39ma: Any, \u001b[39m*\u001b[39m\u001b[39m*\u001b[39mkw: Any) \u001b[39m-\u001b[39m\u001b[39m>\u001b[39m Any:\n\u001b[0;32m    168\u001b[0m     \u001b[39mtry\u001b[39;00m:\n\u001b[1;32m--> 169\u001b[0m         \u001b[39mreturn\u001b[39;00m f(\u001b[39m*\u001b[39;49ma, \u001b[39m*\u001b[39;49m\u001b[39m*\u001b[39;49mkw)\n\u001b[0;32m    170\u001b[0m     \u001b[39mexcept\u001b[39;00m Py4JJavaError \u001b[39mas\u001b[39;00m e:\n\u001b[0;32m    171\u001b[0m         converted \u001b[39m=\u001b[39m convert_exception(e\u001b[39m.\u001b[39mjava_exception)\n",
      "File \u001b[1;32mc:\\Users\\DELL\\AppData\\Local\\Programs\\Python\\Python311\\Lib\\site-packages\\py4j\\protocol.py:326\u001b[0m, in \u001b[0;36mget_return_value\u001b[1;34m(answer, gateway_client, target_id, name)\u001b[0m\n\u001b[0;32m    324\u001b[0m value \u001b[39m=\u001b[39m OUTPUT_CONVERTER[\u001b[39mtype\u001b[39m](answer[\u001b[39m2\u001b[39m:], gateway_client)\n\u001b[0;32m    325\u001b[0m \u001b[39mif\u001b[39;00m answer[\u001b[39m1\u001b[39m] \u001b[39m==\u001b[39m REFERENCE_TYPE:\n\u001b[1;32m--> 326\u001b[0m     \u001b[39mraise\u001b[39;00m Py4JJavaError(\n\u001b[0;32m    327\u001b[0m         \u001b[39m\"\u001b[39m\u001b[39mAn error occurred while calling \u001b[39m\u001b[39m{0}\u001b[39;00m\u001b[39m{1}\u001b[39;00m\u001b[39m{2}\u001b[39;00m\u001b[39m.\u001b[39m\u001b[39m\\n\u001b[39;00m\u001b[39m\"\u001b[39m\u001b[39m.\u001b[39m\n\u001b[0;32m    328\u001b[0m         \u001b[39mformat\u001b[39m(target_id, \u001b[39m\"\u001b[39m\u001b[39m.\u001b[39m\u001b[39m\"\u001b[39m, name), value)\n\u001b[0;32m    329\u001b[0m \u001b[39melse\u001b[39;00m:\n\u001b[0;32m    330\u001b[0m     \u001b[39mraise\u001b[39;00m Py4JError(\n\u001b[0;32m    331\u001b[0m         \u001b[39m\"\u001b[39m\u001b[39mAn error occurred while calling \u001b[39m\u001b[39m{0}\u001b[39;00m\u001b[39m{1}\u001b[39;00m\u001b[39m{2}\u001b[39;00m\u001b[39m. Trace:\u001b[39m\u001b[39m\\n\u001b[39;00m\u001b[39m{3}\u001b[39;00m\u001b[39m\\n\u001b[39;00m\u001b[39m\"\u001b[39m\u001b[39m.\u001b[39m\n\u001b[0;32m    332\u001b[0m         \u001b[39mformat\u001b[39m(target_id, \u001b[39m\"\u001b[39m\u001b[39m.\u001b[39m\u001b[39m\"\u001b[39m, name, value))\n",
      "\u001b[1;31mPy4JJavaError\u001b[0m: An error occurred while calling o968.showString.\n: org.apache.spark.SparkException: Job aborted due to stage failure: Task 1 in stage 823.0 failed 1 times, most recent failure: Lost task 1.0 in stage 823.0 (TID 1395) (10.184.16.101 executor driver): org.apache.spark.SparkException: Python worker failed to connect back.\r\n\tat org.apache.spark.api.python.PythonWorkerFactory.createSimpleWorker(PythonWorkerFactory.scala:192)\r\n\tat org.apache.spark.api.python.PythonWorkerFactory.create(PythonWorkerFactory.scala:109)\r\n\tat org.apache.spark.SparkEnv.createPythonWorker(SparkEnv.scala:124)\r\n\tat org.apache.spark.api.python.BasePythonRunner.compute(PythonRunner.scala:166)\r\n\tat org.apache.spark.api.python.PythonRDD.compute(PythonRDD.scala:65)\r\n\tat org.apache.spark.rdd.RDD.computeOrReadCheckpoint(RDD.scala:364)\r\n\tat org.apache.spark.rdd.RDD.iterator(RDD.scala:328)\r\n\tat org.apache.spark.rdd.MapPartitionsRDD.compute(MapPartitionsRDD.scala:52)\r\n\tat org.apache.spark.rdd.RDD.computeOrReadCheckpoint(RDD.scala:364)\r\n\tat org.apache.spark.rdd.RDD.iterator(RDD.scala:328)\r\n\tat org.apache.spark.rdd.MapPartitionsRDD.compute(MapPartitionsRDD.scala:52)\r\n\tat org.apache.spark.rdd.RDD.computeOrReadCheckpoint(RDD.scala:364)\r\n\tat org.apache.spark.rdd.RDD.iterator(RDD.scala:328)\r\n\tat org.apache.spark.rdd.MapPartitionsRDD.compute(MapPartitionsRDD.scala:52)\r\n\tat org.apache.spark.rdd.RDD.computeOrReadCheckpoint(RDD.scala:364)\r\n\tat org.apache.spark.rdd.RDD.iterator(RDD.scala:328)\r\n\tat org.apache.spark.rdd.MapPartitionsRDD.compute(MapPartitionsRDD.scala:52)\r\n\tat org.apache.spark.rdd.RDD.computeOrReadCheckpoint(RDD.scala:364)\r\n\tat org.apache.spark.rdd.RDD.iterator(RDD.scala:328)\r\n\tat org.apache.spark.rdd.MapPartitionsRDD.compute(MapPartitionsRDD.scala:52)\r\n\tat org.apache.spark.rdd.RDD.computeOrReadCheckpoint(RDD.scala:364)\r\n\tat org.apache.spark.rdd.RDD.iterator(RDD.scala:328)\r\n\tat org.apache.spark.shuffle.ShuffleWriteProcessor.write(ShuffleWriteProcessor.scala:59)\r\n\tat org.apache.spark.scheduler.ShuffleMapTask.runTask(ShuffleMapTask.scala:101)\r\n\tat org.apache.spark.scheduler.ShuffleMapTask.runTask(ShuffleMapTask.scala:53)\r\n\tat org.apache.spark.TaskContext.runTaskWithListeners(TaskContext.scala:161)\r\n\tat org.apache.spark.scheduler.Task.run(Task.scala:139)\r\n\tat org.apache.spark.executor.Executor$TaskRunner.$anonfun$run$3(Executor.scala:554)\r\n\tat org.apache.spark.util.Utils$.tryWithSafeFinally(Utils.scala:1529)\r\n\tat org.apache.spark.executor.Executor$TaskRunner.run(Executor.scala:557)\r\n\tat java.base/java.util.concurrent.ThreadPoolExecutor.runWorker(ThreadPoolExecutor.java:1144)\r\n\tat java.base/java.util.concurrent.ThreadPoolExecutor$Worker.run(ThreadPoolExecutor.java:642)\r\n\tat java.base/java.lang.Thread.run(Thread.java:1623)\r\nCaused by: java.net.SocketTimeoutException: Accept timed out\r\n\tat java.base/sun.nio.ch.NioSocketImpl.timedAccept(NioSocketImpl.java:694)\r\n\tat java.base/sun.nio.ch.NioSocketImpl.accept(NioSocketImpl.java:738)\r\n\tat java.base/java.net.ServerSocket.implAccept(ServerSocket.java:690)\r\n\tat java.base/java.net.ServerSocket.platformImplAccept(ServerSocket.java:655)\r\n\tat java.base/java.net.ServerSocket.implAccept(ServerSocket.java:631)\r\n\tat java.base/java.net.ServerSocket.implAccept(ServerSocket.java:588)\r\n\tat java.base/java.net.ServerSocket.accept(ServerSocket.java:546)\r\n\tat org.apache.spark.api.python.PythonWorkerFactory.createSimpleWorker(PythonWorkerFactory.scala:179)\r\n\t... 32 more\r\n\nDriver stacktrace:\r\n\tat org.apache.spark.scheduler.DAGScheduler.failJobAndIndependentStages(DAGScheduler.scala:2785)\r\n\tat org.apache.spark.scheduler.DAGScheduler.$anonfun$abortStage$2(DAGScheduler.scala:2721)\r\n\tat org.apache.spark.scheduler.DAGScheduler.$anonfun$abortStage$2$adapted(DAGScheduler.scala:2720)\r\n\tat scala.collection.mutable.ResizableArray.foreach(ResizableArray.scala:62)\r\n\tat scala.collection.mutable.ResizableArray.foreach$(ResizableArray.scala:55)\r\n\tat scala.collection.mutable.ArrayBuffer.foreach(ArrayBuffer.scala:49)\r\n\tat org.apache.spark.scheduler.DAGScheduler.abortStage(DAGScheduler.scala:2720)\r\n\tat org.apache.spark.scheduler.DAGScheduler.$anonfun$handleTaskSetFailed$1(DAGScheduler.scala:1206)\r\n\tat org.apache.spark.scheduler.DAGScheduler.$anonfun$handleTaskSetFailed$1$adapted(DAGScheduler.scala:1206)\r\n\tat scala.Option.foreach(Option.scala:407)\r\n\tat org.apache.spark.scheduler.DAGScheduler.handleTaskSetFailed(DAGScheduler.scala:1206)\r\n\tat org.apache.spark.scheduler.DAGSchedulerEventProcessLoop.doOnReceive(DAGScheduler.scala:2984)\r\n\tat org.apache.spark.scheduler.DAGSchedulerEventProcessLoop.onReceive(DAGScheduler.scala:2923)\r\n\tat org.apache.spark.scheduler.DAGSchedulerEventProcessLoop.onReceive(DAGScheduler.scala:2912)\r\n\tat org.apache.spark.util.EventLoop$$anon$1.run(EventLoop.scala:49)\r\nCaused by: org.apache.spark.SparkException: Python worker failed to connect back.\r\n\tat org.apache.spark.api.python.PythonWorkerFactory.createSimpleWorker(PythonWorkerFactory.scala:192)\r\n\tat org.apache.spark.api.python.PythonWorkerFactory.create(PythonWorkerFactory.scala:109)\r\n\tat org.apache.spark.SparkEnv.createPythonWorker(SparkEnv.scala:124)\r\n\tat org.apache.spark.api.python.BasePythonRunner.compute(PythonRunner.scala:166)\r\n\tat org.apache.spark.api.python.PythonRDD.compute(PythonRDD.scala:65)\r\n\tat org.apache.spark.rdd.RDD.computeOrReadCheckpoint(RDD.scala:364)\r\n\tat org.apache.spark.rdd.RDD.iterator(RDD.scala:328)\r\n\tat org.apache.spark.rdd.MapPartitionsRDD.compute(MapPartitionsRDD.scala:52)\r\n\tat org.apache.spark.rdd.RDD.computeOrReadCheckpoint(RDD.scala:364)\r\n\tat org.apache.spark.rdd.RDD.iterator(RDD.scala:328)\r\n\tat org.apache.spark.rdd.MapPartitionsRDD.compute(MapPartitionsRDD.scala:52)\r\n\tat org.apache.spark.rdd.RDD.computeOrReadCheckpoint(RDD.scala:364)\r\n\tat org.apache.spark.rdd.RDD.iterator(RDD.scala:328)\r\n\tat org.apache.spark.rdd.MapPartitionsRDD.compute(MapPartitionsRDD.scala:52)\r\n\tat org.apache.spark.rdd.RDD.computeOrReadCheckpoint(RDD.scala:364)\r\n\tat org.apache.spark.rdd.RDD.iterator(RDD.scala:328)\r\n\tat org.apache.spark.rdd.MapPartitionsRDD.compute(MapPartitionsRDD.scala:52)\r\n\tat org.apache.spark.rdd.RDD.computeOrReadCheckpoint(RDD.scala:364)\r\n\tat org.apache.spark.rdd.RDD.iterator(RDD.scala:328)\r\n\tat org.apache.spark.rdd.MapPartitionsRDD.compute(MapPartitionsRDD.scala:52)\r\n\tat org.apache.spark.rdd.RDD.computeOrReadCheckpoint(RDD.scala:364)\r\n\tat org.apache.spark.rdd.RDD.iterator(RDD.scala:328)\r\n\tat org.apache.spark.shuffle.ShuffleWriteProcessor.write(ShuffleWriteProcessor.scala:59)\r\n\tat org.apache.spark.scheduler.ShuffleMapTask.runTask(ShuffleMapTask.scala:101)\r\n\tat org.apache.spark.scheduler.ShuffleMapTask.runTask(ShuffleMapTask.scala:53)\r\n\tat org.apache.spark.TaskContext.runTaskWithListeners(TaskContext.scala:161)\r\n\tat org.apache.spark.scheduler.Task.run(Task.scala:139)\r\n\tat org.apache.spark.executor.Executor$TaskRunner.$anonfun$run$3(Executor.scala:554)\r\n\tat org.apache.spark.util.Utils$.tryWithSafeFinally(Utils.scala:1529)\r\n\tat org.apache.spark.executor.Executor$TaskRunner.run(Executor.scala:557)\r\n\tat java.base/java.util.concurrent.ThreadPoolExecutor.runWorker(ThreadPoolExecutor.java:1144)\r\n\tat java.base/java.util.concurrent.ThreadPoolExecutor$Worker.run(ThreadPoolExecutor.java:642)\r\n\tat java.base/java.lang.Thread.run(Thread.java:1623)\r\nCaused by: java.net.SocketTimeoutException: Accept timed out\r\n\tat java.base/sun.nio.ch.NioSocketImpl.timedAccept(NioSocketImpl.java:694)\r\n\tat java.base/sun.nio.ch.NioSocketImpl.accept(NioSocketImpl.java:738)\r\n\tat java.base/java.net.ServerSocket.implAccept(ServerSocket.java:690)\r\n\tat java.base/java.net.ServerSocket.platformImplAccept(ServerSocket.java:655)\r\n\tat java.base/java.net.ServerSocket.implAccept(ServerSocket.java:631)\r\n\tat java.base/java.net.ServerSocket.implAccept(ServerSocket.java:588)\r\n\tat java.base/java.net.ServerSocket.accept(ServerSocket.java:546)\r\n\tat org.apache.spark.api.python.PythonWorkerFactory.createSimpleWorker(PythonWorkerFactory.scala:179)\r\n\t... 32 more\r\n"
     ]
    }
   ],
   "source": [
    "recommendations.show()"
   ]
  },
  {
   "cell_type": "code",
   "execution_count": 54,
   "metadata": {},
   "outputs": [
    {
     "ename": "Py4JJavaError",
     "evalue": "An error occurred while calling o906.collectToPython.\n: org.apache.spark.SparkException: Job aborted due to stage failure: Task 0 in stage 771.0 failed 1 times, most recent failure: Lost task 0.0 in stage 771.0 (TID 1350) (10.184.16.101 executor driver): org.apache.spark.SparkException: Python worker failed to connect back.\r\n\tat org.apache.spark.api.python.PythonWorkerFactory.createSimpleWorker(PythonWorkerFactory.scala:192)\r\n\tat org.apache.spark.api.python.PythonWorkerFactory.create(PythonWorkerFactory.scala:109)\r\n\tat org.apache.spark.SparkEnv.createPythonWorker(SparkEnv.scala:124)\r\n\tat org.apache.spark.api.python.BasePythonRunner.compute(PythonRunner.scala:166)\r\n\tat org.apache.spark.api.python.PythonRDD.compute(PythonRDD.scala:65)\r\n\tat org.apache.spark.rdd.RDD.computeOrReadCheckpoint(RDD.scala:364)\r\n\tat org.apache.spark.rdd.RDD.iterator(RDD.scala:328)\r\n\tat org.apache.spark.rdd.MapPartitionsRDD.compute(MapPartitionsRDD.scala:52)\r\n\tat org.apache.spark.rdd.RDD.computeOrReadCheckpoint(RDD.scala:364)\r\n\tat org.apache.spark.rdd.RDD.iterator(RDD.scala:328)\r\n\tat org.apache.spark.rdd.MapPartitionsRDD.compute(MapPartitionsRDD.scala:52)\r\n\tat org.apache.spark.rdd.RDD.computeOrReadCheckpoint(RDD.scala:364)\r\n\tat org.apache.spark.rdd.RDD.iterator(RDD.scala:328)\r\n\tat org.apache.spark.rdd.MapPartitionsRDD.compute(MapPartitionsRDD.scala:52)\r\n\tat org.apache.spark.rdd.RDD.computeOrReadCheckpoint(RDD.scala:364)\r\n\tat org.apache.spark.rdd.RDD.iterator(RDD.scala:328)\r\n\tat org.apache.spark.rdd.MapPartitionsRDD.compute(MapPartitionsRDD.scala:52)\r\n\tat org.apache.spark.rdd.RDD.computeOrReadCheckpoint(RDD.scala:364)\r\n\tat org.apache.spark.rdd.RDD.iterator(RDD.scala:328)\r\n\tat org.apache.spark.rdd.MapPartitionsRDD.compute(MapPartitionsRDD.scala:52)\r\n\tat org.apache.spark.rdd.RDD.computeOrReadCheckpoint(RDD.scala:364)\r\n\tat org.apache.spark.rdd.RDD.iterator(RDD.scala:328)\r\n\tat org.apache.spark.shuffle.ShuffleWriteProcessor.write(ShuffleWriteProcessor.scala:59)\r\n\tat org.apache.spark.scheduler.ShuffleMapTask.runTask(ShuffleMapTask.scala:101)\r\n\tat org.apache.spark.scheduler.ShuffleMapTask.runTask(ShuffleMapTask.scala:53)\r\n\tat org.apache.spark.TaskContext.runTaskWithListeners(TaskContext.scala:161)\r\n\tat org.apache.spark.scheduler.Task.run(Task.scala:139)\r\n\tat org.apache.spark.executor.Executor$TaskRunner.$anonfun$run$3(Executor.scala:554)\r\n\tat org.apache.spark.util.Utils$.tryWithSafeFinally(Utils.scala:1529)\r\n\tat org.apache.spark.executor.Executor$TaskRunner.run(Executor.scala:557)\r\n\tat java.base/java.util.concurrent.ThreadPoolExecutor.runWorker(ThreadPoolExecutor.java:1144)\r\n\tat java.base/java.util.concurrent.ThreadPoolExecutor$Worker.run(ThreadPoolExecutor.java:642)\r\n\tat java.base/java.lang.Thread.run(Thread.java:1623)\r\nCaused by: java.net.SocketTimeoutException: Accept timed out\r\n\tat java.base/sun.nio.ch.NioSocketImpl.timedAccept(NioSocketImpl.java:694)\r\n\tat java.base/sun.nio.ch.NioSocketImpl.accept(NioSocketImpl.java:738)\r\n\tat java.base/java.net.ServerSocket.implAccept(ServerSocket.java:690)\r\n\tat java.base/java.net.ServerSocket.platformImplAccept(ServerSocket.java:655)\r\n\tat java.base/java.net.ServerSocket.implAccept(ServerSocket.java:631)\r\n\tat java.base/java.net.ServerSocket.implAccept(ServerSocket.java:588)\r\n\tat java.base/java.net.ServerSocket.accept(ServerSocket.java:546)\r\n\tat org.apache.spark.api.python.PythonWorkerFactory.createSimpleWorker(PythonWorkerFactory.scala:179)\r\n\t... 32 more\r\n\nDriver stacktrace:\r\n\tat org.apache.spark.scheduler.DAGScheduler.failJobAndIndependentStages(DAGScheduler.scala:2785)\r\n\tat org.apache.spark.scheduler.DAGScheduler.$anonfun$abortStage$2(DAGScheduler.scala:2721)\r\n\tat org.apache.spark.scheduler.DAGScheduler.$anonfun$abortStage$2$adapted(DAGScheduler.scala:2720)\r\n\tat scala.collection.mutable.ResizableArray.foreach(ResizableArray.scala:62)\r\n\tat scala.collection.mutable.ResizableArray.foreach$(ResizableArray.scala:55)\r\n\tat scala.collection.mutable.ArrayBuffer.foreach(ArrayBuffer.scala:49)\r\n\tat org.apache.spark.scheduler.DAGScheduler.abortStage(DAGScheduler.scala:2720)\r\n\tat org.apache.spark.scheduler.DAGScheduler.$anonfun$handleTaskSetFailed$1(DAGScheduler.scala:1206)\r\n\tat org.apache.spark.scheduler.DAGScheduler.$anonfun$handleTaskSetFailed$1$adapted(DAGScheduler.scala:1206)\r\n\tat scala.Option.foreach(Option.scala:407)\r\n\tat org.apache.spark.scheduler.DAGScheduler.handleTaskSetFailed(DAGScheduler.scala:1206)\r\n\tat org.apache.spark.scheduler.DAGSchedulerEventProcessLoop.doOnReceive(DAGScheduler.scala:2984)\r\n\tat org.apache.spark.scheduler.DAGSchedulerEventProcessLoop.onReceive(DAGScheduler.scala:2923)\r\n\tat org.apache.spark.scheduler.DAGSchedulerEventProcessLoop.onReceive(DAGScheduler.scala:2912)\r\n\tat org.apache.spark.util.EventLoop$$anon$1.run(EventLoop.scala:49)\r\nCaused by: org.apache.spark.SparkException: Python worker failed to connect back.\r\n\tat org.apache.spark.api.python.PythonWorkerFactory.createSimpleWorker(PythonWorkerFactory.scala:192)\r\n\tat org.apache.spark.api.python.PythonWorkerFactory.create(PythonWorkerFactory.scala:109)\r\n\tat org.apache.spark.SparkEnv.createPythonWorker(SparkEnv.scala:124)\r\n\tat org.apache.spark.api.python.BasePythonRunner.compute(PythonRunner.scala:166)\r\n\tat org.apache.spark.api.python.PythonRDD.compute(PythonRDD.scala:65)\r\n\tat org.apache.spark.rdd.RDD.computeOrReadCheckpoint(RDD.scala:364)\r\n\tat org.apache.spark.rdd.RDD.iterator(RDD.scala:328)\r\n\tat org.apache.spark.rdd.MapPartitionsRDD.compute(MapPartitionsRDD.scala:52)\r\n\tat org.apache.spark.rdd.RDD.computeOrReadCheckpoint(RDD.scala:364)\r\n\tat org.apache.spark.rdd.RDD.iterator(RDD.scala:328)\r\n\tat org.apache.spark.rdd.MapPartitionsRDD.compute(MapPartitionsRDD.scala:52)\r\n\tat org.apache.spark.rdd.RDD.computeOrReadCheckpoint(RDD.scala:364)\r\n\tat org.apache.spark.rdd.RDD.iterator(RDD.scala:328)\r\n\tat org.apache.spark.rdd.MapPartitionsRDD.compute(MapPartitionsRDD.scala:52)\r\n\tat org.apache.spark.rdd.RDD.computeOrReadCheckpoint(RDD.scala:364)\r\n\tat org.apache.spark.rdd.RDD.iterator(RDD.scala:328)\r\n\tat org.apache.spark.rdd.MapPartitionsRDD.compute(MapPartitionsRDD.scala:52)\r\n\tat org.apache.spark.rdd.RDD.computeOrReadCheckpoint(RDD.scala:364)\r\n\tat org.apache.spark.rdd.RDD.iterator(RDD.scala:328)\r\n\tat org.apache.spark.rdd.MapPartitionsRDD.compute(MapPartitionsRDD.scala:52)\r\n\tat org.apache.spark.rdd.RDD.computeOrReadCheckpoint(RDD.scala:364)\r\n\tat org.apache.spark.rdd.RDD.iterator(RDD.scala:328)\r\n\tat org.apache.spark.shuffle.ShuffleWriteProcessor.write(ShuffleWriteProcessor.scala:59)\r\n\tat org.apache.spark.scheduler.ShuffleMapTask.runTask(ShuffleMapTask.scala:101)\r\n\tat org.apache.spark.scheduler.ShuffleMapTask.runTask(ShuffleMapTask.scala:53)\r\n\tat org.apache.spark.TaskContext.runTaskWithListeners(TaskContext.scala:161)\r\n\tat org.apache.spark.scheduler.Task.run(Task.scala:139)\r\n\tat org.apache.spark.executor.Executor$TaskRunner.$anonfun$run$3(Executor.scala:554)\r\n\tat org.apache.spark.util.Utils$.tryWithSafeFinally(Utils.scala:1529)\r\n\tat org.apache.spark.executor.Executor$TaskRunner.run(Executor.scala:557)\r\n\tat java.base/java.util.concurrent.ThreadPoolExecutor.runWorker(ThreadPoolExecutor.java:1144)\r\n\tat java.base/java.util.concurrent.ThreadPoolExecutor$Worker.run(ThreadPoolExecutor.java:642)\r\n\tat java.base/java.lang.Thread.run(Thread.java:1623)\r\nCaused by: java.net.SocketTimeoutException: Accept timed out\r\n\tat java.base/sun.nio.ch.NioSocketImpl.timedAccept(NioSocketImpl.java:694)\r\n\tat java.base/sun.nio.ch.NioSocketImpl.accept(NioSocketImpl.java:738)\r\n\tat java.base/java.net.ServerSocket.implAccept(ServerSocket.java:690)\r\n\tat java.base/java.net.ServerSocket.platformImplAccept(ServerSocket.java:655)\r\n\tat java.base/java.net.ServerSocket.implAccept(ServerSocket.java:631)\r\n\tat java.base/java.net.ServerSocket.implAccept(ServerSocket.java:588)\r\n\tat java.base/java.net.ServerSocket.accept(ServerSocket.java:546)\r\n\tat org.apache.spark.api.python.PythonWorkerFactory.createSimpleWorker(PythonWorkerFactory.scala:179)\r\n\t... 32 more\r\n",
     "output_type": "error",
     "traceback": [
      "\u001b[1;31m---------------------------------------------------------------------------\u001b[0m",
      "\u001b[1;31mPy4JJavaError\u001b[0m                             Traceback (most recent call last)",
      "Cell \u001b[1;32mIn[54], line 2\u001b[0m\n\u001b[0;32m      1\u001b[0m \u001b[39m# Select user 516454226\u001b[39;00m\n\u001b[1;32m----> 2\u001b[0m recs_for_user_1 \u001b[39m=\u001b[39m sc\u001b[39m.\u001b[39mcreateDataFrame(recommendations\u001b[39m.\u001b[39;49mcollect()[\u001b[39m1\u001b[39m][\u001b[39m1\u001b[39m])\n",
      "File \u001b[1;32mc:\\Users\\DELL\\AppData\\Local\\Programs\\Python\\Python311\\Lib\\site-packages\\pyspark\\sql\\dataframe.py:1216\u001b[0m, in \u001b[0;36mDataFrame.collect\u001b[1;34m(self)\u001b[0m\n\u001b[0;32m   1196\u001b[0m \u001b[39m\u001b[39m\u001b[39m\"\"\"Returns all the records as a list of :class:`Row`.\u001b[39;00m\n\u001b[0;32m   1197\u001b[0m \n\u001b[0;32m   1198\u001b[0m \u001b[39m.. versionadded:: 1.3.0\u001b[39;00m\n\u001b[1;32m   (...)\u001b[0m\n\u001b[0;32m   1213\u001b[0m \u001b[39m[Row(age=14, name='Tom'), Row(age=23, name='Alice'), Row(age=16, name='Bob')]\u001b[39;00m\n\u001b[0;32m   1214\u001b[0m \u001b[39m\"\"\"\u001b[39;00m\n\u001b[0;32m   1215\u001b[0m \u001b[39mwith\u001b[39;00m SCCallSiteSync(\u001b[39mself\u001b[39m\u001b[39m.\u001b[39m_sc):\n\u001b[1;32m-> 1216\u001b[0m     sock_info \u001b[39m=\u001b[39m \u001b[39mself\u001b[39;49m\u001b[39m.\u001b[39;49m_jdf\u001b[39m.\u001b[39;49mcollectToPython()\n\u001b[0;32m   1217\u001b[0m \u001b[39mreturn\u001b[39;00m \u001b[39mlist\u001b[39m(_load_from_socket(sock_info, BatchedSerializer(CPickleSerializer())))\n",
      "File \u001b[1;32mc:\\Users\\DELL\\AppData\\Local\\Programs\\Python\\Python311\\Lib\\site-packages\\py4j\\java_gateway.py:1322\u001b[0m, in \u001b[0;36mJavaMember.__call__\u001b[1;34m(self, *args)\u001b[0m\n\u001b[0;32m   1316\u001b[0m command \u001b[39m=\u001b[39m proto\u001b[39m.\u001b[39mCALL_COMMAND_NAME \u001b[39m+\u001b[39m\\\n\u001b[0;32m   1317\u001b[0m     \u001b[39mself\u001b[39m\u001b[39m.\u001b[39mcommand_header \u001b[39m+\u001b[39m\\\n\u001b[0;32m   1318\u001b[0m     args_command \u001b[39m+\u001b[39m\\\n\u001b[0;32m   1319\u001b[0m     proto\u001b[39m.\u001b[39mEND_COMMAND_PART\n\u001b[0;32m   1321\u001b[0m answer \u001b[39m=\u001b[39m \u001b[39mself\u001b[39m\u001b[39m.\u001b[39mgateway_client\u001b[39m.\u001b[39msend_command(command)\n\u001b[1;32m-> 1322\u001b[0m return_value \u001b[39m=\u001b[39m get_return_value(\n\u001b[0;32m   1323\u001b[0m     answer, \u001b[39mself\u001b[39;49m\u001b[39m.\u001b[39;49mgateway_client, \u001b[39mself\u001b[39;49m\u001b[39m.\u001b[39;49mtarget_id, \u001b[39mself\u001b[39;49m\u001b[39m.\u001b[39;49mname)\n\u001b[0;32m   1325\u001b[0m \u001b[39mfor\u001b[39;00m temp_arg \u001b[39min\u001b[39;00m temp_args:\n\u001b[0;32m   1326\u001b[0m     \u001b[39mif\u001b[39;00m \u001b[39mhasattr\u001b[39m(temp_arg, \u001b[39m\"\u001b[39m\u001b[39m_detach\u001b[39m\u001b[39m\"\u001b[39m):\n",
      "File \u001b[1;32mc:\\Users\\DELL\\AppData\\Local\\Programs\\Python\\Python311\\Lib\\site-packages\\pyspark\\errors\\exceptions\\captured.py:169\u001b[0m, in \u001b[0;36mcapture_sql_exception.<locals>.deco\u001b[1;34m(*a, **kw)\u001b[0m\n\u001b[0;32m    167\u001b[0m \u001b[39mdef\u001b[39;00m \u001b[39mdeco\u001b[39m(\u001b[39m*\u001b[39ma: Any, \u001b[39m*\u001b[39m\u001b[39m*\u001b[39mkw: Any) \u001b[39m-\u001b[39m\u001b[39m>\u001b[39m Any:\n\u001b[0;32m    168\u001b[0m     \u001b[39mtry\u001b[39;00m:\n\u001b[1;32m--> 169\u001b[0m         \u001b[39mreturn\u001b[39;00m f(\u001b[39m*\u001b[39;49ma, \u001b[39m*\u001b[39;49m\u001b[39m*\u001b[39;49mkw)\n\u001b[0;32m    170\u001b[0m     \u001b[39mexcept\u001b[39;00m Py4JJavaError \u001b[39mas\u001b[39;00m e:\n\u001b[0;32m    171\u001b[0m         converted \u001b[39m=\u001b[39m convert_exception(e\u001b[39m.\u001b[39mjava_exception)\n",
      "File \u001b[1;32mc:\\Users\\DELL\\AppData\\Local\\Programs\\Python\\Python311\\Lib\\site-packages\\py4j\\protocol.py:326\u001b[0m, in \u001b[0;36mget_return_value\u001b[1;34m(answer, gateway_client, target_id, name)\u001b[0m\n\u001b[0;32m    324\u001b[0m value \u001b[39m=\u001b[39m OUTPUT_CONVERTER[\u001b[39mtype\u001b[39m](answer[\u001b[39m2\u001b[39m:], gateway_client)\n\u001b[0;32m    325\u001b[0m \u001b[39mif\u001b[39;00m answer[\u001b[39m1\u001b[39m] \u001b[39m==\u001b[39m REFERENCE_TYPE:\n\u001b[1;32m--> 326\u001b[0m     \u001b[39mraise\u001b[39;00m Py4JJavaError(\n\u001b[0;32m    327\u001b[0m         \u001b[39m\"\u001b[39m\u001b[39mAn error occurred while calling \u001b[39m\u001b[39m{0}\u001b[39;00m\u001b[39m{1}\u001b[39;00m\u001b[39m{2}\u001b[39;00m\u001b[39m.\u001b[39m\u001b[39m\\n\u001b[39;00m\u001b[39m\"\u001b[39m\u001b[39m.\u001b[39m\n\u001b[0;32m    328\u001b[0m         \u001b[39mformat\u001b[39m(target_id, \u001b[39m\"\u001b[39m\u001b[39m.\u001b[39m\u001b[39m\"\u001b[39m, name), value)\n\u001b[0;32m    329\u001b[0m \u001b[39melse\u001b[39;00m:\n\u001b[0;32m    330\u001b[0m     \u001b[39mraise\u001b[39;00m Py4JError(\n\u001b[0;32m    331\u001b[0m         \u001b[39m\"\u001b[39m\u001b[39mAn error occurred while calling \u001b[39m\u001b[39m{0}\u001b[39;00m\u001b[39m{1}\u001b[39;00m\u001b[39m{2}\u001b[39;00m\u001b[39m. Trace:\u001b[39m\u001b[39m\\n\u001b[39;00m\u001b[39m{3}\u001b[39;00m\u001b[39m\\n\u001b[39;00m\u001b[39m\"\u001b[39m\u001b[39m.\u001b[39m\n\u001b[0;32m    332\u001b[0m         \u001b[39mformat\u001b[39m(target_id, \u001b[39m\"\u001b[39m\u001b[39m.\u001b[39m\u001b[39m\"\u001b[39m, name, value))\n",
      "\u001b[1;31mPy4JJavaError\u001b[0m: An error occurred while calling o906.collectToPython.\n: org.apache.spark.SparkException: Job aborted due to stage failure: Task 0 in stage 771.0 failed 1 times, most recent failure: Lost task 0.0 in stage 771.0 (TID 1350) (10.184.16.101 executor driver): org.apache.spark.SparkException: Python worker failed to connect back.\r\n\tat org.apache.spark.api.python.PythonWorkerFactory.createSimpleWorker(PythonWorkerFactory.scala:192)\r\n\tat org.apache.spark.api.python.PythonWorkerFactory.create(PythonWorkerFactory.scala:109)\r\n\tat org.apache.spark.SparkEnv.createPythonWorker(SparkEnv.scala:124)\r\n\tat org.apache.spark.api.python.BasePythonRunner.compute(PythonRunner.scala:166)\r\n\tat org.apache.spark.api.python.PythonRDD.compute(PythonRDD.scala:65)\r\n\tat org.apache.spark.rdd.RDD.computeOrReadCheckpoint(RDD.scala:364)\r\n\tat org.apache.spark.rdd.RDD.iterator(RDD.scala:328)\r\n\tat org.apache.spark.rdd.MapPartitionsRDD.compute(MapPartitionsRDD.scala:52)\r\n\tat org.apache.spark.rdd.RDD.computeOrReadCheckpoint(RDD.scala:364)\r\n\tat org.apache.spark.rdd.RDD.iterator(RDD.scala:328)\r\n\tat org.apache.spark.rdd.MapPartitionsRDD.compute(MapPartitionsRDD.scala:52)\r\n\tat org.apache.spark.rdd.RDD.computeOrReadCheckpoint(RDD.scala:364)\r\n\tat org.apache.spark.rdd.RDD.iterator(RDD.scala:328)\r\n\tat org.apache.spark.rdd.MapPartitionsRDD.compute(MapPartitionsRDD.scala:52)\r\n\tat org.apache.spark.rdd.RDD.computeOrReadCheckpoint(RDD.scala:364)\r\n\tat org.apache.spark.rdd.RDD.iterator(RDD.scala:328)\r\n\tat org.apache.spark.rdd.MapPartitionsRDD.compute(MapPartitionsRDD.scala:52)\r\n\tat org.apache.spark.rdd.RDD.computeOrReadCheckpoint(RDD.scala:364)\r\n\tat org.apache.spark.rdd.RDD.iterator(RDD.scala:328)\r\n\tat org.apache.spark.rdd.MapPartitionsRDD.compute(MapPartitionsRDD.scala:52)\r\n\tat org.apache.spark.rdd.RDD.computeOrReadCheckpoint(RDD.scala:364)\r\n\tat org.apache.spark.rdd.RDD.iterator(RDD.scala:328)\r\n\tat org.apache.spark.shuffle.ShuffleWriteProcessor.write(ShuffleWriteProcessor.scala:59)\r\n\tat org.apache.spark.scheduler.ShuffleMapTask.runTask(ShuffleMapTask.scala:101)\r\n\tat org.apache.spark.scheduler.ShuffleMapTask.runTask(ShuffleMapTask.scala:53)\r\n\tat org.apache.spark.TaskContext.runTaskWithListeners(TaskContext.scala:161)\r\n\tat org.apache.spark.scheduler.Task.run(Task.scala:139)\r\n\tat org.apache.spark.executor.Executor$TaskRunner.$anonfun$run$3(Executor.scala:554)\r\n\tat org.apache.spark.util.Utils$.tryWithSafeFinally(Utils.scala:1529)\r\n\tat org.apache.spark.executor.Executor$TaskRunner.run(Executor.scala:557)\r\n\tat java.base/java.util.concurrent.ThreadPoolExecutor.runWorker(ThreadPoolExecutor.java:1144)\r\n\tat java.base/java.util.concurrent.ThreadPoolExecutor$Worker.run(ThreadPoolExecutor.java:642)\r\n\tat java.base/java.lang.Thread.run(Thread.java:1623)\r\nCaused by: java.net.SocketTimeoutException: Accept timed out\r\n\tat java.base/sun.nio.ch.NioSocketImpl.timedAccept(NioSocketImpl.java:694)\r\n\tat java.base/sun.nio.ch.NioSocketImpl.accept(NioSocketImpl.java:738)\r\n\tat java.base/java.net.ServerSocket.implAccept(ServerSocket.java:690)\r\n\tat java.base/java.net.ServerSocket.platformImplAccept(ServerSocket.java:655)\r\n\tat java.base/java.net.ServerSocket.implAccept(ServerSocket.java:631)\r\n\tat java.base/java.net.ServerSocket.implAccept(ServerSocket.java:588)\r\n\tat java.base/java.net.ServerSocket.accept(ServerSocket.java:546)\r\n\tat org.apache.spark.api.python.PythonWorkerFactory.createSimpleWorker(PythonWorkerFactory.scala:179)\r\n\t... 32 more\r\n\nDriver stacktrace:\r\n\tat org.apache.spark.scheduler.DAGScheduler.failJobAndIndependentStages(DAGScheduler.scala:2785)\r\n\tat org.apache.spark.scheduler.DAGScheduler.$anonfun$abortStage$2(DAGScheduler.scala:2721)\r\n\tat org.apache.spark.scheduler.DAGScheduler.$anonfun$abortStage$2$adapted(DAGScheduler.scala:2720)\r\n\tat scala.collection.mutable.ResizableArray.foreach(ResizableArray.scala:62)\r\n\tat scala.collection.mutable.ResizableArray.foreach$(ResizableArray.scala:55)\r\n\tat scala.collection.mutable.ArrayBuffer.foreach(ArrayBuffer.scala:49)\r\n\tat org.apache.spark.scheduler.DAGScheduler.abortStage(DAGScheduler.scala:2720)\r\n\tat org.apache.spark.scheduler.DAGScheduler.$anonfun$handleTaskSetFailed$1(DAGScheduler.scala:1206)\r\n\tat org.apache.spark.scheduler.DAGScheduler.$anonfun$handleTaskSetFailed$1$adapted(DAGScheduler.scala:1206)\r\n\tat scala.Option.foreach(Option.scala:407)\r\n\tat org.apache.spark.scheduler.DAGScheduler.handleTaskSetFailed(DAGScheduler.scala:1206)\r\n\tat org.apache.spark.scheduler.DAGSchedulerEventProcessLoop.doOnReceive(DAGScheduler.scala:2984)\r\n\tat org.apache.spark.scheduler.DAGSchedulerEventProcessLoop.onReceive(DAGScheduler.scala:2923)\r\n\tat org.apache.spark.scheduler.DAGSchedulerEventProcessLoop.onReceive(DAGScheduler.scala:2912)\r\n\tat org.apache.spark.util.EventLoop$$anon$1.run(EventLoop.scala:49)\r\nCaused by: org.apache.spark.SparkException: Python worker failed to connect back.\r\n\tat org.apache.spark.api.python.PythonWorkerFactory.createSimpleWorker(PythonWorkerFactory.scala:192)\r\n\tat org.apache.spark.api.python.PythonWorkerFactory.create(PythonWorkerFactory.scala:109)\r\n\tat org.apache.spark.SparkEnv.createPythonWorker(SparkEnv.scala:124)\r\n\tat org.apache.spark.api.python.BasePythonRunner.compute(PythonRunner.scala:166)\r\n\tat org.apache.spark.api.python.PythonRDD.compute(PythonRDD.scala:65)\r\n\tat org.apache.spark.rdd.RDD.computeOrReadCheckpoint(RDD.scala:364)\r\n\tat org.apache.spark.rdd.RDD.iterator(RDD.scala:328)\r\n\tat org.apache.spark.rdd.MapPartitionsRDD.compute(MapPartitionsRDD.scala:52)\r\n\tat org.apache.spark.rdd.RDD.computeOrReadCheckpoint(RDD.scala:364)\r\n\tat org.apache.spark.rdd.RDD.iterator(RDD.scala:328)\r\n\tat org.apache.spark.rdd.MapPartitionsRDD.compute(MapPartitionsRDD.scala:52)\r\n\tat org.apache.spark.rdd.RDD.computeOrReadCheckpoint(RDD.scala:364)\r\n\tat org.apache.spark.rdd.RDD.iterator(RDD.scala:328)\r\n\tat org.apache.spark.rdd.MapPartitionsRDD.compute(MapPartitionsRDD.scala:52)\r\n\tat org.apache.spark.rdd.RDD.computeOrReadCheckpoint(RDD.scala:364)\r\n\tat org.apache.spark.rdd.RDD.iterator(RDD.scala:328)\r\n\tat org.apache.spark.rdd.MapPartitionsRDD.compute(MapPartitionsRDD.scala:52)\r\n\tat org.apache.spark.rdd.RDD.computeOrReadCheckpoint(RDD.scala:364)\r\n\tat org.apache.spark.rdd.RDD.iterator(RDD.scala:328)\r\n\tat org.apache.spark.rdd.MapPartitionsRDD.compute(MapPartitionsRDD.scala:52)\r\n\tat org.apache.spark.rdd.RDD.computeOrReadCheckpoint(RDD.scala:364)\r\n\tat org.apache.spark.rdd.RDD.iterator(RDD.scala:328)\r\n\tat org.apache.spark.shuffle.ShuffleWriteProcessor.write(ShuffleWriteProcessor.scala:59)\r\n\tat org.apache.spark.scheduler.ShuffleMapTask.runTask(ShuffleMapTask.scala:101)\r\n\tat org.apache.spark.scheduler.ShuffleMapTask.runTask(ShuffleMapTask.scala:53)\r\n\tat org.apache.spark.TaskContext.runTaskWithListeners(TaskContext.scala:161)\r\n\tat org.apache.spark.scheduler.Task.run(Task.scala:139)\r\n\tat org.apache.spark.executor.Executor$TaskRunner.$anonfun$run$3(Executor.scala:554)\r\n\tat org.apache.spark.util.Utils$.tryWithSafeFinally(Utils.scala:1529)\r\n\tat org.apache.spark.executor.Executor$TaskRunner.run(Executor.scala:557)\r\n\tat java.base/java.util.concurrent.ThreadPoolExecutor.runWorker(ThreadPoolExecutor.java:1144)\r\n\tat java.base/java.util.concurrent.ThreadPoolExecutor$Worker.run(ThreadPoolExecutor.java:642)\r\n\tat java.base/java.lang.Thread.run(Thread.java:1623)\r\nCaused by: java.net.SocketTimeoutException: Accept timed out\r\n\tat java.base/sun.nio.ch.NioSocketImpl.timedAccept(NioSocketImpl.java:694)\r\n\tat java.base/sun.nio.ch.NioSocketImpl.accept(NioSocketImpl.java:738)\r\n\tat java.base/java.net.ServerSocket.implAccept(ServerSocket.java:690)\r\n\tat java.base/java.net.ServerSocket.platformImplAccept(ServerSocket.java:655)\r\n\tat java.base/java.net.ServerSocket.implAccept(ServerSocket.java:631)\r\n\tat java.base/java.net.ServerSocket.implAccept(ServerSocket.java:588)\r\n\tat java.base/java.net.ServerSocket.accept(ServerSocket.java:546)\r\n\tat org.apache.spark.api.python.PythonWorkerFactory.createSimpleWorker(PythonWorkerFactory.scala:179)\r\n\t... 32 more\r\n"
     ]
    }
   ],
   "source": [
    "# Select user 514673131\n",
    "recs_for_user_1 = sc.createDataFrame(recommendations.collect()[1][1])"
   ]
  },
  {
   "cell_type": "code",
   "execution_count": null,
   "metadata": {},
   "outputs": [],
   "source": [
    "# Products with the highest number of interactions for the user\n",
    "\n",
    "interactions.filter(col('user_id') == 516454226).sort('purchases', ascending=False).show()"
   ]
  },
  {
   "cell_type": "code",
   "execution_count": null,
   "metadata": {},
   "outputs": [],
   "source": [
    "def calculate_recommendation_scores_for_user(user_id, recs, products, users, coef_als_score=0.8, coef_conversion_rate=0.1, coef_spending_habit=0.1, coef_spending_booster=0.05):\n",
    "   \n",
    "    recs = recs.join(products['product_id', 'purchase_per_view', 'relative_price'], on='product_id')\n",
    "    \n",
    "    user_avg_relative_price = users.filter(col('user_id') == user_id)['user_id', 'avg_relative_price_purchased'].collect()[0][1]\n",
    "\n",
    "    \n",
    "    # Scale CF rating score, ranges from 0 to 2\n",
    "    recs = recs.withColumn('rating', col('rating') / 2)\n",
    "    \n",
    "    # Scale purchase_per_view rate, ranges from 0 to 0.075\n",
    "    recs = recs.withColumn('purchase_per_view', col('purchase_per_view') / 0.075)\n",
    "    \n",
    "    # Scale relative price value, ranges from -5 to 5\n",
    "    recs = recs.withColumn('relative_price', (col('relative_price') + 5) / 10)\n",
    "    \n",
    "    # Scale users average relative price value, ranges from -1 to 1\n",
    "    user_avg_relative_price = (user_avg_relative_price + 1) / 2\n",
    "    \n",
    "    \n",
    "    # Calculate the recommendation scores\n",
    "    recs = recs.withColumn('recommendation_score', ((recs['rating'] * coef_als_score) + (recs['purchase_per_view'] * coef_conversion_rate) - abs(user_avg_relative_price + coef_spending_booster - recs['relative_price']) * coef_spending_habit) / (coef_als_score + coef_conversion_rate + coef_spending_habit)) \n",
    "\n",
    "    \n",
    "    # Scale back CF rating score, ranges from 0 to 2\n",
    "    recs = recs.withColumn('rating', col('rating') * 2)\n",
    "\n",
    "    # Scale back purchase_per_view rate, ranges from 0 to 0.075\n",
    "    recs = recs.withColumn('purchase_per_view', col('purchase_per_view') * 0.075)\n",
    "    \n",
    "    # Scale back relative price value, ranges from -1 to 1\n",
    "    recs = recs.withColumn('relative_price', col('relative_price') * 2 - 1)\n",
    "\n",
    "    # Scale back average relative price value, ranges from -5 to 5\n",
    "    user_avg_relative_price = user_avg_relative_price * 10 - 5\n",
    "    \n",
    "    return recs"
   ]
  },
  {
   "cell_type": "code",
   "execution_count": null,
   "metadata": {},
   "outputs": [],
   "source": [
    "recs_user = calculate_recommendation_scores_for_user(564068124, recs_for_user_1, products, users)"
   ]
  },
  {
   "cell_type": "code",
   "execution_count": null,
   "metadata": {},
   "outputs": [],
   "source": [
    "# Products with the highest recommendation scores\n",
    "\n",
    "recs_user.sort('recommendation_score', ascending=False).show()"
   ]
  },
  {
   "cell_type": "code",
   "execution_count": null,
   "metadata": {},
   "outputs": [],
   "source": [
    "# Filter non-interacted products in recommendations using left-anti join\n",
    "non_interacted_products = recs_user.join(interactions.filter(col('user_id') == 564068124), on='product_id', how='leftanti')\n",
    "\n",
    "# Non-interacted products with the highest recommendation scores\n",
    "non_interacted_products.sort('recommendation_score', ascending=False).show()"
   ]
  },
  {
   "attachments": {},
   "cell_type": "markdown",
   "metadata": {},
   "source": [
    "### Recommend Products for Products"
   ]
  },
  {
   "cell_type": "code",
   "execution_count": null,
   "metadata": {},
   "outputs": [],
   "source": [
    "from pyspark.ml.linalg import Vectors\n",
    "from pyspark.ml.feature import VectorAssembler\n",
    "from pyspark.ml.feature import Normalizer\n",
    "from pyspark.ml.feature import SQLTransformer\n",
    "\n",
    "# Get the product factors from the ALS model\n",
    "product_vectors = best_model.itemFactors\n",
    "product_vectors = product_vectors.rdd.map(lambda row: (row[0], Vectors.dense(row[1])))\n",
    "product_vectors = product_vectors.toDF(['product_id', 'features'])\n",
    "\n",
    "# Use VectorAssembler to convert the features column into a dense vector column\n",
    "assembler = VectorAssembler(inputCols=['features'], outputCol='vector')\n",
    "product_vectors = assembler.transform(product_vectors)\n",
    "\n",
    "# Normalize the vectors\n",
    "normalizer = Normalizer(inputCol='vector', outputCol='norm_vector')\n",
    "product_vectors = normalizer.transform(product_vectors)\n",
    "\n",
    "# Get the normalized vector representation of the selected product\n",
    "product_vector = product_vectors.where(col('product_id') == 5100067).select('norm_vector').collect()[0][0]\n",
    "product_vector"
   ]
  }
 ],
 "metadata": {
  "kernelspec": {
   "display_name": "Python 3",
   "language": "python",
   "name": "python3"
  },
  "language_info": {
   "codemirror_mode": {
    "name": "ipython",
    "version": 3
   },
   "file_extension": ".py",
   "mimetype": "text/x-python",
   "name": "python",
   "nbconvert_exporter": "python",
   "pygments_lexer": "ipython3",
   "version": "3.11.3"
  },
  "orig_nbformat": 4
 },
 "nbformat": 4,
 "nbformat_minor": 2
}

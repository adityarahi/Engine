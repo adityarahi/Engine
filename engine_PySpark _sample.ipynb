{
 "cells": [
  {
   "attachments": {},
   "cell_type": "markdown",
   "metadata": {},
   "source": [
    "### Import Dependencies and Build Dataframe"
   ]
  },
  {
   "cell_type": "code",
   "execution_count": 107,
   "metadata": {},
   "outputs": [],
   "source": [
    "# !pip install pandas\n",
    "# !pip install numpy\n",
    "# !pip install pyspark\n",
    "# !pip install matplotlib\n",
    "# !pip install pyarrow\n",
    "# !pip install memory_profiler\n",
    "# !pip install psutil\n",
    "# !pip install findspark"
   ]
  },
  {
   "cell_type": "code",
   "execution_count": 108,
   "metadata": {},
   "outputs": [],
   "source": [
    "import findspark\n",
    "findspark.init()"
   ]
  },
  {
   "cell_type": "code",
   "execution_count": 109,
   "metadata": {},
   "outputs": [],
   "source": [
    "import pandas as pd\n",
    "import numpy as np\n",
    "import os\n",
    "import sys\n",
    "import math\n",
    "import tracemalloc\n",
    "from memory_profiler import profile\n",
    "from pyspark.sql import SparkSession\n",
    "from pyspark.context import SparkContext\n",
    "from pyspark.ml.feature import StringIndexer\n",
    "from pyspark.ml.recommendation import ALS\n",
    "from pyspark.ml.evaluation import RegressionEvaluator\n",
    "from pyspark.ml.tuning import ParamGridBuilder\n",
    "from pyspark.ml import Pipeline\n",
    "from pyspark.sql.functions import *\n",
    "import pyspark.sql.functions as f\n",
    "from pyspark.sql.types import DoubleType\n",
    "import matplotlib.pyplot as plt\n",
    "import pyarrow"
   ]
  },
  {
   "cell_type": "code",
   "execution_count": 110,
   "metadata": {},
   "outputs": [],
   "source": [
    "os.environ['PYSPARK_PYTHON'] = sys.executable\n",
    "os.environ['PYSPARK_DRIVER_PYTHON'] = sys.executable\n",
    "\n",
    "# # Initialize Spark session\n",
    "\n",
    "# sc = SparkSession.builder.appName(\"Product_Recommendation\") \\\n",
    "# .config (\"spark.sql.shuffle.partitions\", \"16\") \\\n",
    "# .config(\"spark.driver.maxResultSize\",\"2g\") \\\n",
    "# .config (\"spark.sql.execution.arrow.enabled\", \"true\") \\\n",
    "# .config(\"spark.driver.memory\", \"2g\") \\\n",
    "# .getOrCreate()\n",
    "# Get the total system memory in bytes\n",
    "import psutil\n",
    "total_memory = psutil.virtual_memory().total\n",
    "\n",
    "# Calculate the available memory for Spark to use (e.g., 80% of the total memory)\n",
    "spark_memory = int(0.8 * total_memory)\n",
    "\n",
    "# Create the SparkSession with dynamically set configurations\n",
    "sc = SparkSession.builder \\\n",
    "    .appName(\"Product_Recommendation\") \\\n",
    "    .config(\"spark.sql.shuffle.partitions\", psutil.cpu_count(logical=True)) \\\n",
    "    .config(\"spark.driver.maxResultSize\", spark_memory) \\\n",
    "    .config(\"spark.sql.execution.arrow.enabled\", \"true\") \\\n",
    "    .config(\"spark.driver.memory\", spark_memory) \\\n",
    "    .getOrCreate()\n",
    "\n",
    "# Rest of your code using the 'spark' object\n",
    "sc.sparkContext.setLogLevel(\"ERROR\")"
   ]
  },
  {
   "cell_type": "code",
   "execution_count": 111,
   "metadata": {},
   "outputs": [
    {
     "name": "stdout",
     "output_type": "stream",
     "text": [
      "+--------------------+----------+----------+---------+-------+---------+--------------------+------+------------+-----------+---------+-----+-------------------+-------+---------+----------+------+--------+-------+\n",
      "|          event_time|event_type|product_id|    brand|  price|  user_id|        user_session|target|       cat_0|      cat_1|    cat_2|cat_3|          timestamp|ts_hour|ts_minute|ts_weekday|ts_day|ts_month|ts_year|\n",
      "+--------------------+----------+----------+---------+-------+---------+--------------------+------+------------+-----------+---------+-----+-------------------+-------+---------+----------+------+--------+-------+\n",
      "|2020-03-01 00:00:...|      cart|   6902464|   zlatek|  49.91|531574188|48714293-b3f9-494...|     0| electronics|  telephone|       NA|   NA|2020-03-01 05:30:59|      0|        0|         6|     1|       3|   2020|\n",
      "|2020-03-01 00:01:...|      cart|   1002544|    apple| 397.10|622090790|fb5b918c-f1f6-48d...|     0|construction|      tools|    light|   NA|2020-03-01 05:31:20|      0|        1|         6|     1|       3|   2020|\n",
      "|2020-03-01 00:01:...|      cart|   1003316|    apple| 823.70|622090543|b821ee79-96fe-497...|     0|construction|      tools|    light|   NA|2020-03-01 05:31:52|      0|        1|         6|     1|       3|   2020|\n",
      "|2020-03-01 00:02:...|      cart|  16600067|rivertoys| 422.15|616437533|aad023bc-c858-47a...|     0|       sport|    trainer|       NA|   NA|2020-03-01 05:32:14|      0|        2|         6|     1|       3|   2020|\n",
      "|2020-03-01 00:02:...|      cart|   3701428|   arnica|  69.24|516454226|ee22b80c-ed3e-3c8...|     0|  appliances|environment|   vacuum|   NA|2020-03-01 05:32:15|      0|        2|         6|     1|       3|   2020|\n",
      "|2020-03-01 00:02:...|      cart| 100041324|   xiaomi| 496.74|591054018|274db27d-16da-4a3...|     0|construction|      tools|    light|   NA|2020-03-01 05:32:19|      0|        2|         6|     1|       3|   2020|\n",
      "|2020-03-01 00:02:...|      cart|  12719307|    tunga|  28.06|585155850|9ccc3b07-88d7-427...|     0|          NA|         NA|       NA|   NA|2020-03-01 05:32:23|      0|        2|         6|     1|       3|   2020|\n",
      "|2020-03-01 00:03:...|      cart|   1005129|    apple|1139.23|560788188|f60a7c93-f228-488...|     0|construction|      tools|    light|   NA|2020-03-01 05:33:10|      0|        3|         6|     1|       3|   2020|\n",
      "|2020-03-01 00:03:...|      cart|   1005129|    apple|1139.23|560788188|f60a7c93-f228-488...|     0|construction|      tools|    light|   NA|2020-03-01 05:33:44|      0|        3|         6|     1|       3|   2020|\n",
      "|2020-03-01 00:04:...|      cart|   6600910|       NA|  65.38|545891115|2d7e8e82-14b4-41b...|     0|     apparel|      shoes|  slipons|   NA|2020-03-01 05:34:22|      0|        4|         6|     1|       3|   2020|\n",
      "|2020-03-01 00:04:...|      cart|   1005129|    apple|1139.23|560788188|f60a7c93-f228-488...|     0|construction|      tools|    light|   NA|2020-03-01 05:34:27|      0|        4|         6|     1|       3|   2020|\n",
      "|2020-03-01 00:04:...|      cart|   1005129|    apple|1139.23|560788188|f60a7c93-f228-488...|     0|construction|      tools|    light|   NA|2020-03-01 05:34:44|      0|        4|         6|     1|       3|   2020|\n",
      "|2020-03-01 00:04:...|      cart|   1004226|    apple| 743.91|519430239|d292dcd0-0cb5-443...|     0|construction|      tools|    light|   NA|2020-03-01 05:34:56|      0|        4|         6|     1|       3|   2020|\n",
      "|2020-03-01 00:04:...|      cart|   1004903|   huawei| 115.05|617140598|91417599-9146-4ad...|     0|construction|      tools|    light|   NA|2020-03-01 05:34:59|      0|        4|         6|     1|       3|   2020|\n",
      "|2020-03-01 00:05:...|      cart|  17303212|  montale| 118.41|616912131|18caf4a4-43d5-4e1...|     0|     apparel|      shoes|  sandals|   NA|2020-03-01 05:35:08|      0|        5|         6|     1|       3|   2020|\n",
      "|2020-03-01 00:05:...|      cart|   4804660|   xiaomi|  22.14|562194686|cff52139-fd2f-441...|     0|       sport|    bicycle|       NA|   NA|2020-03-01 05:35:39|      0|        5|         6|     1|       3|   2020|\n",
      "|2020-03-01 00:05:...|      cart|  17303212|  montale| 118.41|616912131|18caf4a4-43d5-4e1...|     0|     apparel|      shoes|  sandals|   NA|2020-03-01 05:35:39|      0|        5|         6|     1|       3|   2020|\n",
      "|2020-03-01 00:06:...|      cart|   5800792|       NA| 154.42|532539344|4480785c-bae8-4d7...|     0| electronics|      audio|subwoofer|   NA|2020-03-01 05:36:06|      0|        6|         6|     1|       3|   2020|\n",
      "|2020-03-01 00:06:...|      cart|  22700084|    force| 214.42|599238796|34cd3495-3555-431...|     0|          NA|         NA|       NA|   NA|2020-03-01 05:36:29|      0|        6|         6|     1|       3|   2020|\n",
      "|2020-03-01 00:06:...|      cart|  22700084|    force| 214.42|599238796|34cd3495-3555-431...|     0|          NA|         NA|       NA|   NA|2020-03-01 05:36:30|      0|        6|         6|     1|       3|   2020|\n",
      "+--------------------+----------+----------+---------+-------+---------+--------------------+------+------------+-----------+---------+-----+-------------------+-------+---------+----------+------+--------+-------+\n",
      "only showing top 20 rows\n",
      "\n"
     ]
    }
   ],
   "source": [
    "df = sc.read.parquet(\"D:/D drive/BEYOBO/Recommender System - E-Commerce Dataset - 2020/val.parquet\",header=True,escape=\"\\\"\",inferSchema=True)\n",
    "df.show()"
   ]
  },
  {
   "cell_type": "code",
   "execution_count": 112,
   "metadata": {},
   "outputs": [
    {
     "name": "stdout",
     "output_type": "stream",
     "text": [
      "root\n",
      " |-- event_time: string (nullable = true)\n",
      " |-- event_type: string (nullable = true)\n",
      " |-- product_id: string (nullable = true)\n",
      " |-- brand: string (nullable = true)\n",
      " |-- price: string (nullable = true)\n",
      " |-- user_id: string (nullable = true)\n",
      " |-- user_session: string (nullable = true)\n",
      " |-- target: long (nullable = true)\n",
      " |-- cat_0: string (nullable = true)\n",
      " |-- cat_1: string (nullable = true)\n",
      " |-- cat_2: string (nullable = true)\n",
      " |-- cat_3: string (nullable = true)\n",
      " |-- timestamp: timestamp (nullable = true)\n",
      " |-- ts_hour: short (nullable = true)\n",
      " |-- ts_minute: short (nullable = true)\n",
      " |-- ts_weekday: short (nullable = true)\n",
      " |-- ts_day: short (nullable = true)\n",
      " |-- ts_month: short (nullable = true)\n",
      " |-- ts_year: short (nullable = true)\n",
      "\n"
     ]
    }
   ],
   "source": [
    "df.printSchema()"
   ]
  },
  {
   "cell_type": "code",
   "execution_count": 113,
   "metadata": {},
   "outputs": [
    {
     "name": "stdout",
     "output_type": "stream",
     "text": [
      "+-----------------------+----------+----------+---------+------+---------+------------------------------------+------+------------+-----------+------+-----+-------------------+-------+---------+----------+------+--------+-------+\n",
      "|event_time             |event_type|product_id|brand    |price |user_id  |user_session                        |target|cat_0       |cat_1      |cat_2 |cat_3|timestamp          |ts_hour|ts_minute|ts_weekday|ts_day|ts_month|ts_year|\n",
      "+-----------------------+----------+----------+---------+------+---------+------------------------------------+------+------------+-----------+------+-----+-------------------+-------+---------+----------+------+--------+-------+\n",
      "|2020-03-01 00:00:59 UTC|cart      |6902464   |zlatek   |49.91 |531574188|48714293-b3f9-4946-8135-eb1ea05ead74|0     |electronics |telephone  |NA    |NA   |2020-03-01 05:30:59|0      |0        |6         |1     |3       |2020   |\n",
      "|2020-03-01 00:01:20 UTC|cart      |1002544   |apple    |397.10|622090790|fb5b918c-f1f6-48d9-bcf4-7eb46e83fc6b|0     |construction|tools      |light |NA   |2020-03-01 05:31:20|0      |1        |6         |1     |3       |2020   |\n",
      "|2020-03-01 00:01:52 UTC|cart      |1003316   |apple    |823.70|622090543|b821ee79-96fe-4979-be9d-21ee2e6777c3|0     |construction|tools      |light |NA   |2020-03-01 05:31:52|0      |1        |6         |1     |3       |2020   |\n",
      "|2020-03-01 00:02:14 UTC|cart      |16600067  |rivertoys|422.15|616437533|aad023bc-c858-47ab-a3a7-ff4654f11b9a|0     |sport       |trainer    |NA    |NA   |2020-03-01 05:32:14|0      |2        |6         |1     |3       |2020   |\n",
      "|2020-03-01 00:02:15 UTC|cart      |3701428   |arnica   |69.24 |516454226|ee22b80c-ed3e-3c83-d397-fb69a44d4864|0     |appliances  |environment|vacuum|NA   |2020-03-01 05:32:15|0      |2        |6         |1     |3       |2020   |\n",
      "+-----------------------+----------+----------+---------+------+---------+------------------------------------+------+------------+-----------+------+-----+-------------------+-------+---------+----------+------+--------+-------+\n",
      "only showing top 5 rows\n",
      "\n"
     ]
    }
   ],
   "source": [
    "df.show(5, truncate= False)"
   ]
  },
  {
   "attachments": {},
   "cell_type": "markdown",
   "metadata": {},
   "source": [
    "### Exploratory Data Analysis "
   ]
  },
  {
   "cell_type": "code",
   "execution_count": 114,
   "metadata": {},
   "outputs": [
    {
     "name": "stdout",
     "output_type": "stream",
     "text": [
      "+----------+----------+----------+-----+-----+-------+------------+------+-----+-----+-----+-----+---------+-------+---------+----------+------+--------+-------+\n",
      "|event_time|event_type|product_id|brand|price|user_id|user_session|target|cat_0|cat_1|cat_2|cat_3|timestamp|ts_hour|ts_minute|ts_weekday|ts_day|ts_month|ts_year|\n",
      "+----------+----------+----------+-----+-----+-------+------------+------+-----+-----+-----+-----+---------+-------+---------+----------+------+--------+-------+\n",
      "|         0|         0|         0|    0|    0|      0|          22|     0|    0|    0|    0|    0|        0|      0|        0|         0|     0|       0|      0|\n",
      "+----------+----------+----------+-----+-----+-------+------------+------+-----+-----+-----+-----+---------+-------+---------+----------+------+--------+-------+\n",
      "\n"
     ]
    }
   ],
   "source": [
    "# Null values\n",
    "\n",
    "df.select([count(when(isnull(c), c)).alias(c) for c in df.columns]).show()"
   ]
  },
  {
   "cell_type": "code",
   "execution_count": 115,
   "metadata": {},
   "outputs": [
    {
     "name": "stdout",
     "output_type": "stream",
     "text": [
      "+----------+-------+\n",
      "|event_type|  count|\n",
      "+----------+-------+\n",
      "|      cart|1458761|\n",
      "|  purchase|1007287|\n",
      "+----------+-------+\n",
      "\n"
     ]
    }
   ],
   "source": [
    "# Number of events\n",
    "\n",
    "df.groupBy('event_type').count().show()"
   ]
  },
  {
   "cell_type": "code",
   "execution_count": 116,
   "metadata": {},
   "outputs": [
    {
     "data": {
      "text/plain": [
       "<Axes: ylabel='count'>"
      ]
     },
     "execution_count": 116,
     "metadata": {},
     "output_type": "execute_result"
    },
    {
     "data": {
      "image/png": "[encoded data removed]",
      "text/plain": [
       "<Figure size 500x500 with 1 Axes>"
      ]
     },
     "metadata": {},
     "output_type": "display_data"
    }
   ],
   "source": [
    "events = df.groupBy('event_type').count().toPandas()\n",
    "events.plot(kind='pie', y='count', labels=events['event_type'], autopct='%1.2f%%', figsize=(5, 5))"
   ]
  },
  {
   "cell_type": "code",
   "execution_count": 117,
   "metadata": {},
   "outputs": [
    {
     "name": "stdout",
     "output_type": "stream",
     "text": [
      "+--------------------------+\n",
      "|count(DISTINCT product_id)|\n",
      "+--------------------------+\n",
      "|                     95137|\n",
      "+--------------------------+\n",
      "\n"
     ]
    }
   ],
   "source": [
    "## No. of different products\n",
    "df.select(f.countDistinct(\"product_id\")).show()"
   ]
  },
  {
   "cell_type": "code",
   "execution_count": 118,
   "metadata": {},
   "outputs": [
    {
     "name": "stdout",
     "output_type": "stream",
     "text": [
      "+-----------------------+\n",
      "|count(DISTINCT user_id)|\n",
      "+-----------------------+\n",
      "|                 807030|\n",
      "+-----------------------+\n",
      "\n"
     ]
    }
   ],
   "source": [
    "## No. of different users\n",
    "df.select(f.countDistinct(\"user_id\")).show()"
   ]
  },
  {
   "cell_type": "code",
   "execution_count": 119,
   "metadata": {},
   "outputs": [
    {
     "name": "stdout",
     "output_type": "stream",
     "text": [
      "+----------------------------+\n",
      "|count(DISTINCT user_session)|\n",
      "+----------------------------+\n",
      "|                     1638658|\n",
      "+----------------------------+\n",
      "\n"
     ]
    }
   ],
   "source": [
    "## No. of distinct user sessions\n",
    "df.select(f.countDistinct(\"user_session\")).show()"
   ]
  },
  {
   "cell_type": "code",
   "execution_count": 120,
   "metadata": {},
   "outputs": [
    {
     "data": {
      "image/png": "[encoded data removed]",
      "text/plain": [
       "<Figure size 800x400 with 1 Axes>"
      ]
     },
     "metadata": {},
     "output_type": "display_data"
    }
   ],
   "source": [
    "# Plot the daily number of sessions\n",
    "\n",
    "df = df.withColumn('event_time', to_timestamp('event_time'))\n",
    "df = df.withColumn('date', date_format(\"event_time\", \"yyyy-MM-dd\"))\n",
    "\n",
    "sessions = df.groupby('date').agg(countDistinct('user_session')).toPandas()\n",
    "sessions.sort_values('date').plot(x='date', figsize=(8, 4))\n",
    "\n",
    "# Adjust x-axis tick labels\n",
    "plt.xticks(rotation=45, ha='right')\n",
    "\n",
    "# Display the plot\n",
    "plt.show()"
   ]
  },
  {
   "cell_type": "code",
   "execution_count": 121,
   "metadata": {},
   "outputs": [
    {
     "name": "stdout",
     "output_type": "stream",
     "text": [
      "+---------+----------+-----+---------+\n",
      "|  user_id|product_id|carts|purchases|\n",
      "+---------+----------+-----+---------+\n",
      "|551091662|   1002547|  560|        2|\n",
      "|602076415|   1004838|  451|     null|\n",
      "|615988914|  26300078|  430|     null|\n",
      "|627374934|   1005115|  275|     null|\n",
      "|518912191| 100044095|  240|        1|\n",
      "|588636531|   1005160|  220|     null|\n",
      "|594209912|  15901905|  218|     null|\n",
      "|623570724|   1005160|  206|     null|\n",
      "|590249793|   1004446|  198|     null|\n",
      "|632638072| 100052236|  193|     null|\n",
      "|624447410|   1005160|  183|     null|\n",
      "|521691769|   1004836|  183|     null|\n",
      "|549436946|   1004856|  170|     null|\n",
      "|544627381|  41200012|  168|     null|\n",
      "|570641148|   1004856|  158|        3|\n",
      "|616210103| 100038146|  149|     null|\n",
      "|628661587|  26016675|  145|     null|\n",
      "|622653284| 100132689|  138|     null|\n",
      "|624605470|   1004750|  136|     null|\n",
      "|613869936|   1005160|  130|        3|\n",
      "+---------+----------+-----+---------+\n",
      "only showing top 20 rows\n",
      "\n"
     ]
    }
   ],
   "source": [
    "# Print the number of interactions between users and products, sorted by carts\n",
    "\n",
    "interactions = df.groupby(['user_id', 'product_id']).agg(sum(when(df['event_type'] == 'cart', 1)).alias('carts'),                                                         \n",
    "                                                         sum(when(df['event_type'] == 'purchase', 1)).alias('purchases'))\n",
    "\n",
    "interactions.sort('carts', ascending=False).show()"
   ]
  },
  {
   "cell_type": "code",
   "execution_count": 122,
   "metadata": {},
   "outputs": [
    {
     "data": {
      "text/plain": [
       "95137"
      ]
     },
     "execution_count": 122,
     "metadata": {},
     "output_type": "execute_result"
    }
   ],
   "source": [
    "df.groupby('product_id').agg(f.collect_set('cat_0'))\\\n",
    "                        .filter(size(col('collect_set(cat_0)')) == 1).count()"
   ]
  },
  {
   "cell_type": "code",
   "execution_count": 123,
   "metadata": {},
   "outputs": [
    {
     "name": "stdout",
     "output_type": "stream",
     "text": [
      "+---------------------+\n",
      "|count(DISTINCT cat_0)|\n",
      "+---------------------+\n",
      "|                   14|\n",
      "+---------------------+\n",
      "\n"
     ]
    }
   ],
   "source": [
    "## No. of product categories\n",
    "df.select(f.countDistinct(\"cat_0\")).show()"
   ]
  },
  {
   "cell_type": "code",
   "execution_count": 124,
   "metadata": {},
   "outputs": [
    {
     "data": {
      "text/plain": [
       "230185"
      ]
     },
     "execution_count": 124,
     "metadata": {},
     "output_type": "execute_result"
    }
   ],
   "source": [
    "df.filter((col('brand') != 'NA') & (col('cat_0') == 'NA') & (col('cat_1') == 'NA') & (col('cat_2') == 'NA') & (col('cat_3') == 'NA')).count()"
   ]
  },
  {
   "cell_type": "code",
   "execution_count": 125,
   "metadata": {},
   "outputs": [
    {
     "data": {
      "text/plain": [
       "196063"
      ]
     },
     "execution_count": 125,
     "metadata": {},
     "output_type": "execute_result"
    }
   ],
   "source": [
    "df.filter((col('brand') == 'NA') & (col('cat_0') != 'NA')).count()"
   ]
  },
  {
   "cell_type": "code",
   "execution_count": null,
   "metadata": {},
   "outputs": [],
   "source": []
  },
  {
   "attachments": {},
   "cell_type": "markdown",
   "metadata": {},
   "source": [
    "### Data Preprocess"
   ]
  },
  {
   "cell_type": "code",
   "execution_count": 126,
   "metadata": {},
   "outputs": [],
   "source": [
    "# Not run yet\n",
    "def preprocess(df):\n",
    "    \n",
    "    # Change data types\n",
    "    df = df.withColumn('event_time', to_timestamp('event_time'))\n",
    "    df = df.withColumn('user_id', col('user_id').cast('integer'))\n",
    "    df = df.withColumn('product_id', col('product_id').cast('integer'))\n",
    "\n",
    "    # Discarding unwanted product categories\n",
    "    df = df.filter(~col('cat_0').isin('construction', 'apparel', 'auto', 'medicine'))\n",
    "    df = df.filter((col('brand') != 'NA') | (col('cat_0') != 'NA'))\n",
    "\n",
    "    return df\n",
    "\n",
    "df = preprocess(df)"
   ]
  },
  {
   "cell_type": "code",
   "execution_count": 127,
   "metadata": {},
   "outputs": [],
   "source": [
    "# Filter rows where 'brand' is 'NA' and 'cat_0' is not 'NA'\n",
    "R = df.filter((col('brand') == 'NA') & (col('cat_0') != 'NA'))\n",
    "\n",
    "# Filter rows where both 'brand' and 'cat_0' are not 'NA'\n",
    "S = df.filter((col('brand') != 'NA') & (col('cat_0') != 'NA'))"
   ]
  },
  {
   "cell_type": "code",
   "execution_count": 128,
   "metadata": {},
   "outputs": [
    {
     "name": "stdout",
     "output_type": "stream",
     "text": [
      "Number of rows where R['cat_0'] matches distinct values: 119711\n"
     ]
    }
   ],
   "source": [
    "def count_matching_rows(R, distinct_values):\n",
    "    count = 0\n",
    "    for row in R.collect():\n",
    "        if row['cat_0'] in distinct_values:\n",
    "            count += 1\n",
    "    return count\n",
    "\n",
    "# Usage:\n",
    "distinct_values = S.select(col('cat_0')).distinct().toPandas()['cat_0'].tolist()\n",
    "matching_count = count_matching_rows(R, distinct_values)\n",
    "print(\"Number of rows where R['cat_0'] matches distinct values:\", matching_count)\n"
   ]
  },
  {
   "cell_type": "code",
   "execution_count": 129,
   "metadata": {},
   "outputs": [
    {
     "data": {
      "text/plain": [
       "119711"
      ]
     },
     "execution_count": 129,
     "metadata": {},
     "output_type": "execute_result"
    }
   ],
   "source": [
    "df.filter((col('brand') == 'NA') & (col('cat_0') != 'NA')).count()"
   ]
  },
  {
   "cell_type": "markdown",
   "metadata": {},
   "source": [
    "### Feature Engineering"
   ]
  },
  {
   "cell_type": "code",
   "execution_count": 130,
   "metadata": {},
   "outputs": [],
   "source": [
    "# Partition dataframes for null and non-null values\n",
    "\n",
    "# R is the dataframe where brand is unknown and product is known\n",
    "R = df.filter((col('brand') == 'NA') & (col('cat_0') != 'NA'))\n",
    "\n",
    "# S is the dataframe where brand is known and product is unknown\n",
    "S = df.filter((col('brand') != 'NA') & (col('cat_0') == 'NA'))\n",
    "\n",
    "# df_new is the dataframe where only non-null values of 'brand' and 'cat_0' are kept\n",
    "df_new = df.filter((col('brand') != 'NA') & (col('cat_0') != 'NA'))\n",
    "df_new = df_new.dropna(subset=['user_session'])"
   ]
  },
  {
   "cell_type": "code",
   "execution_count": 131,
   "metadata": {},
   "outputs": [],
   "source": [
    "def add_category_code(df):\n",
    "    # Create a new column 'category_code' by concatenating 'cat_0' and 'cat_1'\n",
    "    df = df.withColumn('category_code', concat(col('cat_0'), lit(\".\") , col('cat_1')))\n",
    "    return df\n",
    "\n",
    "df_new = add_category_code(df_new)"
   ]
  },
  {
   "cell_type": "code",
   "execution_count": 132,
   "metadata": {},
   "outputs": [
    {
     "name": "stdout",
     "output_type": "stream",
     "text": [
      "+-------------------+----------+----------+---------+------+---------+------------------------------------+------+-----------+-----------+------+-----+-------------------+-------+---------+----------+------+--------+-------+----------+----------------------+-----------+\n",
      "|event_time         |event_type|product_id|brand    |price |user_id  |user_session                        |target|cat_0      |cat_1      |cat_2 |cat_3|timestamp          |ts_hour|ts_minute|ts_weekday|ts_day|ts_month|ts_year|date      |category_code         |category_id|\n",
      "+-------------------+----------+----------+---------+------+---------+------------------------------------+------+-----------+-----------+------+-----+-------------------+-------+---------+----------+------+--------+-------+----------+----------------------+-----------+\n",
      "|2020-03-01 05:30:59|cart      |6902464   |zlatek   |49.91 |531574188|48714293-b3f9-4946-8135-eb1ea05ead74|0     |electronics|telephone  |NA    |NA   |2020-03-01 05:30:59|0      |0        |6         |1     |3       |2020   |2020-03-01|electronics.telephone |28         |\n",
      "|2020-03-01 05:32:14|cart      |16600067  |rivertoys|422.15|616437533|aad023bc-c858-47ab-a3a7-ff4654f11b9a|0     |sport      |trainer    |NA    |NA   |2020-03-01 05:32:14|0      |2        |6         |1     |3       |2020   |2020-03-01|sport.trainer         |11         |\n",
      "|2020-03-01 05:32:15|cart      |3701428   |arnica   |69.24 |516454226|ee22b80c-ed3e-3c83-d397-fb69a44d4864|0     |appliances |environment|vacuum|NA   |2020-03-01 05:32:15|0      |2        |6         |1     |3       |2020   |2020-03-01|appliances.environment|4          |\n",
      "|2020-03-01 05:35:39|cart      |4804660   |xiaomi   |22.14 |562194686|cff52139-fd2f-4416-84e6-249c6d2adb65|0     |sport      |bicycle    |NA    |NA   |2020-03-01 05:35:39|0      |5        |6         |1     |3       |2020   |2020-03-01|sport.bicycle         |1          |\n",
      "|2020-03-01 05:46:26|cart      |9002788   |bestoy   |56.60 |544516050|391c3385-5a30-433f-b80c-09a6021238a7|0     |kids       |dolls      |NA    |NA   |2020-03-01 05:46:26|0      |16       |6         |1     |3       |2020   |2020-03-01|kids.dolls            |25         |\n",
      "+-------------------+----------+----------+---------+------+---------+------------------------------------+------+-----------+-----------+------+-----+-------------------+-------+---------+----------+------+--------+-------+----------+----------------------+-----------+\n",
      "only showing top 5 rows\n",
      "\n"
     ]
    }
   ],
   "source": [
    "def add_category_id(df):\n",
    "    # Create a StringIndexer to generate category_id based on category_code\n",
    "    indexer = StringIndexer(inputCol='category_code', outputCol='category_id', handleInvalid=\"keep\")\n",
    "    indexed_df = indexer.fit(df).transform(df)\n",
    "    \n",
    "    # Convert indexed values to integers\n",
    "    indexed_df = indexed_df.withColumn('category_id', col('category_id').cast('integer'))\n",
    "    \n",
    "    return indexed_df\n",
    "\n",
    "df_new = add_category_id(df_new)\n",
    "df_new.show(5, truncate= False)"
   ]
  },
  {
   "attachments": {},
   "cell_type": "markdown",
   "metadata": {},
   "source": [
    "#### Testing on a sample data only\n",
    "Taking 10000 rows to check if the model is working or not"
   ]
  },
  {
   "cell_type": "code",
   "execution_count": 133,
   "metadata": {},
   "outputs": [
    {
     "name": "stdout",
     "output_type": "stream",
     "text": [
      "861540\n"
     ]
    }
   ],
   "source": [
    "# df_new = df_new.limit(100000)\n",
    "print(df_new.count())"
   ]
  },
  {
   "cell_type": "code",
   "execution_count": 134,
   "metadata": {},
   "outputs": [],
   "source": [
    "def product_features(df):\n",
    "\n",
    "    # Calculate several metrics for products with the aggregate function\n",
    "    df = df.groupby('product_id').agg(first('category_id').alias('category_id'),\n",
    "                                      first('category_code').alias('category_code'),\n",
    "                                      count(when(df['event_type'] == 'cart', True)).alias('carts'),\n",
    "                                      count(when(df['event_type'] == 'purchase', True)).alias('purchases'),\n",
    "                                      mean('price').alias('price'),\n",
    "                                      min('event_time').alias('first_date'),\n",
    "                                      max('event_time').alias('last_date'))\n",
    "    \n",
    "    # Calculate interaction rates\n",
    "\n",
    "    df = df.withColumn('purchase_per_cart', when(df['carts'] == 0, df['purchases']).otherwise(df['purchases'] / df['carts']))\n",
    "    \n",
    "    return df"
   ]
  },
  {
   "cell_type": "code",
   "execution_count": 135,
   "metadata": {},
   "outputs": [],
   "source": [
    "def category_features(df):\n",
    "    \n",
    "    # Calculate the average product price for each category\n",
    "    products = df.dropDuplicates(subset=['product_id'])\n",
    "    products = products.groupby('category_id').agg(avg('price').alias('average_price'))\n",
    "\n",
    "    # Calculate several metrics for categories with the aggregate function\n",
    "    df = df.groupby('category_id').agg(first('category_code').alias('category_code'),\n",
    "                                       countDistinct('product_id').alias('number_of_products'),\n",
    "                                       count(when(df['event_type'] == 'cart', True)).alias('carts'),\n",
    "                                       count(when(df['event_type'] == 'purchase', True)).alias('purchases'))\n",
    "    \n",
    "    # Calculate interaction rates\n",
    "    df = df.withColumn('purchase_per_cart', when(df['carts'] == 0, df['purchases']).otherwise(df['purchases'] / df['carts']))\n",
    "    \n",
    "    df = df.join(products, on='category_id')\n",
    "    \n",
    "    return df"
   ]
  },
  {
   "cell_type": "code",
   "execution_count": 136,
   "metadata": {},
   "outputs": [],
   "source": [
    "# Calculate smoothed rates for categories with small sample size using means of all products to combat overfitting\n",
    "    \n",
    "def category_smoothener(categories, mean, attr, rate, min_sample_size=1000):\n",
    "    \n",
    "    # Weighted average of category value and overall mean\n",
    "    categories = categories.withColumn(rate, when(categories[attr] < min_sample_size, ((categories[rate] * categories[attr]) + (mean * (min_sample_size - categories[attr]))) / min_sample_size).otherwise(categories[rate]))\n",
    "    \n",
    "    return categories"
   ]
  },
  {
   "cell_type": "code",
   "execution_count": 137,
   "metadata": {},
   "outputs": [],
   "source": [
    "# Calculate smoothed rates for products with small sample size using category means to combat overfitting\n",
    "    \n",
    "def product_smoothener(products, categories, attr, rate, min_sample_size=1000):\n",
    "    \n",
    "    category_rate = rate + '_cat'\n",
    "    categories = categories.withColumnRenamed(rate, category_rate)\n",
    "    products = products.join(categories['category_id', category_rate], on='category_id')\n",
    "    \n",
    "    # Weighted average of product value and category value\n",
    "    products = products.withColumn(rate, when(products[attr] < min_sample_size, ((products[rate] * products[attr]) + (products[category_rate] * (min_sample_size - products[attr]))) / min_sample_size).otherwise(products[rate]))\n",
    "    \n",
    "    products = products.drop(category_rate)\n",
    "    return products"
   ]
  },
  {
   "cell_type": "code",
   "execution_count": 138,
   "metadata": {},
   "outputs": [],
   "source": [
    "# Calculate the price of each product relative to its category using the formula: (price - median) / IQR\n",
    "\n",
    "def calculate_relative_price(products):\n",
    "    \n",
    "    categories = products.groupby('category_id').agg(percentile_approx('price', 0.25, 1000).alias('Q1'),\n",
    "                                                     percentile_approx('price', 0.5, 1000).alias('median'),\n",
    "                                                     percentile_approx('price', 0.75, 1000).alias('Q3'))\n",
    "    # Interquartile range\n",
    "    categories = categories.withColumn('IQR', col('Q3') - col('Q1'))\n",
    "    categories = categories.withColumn('IQR', when(col('IQR') < 1, 1).otherwise(col('IQR')))\n",
    "    \n",
    "    # Calculate relative price\n",
    "    products = products.join(categories, on='category_id')\n",
    "    products = products.withColumn('relative_price', (col('price') - col('median')) / col('IQR'))\n",
    "    \n",
    "    # In order to avoid extreme values, set the max possible value to 5\n",
    "    products = products.withColumn('relative_price', when(col('relative_price') > 5, 5).otherwise(col('relative_price')))\n",
    "\n",
    "    # Set the min possible value to -5\n",
    "    products = products.withColumn('relative_price', when(col('relative_price') < -5, -5).otherwise(col('relative_price')))\n",
    "\n",
    "    products = products.select('product_id', 'relative_price')\n",
    "    return products"
   ]
  },
  {
   "cell_type": "code",
   "execution_count": 139,
   "metadata": {},
   "outputs": [],
   "source": [
    "# Extract product and category features\n",
    "\n",
    "products = product_features(df_new)\n",
    "categories = category_features(df_new)"
   ]
  },
  {
   "cell_type": "code",
   "execution_count": 140,
   "metadata": {},
   "outputs": [],
   "source": [
    "# Calculate relative prices and append it to the main dataframe and product features\n",
    "\n",
    "relative_prices = calculate_relative_price(products)\n",
    "\n",
    "df_new = df_new.join(relative_prices, on='product_id')\n",
    "products = products.join(relative_prices, on='product_id')"
   ]
  },
  {
   "cell_type": "code",
   "execution_count": 141,
   "metadata": {},
   "outputs": [],
   "source": [
    "# Calculate the average interaction rates for all products to smooth category features with low interaction\n",
    "\n",
    "avg_purchase_per_cart = events[events['event_type'] == 'purchase']['count'].values[0] / events[events['event_type'] == 'cart']['count'].values[0]\n",
    "\n",
    "categories = category_smoothener(categories, avg_purchase_per_cart, 'carts', 'purchase_per_cart', 200)"
   ]
  },
  {
   "cell_type": "code",
   "execution_count": 142,
   "metadata": {},
   "outputs": [],
   "source": [
    "# Smooth product features with low interaction using corresponding category features\n",
    "\n",
    "products = product_smoothener(products, categories, 'carts', 'purchase_per_cart', 100)"
   ]
  },
  {
   "cell_type": "code",
   "execution_count": 143,
   "metadata": {},
   "outputs": [],
   "source": [
    "def user_features(df):\n",
    "\n",
    "    # Calculate several metrics for users with the aggregate function\n",
    "    df = df.groupby('user_id').agg(count(when(df['event_type'] == 'cart', True)).alias('carts'),\n",
    "                                   count(when(df['event_type'] == 'purchase', True)).alias('purchases'),\n",
    "                                   countDistinct(when(df['event_type'] == 'cart', col('product_id'))).alias('distinct_products_carted'),\n",
    "                                   countDistinct(when(df['event_type'] == 'purchase', col('product_id'))).alias('distinct_products_purchased'),\n",
    "                                   mean(when(df['event_type'] == 'purchase', col('price'))).alias('average_price_purchased'),\n",
    "                                   mean(when(df['event_type'] == 'purchase', col('relative_price'))).alias('avg_relative_price_purchased'),\n",
    "                                   min('event_time').alias('first_date'),\n",
    "                                   max('event_time').alias('last_date'))\n",
    "    \n",
    "    # Calculate interaction rates\n",
    "    df = df.withColumn('purchase_per_cart', when(df['carts'] == 0, df['purchases']).otherwise(df['purchases'] / df['carts']))\n",
    "    \n",
    "    return df"
   ]
  },
  {
   "cell_type": "code",
   "execution_count": 144,
   "metadata": {},
   "outputs": [],
   "source": [
    "# Extract user features\n",
    "\n",
    "users = user_features(df_new)"
   ]
  },
  {
   "cell_type": "code",
   "execution_count": 145,
   "metadata": {},
   "outputs": [
    {
     "name": "stdout",
     "output_type": "stream",
     "text": [
      "root\n",
      " |-- category_id: integer (nullable = true)\n",
      " |-- product_id: integer (nullable = true)\n",
      " |-- category_code: string (nullable = true)\n",
      " |-- carts: long (nullable = false)\n",
      " |-- purchases: long (nullable = false)\n",
      " |-- price: double (nullable = true)\n",
      " |-- first_date: timestamp (nullable = true)\n",
      " |-- last_date: timestamp (nullable = true)\n",
      " |-- purchase_per_cart: double (nullable = true)\n",
      " |-- relative_price: double (nullable = true)\n",
      "\n"
     ]
    }
   ],
   "source": [
    "# Top 50 products in terms of purchases\n",
    "\n",
    "# products.sort('purchases', ascending=False).toPandas().head(50)\n",
    "products.printSchema()"
   ]
  },
  {
   "cell_type": "code",
   "execution_count": 146,
   "metadata": {},
   "outputs": [],
   "source": [
    "# Convert timestamp columns to datetime\n",
    "products = products.withColumn('first_date', col('first_date').cast('timestamp'))\n",
    "products = products.withColumn('last_date', col('last_date').cast('timestamp'))\n",
    "\n",
    "# Sort the DataFrame by 'purchases' column in descending order\n",
    "top_50_products = products.orderBy(col('purchases').desc()).limit(50)"
   ]
  },
  {
   "cell_type": "code",
   "execution_count": 147,
   "metadata": {},
   "outputs": [
    {
     "name": "stdout",
     "output_type": "stream",
     "text": [
      "+-----------+----------+--------------------+-----+---------+------------------+-------------------+-------------------+------------------+--------------------+\n",
      "|category_id|product_id|       category_code|carts|purchases|             price|         first_date|          last_date| purchase_per_cart|      relative_price|\n",
      "+-----------+----------+--------------------+-----+---------+------------------+-------------------+-------------------+------------------+--------------------+\n",
      "|          1|   4804056|       sport.bicycle|24572|    18855|162.28739286619347|2020-03-01 06:28:45|2020-04-01 05:08:25|0.7673368061207879|  1.8131856453041117|\n",
      "|          1|   4804055|       sport.bicycle| 6868|     5391|197.36150093808763|2020-03-01 05:47:07|2020-04-01 05:16:14| 0.784944670937682|   2.327393357837379|\n",
      "|          1|   4804718|       sport.bicycle| 4550|     3643| 309.3075149517817|2020-03-01 07:47:37|2020-04-01 02:27:37|0.8006593406593406|   3.968589868813688|\n",
      "|          1|   4804660|       sport.bicycle| 7335|     3361| 22.90384910246786|2020-03-01 05:35:39|2020-04-01 05:16:05| 0.458214042263122|-0.23026170499240783|\n",
      "|          2|   1307545|   electronics.audio| 2707|     2542| 259.4121889883814|2020-03-01 08:35:32|2020-04-01 02:03:36|0.9390469154045068| 0.26840375606025046|\n",
      "|          3|   1801690| appliances.personal| 3436|     2527| 381.3780563474756|2020-03-01 09:30:43|2020-04-01 04:08:26|0.7354481955762514|  1.2956372801585299|\n",
      "|          1|   4803977|       sport.bicycle| 2105|     2427| 99.75962047661159|2020-03-01 08:16:25|2020-04-01 03:10:42|1.1529691211401425|  0.8964905508959329|\n",
      "|          1|   4804295|       sport.bicycle| 4007|     2035| 23.17135551142012|2020-03-01 07:32:54|2020-04-01 02:52:43|0.5078612428250562|-0.22633989867438611|\n",
      "|          3|   1801766| appliances.personal| 2615|     1875|159.47105790645946|2020-03-01 08:26:05|2020-04-01 00:31:40|0.7170172084130019|   0.223400799805722|\n",
      "|          5|   5100337|  electronics.clocks| 1558|     1665| 324.4012565932359|2020-03-01 09:00:21|2020-04-01 02:22:30|1.0686777920410784|  0.8765859462208192|\n",
      "|          5|   5100855|  electronics.clocks| 1877|     1651| 538.9105470521502|2020-03-01 09:06:57|2020-04-01 04:42:51|0.8795950985615344|  1.8647334455671858|\n",
      "|          3|   1801881| appliances.personal| 1624|     1622| 524.7043746149119|2020-03-01 07:51:27|2020-04-01 02:51:19|0.9987684729064039|  1.9881783361894914|\n",
      "|          4|   3700926|appliances.enviro...| 2110|     1567| 73.50003807451724|2020-03-01 09:46:48|2020-04-01 04:25:51|0.7426540284360189|-0.27885439165569603|\n",
      "|          2| 100023514|   electronics.audio| 1470|     1349| 835.8397694217866|2020-03-01 09:35:55|2020-04-01 04:47:37| 0.917687074829932|  1.4427832685996451|\n",
      "|          5|   5100852|  electronics.clocks| 1427|     1262|   504.95983265154|2020-03-01 07:45:17|2020-04-01 00:26:14|0.8843728100911002|  1.7083378252925887|\n",
      "|          0|   3600661|  appliances.kitchen| 1992|     1211| 307.5576022478906|2020-03-01 07:46:54|2020-04-01 03:25:12|0.6079317269076305| 0.39215692412373354|\n",
      "|          7|   2900958|   furniture.bedroom| 1367|     1210| 57.67253395421019|2020-03-01 09:31:23|2020-04-01 03:31:36|0.8851499634235552| -0.2037336487508735|\n",
      "|          5|   5100562|  electronics.clocks|  870|     1195|294.56554479418844|2020-03-01 09:53:29|2020-04-01 00:00:28|1.3735632183908046|  0.7391462859507458|\n",
      "|          2| 100011103|   electronics.audio| 1585|     1171| 370.0125362844587|2020-03-01 16:31:07|2020-04-01 05:29:35| 0.738801261829653|   0.493734372347895|\n",
      "|          3|   1801940| appliances.personal|  968|     1129|220.19386266094406|2020-03-01 06:52:51|2020-04-01 00:46:16|1.1663223140495869|  0.5168084295989105|\n",
      "+-----------+----------+--------------------+-----+---------+------------------+-------------------+-------------------+------------------+--------------------+\n",
      "only showing top 20 rows\n",
      "\n"
     ]
    }
   ],
   "source": [
    "top_50_products.show()"
   ]
  },
  {
   "attachments": {},
   "cell_type": "markdown",
   "metadata": {},
   "source": [
    "### Collaborative filtering"
   ]
  },
  {
   "cell_type": "code",
   "execution_count": 148,
   "metadata": {},
   "outputs": [],
   "source": [
    "# Get the timestamp of the most recent event in the df\n",
    "last_date = df_new.agg(max('event_time')).collect()[0][0]\n",
    "df_new = df_new.withColumn('last_date', lit(last_date))\n",
    "\n",
    "# Calculate the recency of each event in terms of days\n",
    "df_new = df_new.withColumn('recency', (col('last_date').cast('double') - col('event_time').cast('double')) / 86400)\n",
    "df_new = df_new.drop('last_date')\n",
    "\n",
    "# Half-life decay function, the value of an event is halved after 20 days\n",
    "df_new = df_new.withColumn('recency_coef', expr('exp(ln(0.5)*recency/20)'))"
   ]
  },
  {
   "cell_type": "code",
   "execution_count": 149,
   "metadata": {},
   "outputs": [],
   "source": [
    "# Find the number of carts and purchases for each user-product pair\n",
    "interactions = df_new.groupby(['user_id', 'product_id']).agg(sum(when(df_new['event_type'] == 'cart', 1) * df_new['recency_coef']).alias('carts'),\n",
    "                                                         sum(when(df_new['event_type'] == 'purchase', 1) * df_new['recency_coef']).alias('purchases'))\n",
    "interactions = interactions.na.fill(0)"
   ]
  },
  {
   "cell_type": "code",
   "execution_count": 150,
   "metadata": {},
   "outputs": [],
   "source": [
    "def calculate_interaction_matrix(df, cart_weight=0.4, purchase_weight=1.0):\n",
    " \n",
    "    # Create a new column with the weighted interaction value\n",
    "    df = df.withColumn('interaction', cart_weight * col('carts') + purchase_weight * col('purchases'))\n",
    "    \n",
    "    # Use log10 value for views, carts and purchases\n",
    "    df = df.withColumn('interaction', log10(col('interaction') + 1))\n",
    "    \n",
    "    # Set the max possible value to 100 (log100 = 2)\n",
    "    df = df.withColumn('interaction', when(col('interaction') > 2, 2).otherwise(col('interaction')))\n",
    "\n",
    "    return df"
   ]
  },
  {
   "cell_type": "code",
   "execution_count": 151,
   "metadata": {},
   "outputs": [],
   "source": [
    "interaction_matrix = calculate_interaction_matrix(interactions)"
   ]
  },
  {
   "cell_type": "code",
   "execution_count": 152,
   "metadata": {},
   "outputs": [
    {
     "name": "stdout",
     "output_type": "stream",
     "text": [
      "+---------+----------+------------------+-------------------+------------------+\n",
      "|  user_id|product_id|             carts|          purchases|       interaction|\n",
      "+---------+----------+------------------+-------------------+------------------+\n",
      "|615988914|  26300078|178.05212198478904|                0.0|1.8586625882772885|\n",
      "|632638072| 100052236| 154.6214043090325|                0.0|1.7982953433959528|\n",
      "|518912191| 100044095|111.24174743850766|0.47001318976063694|1.6624434413271754|\n",
      "|598224683|   1801849|13.424844233738865|  37.33082417567878| 1.640489008427953|\n",
      "|633302060|   3601405|100.98210731236564|                0.0|1.6169252554468156|\n",
      "|523654377|   3700779| 99.41955424644613|                0.0|1.6103175069007518|\n",
      "|548750897|   1801898| 4.049153608168345|  37.36964203810354|1.6019438398216557|\n",
      "|600978657| 100120437| 90.13463110082145|                0.0| 1.568833367689136|\n",
      "|626214265| 100006963|25.858046831064506| 22.883837154193643|1.5343695439761775|\n",
      "|549264404|   1307545| 70.36150933859635| 4.9609852485317685| 1.532825553948666|\n",
      "|607980402|   4804056| 0.996068682367535|  32.11091898914237|1.5251659578061445|\n",
      "|545185376|   4804056|               0.0|  32.47121377109984|1.5246714615221952|\n",
      "|634562735|   1801940| 75.08133491692683| 0.9550300647037478|  1.50498116825009|\n",
      "|512907901|   3601479|0.6637526369624203|  29.91861763887757|1.4939334747976796|\n",
      "|532959867|  26400297| 71.99281608628893| 0.7500270160043786|1.4849707465481419|\n",
      "|623253701|   1801881|0.8594899419744428| 27.718900408181707|1.4633359048962669|\n",
      "|620427919|  26400286|               0.0| 27.746453991225458| 1.458584280085702|\n",
      "|597540046|   1802101|3.2783043090736896| 26.308281931405006|1.4566636150413905|\n",
      "|633770714|   3900003| 68.12674467751015|                0.0|1.4510291805725417|\n",
      "|518089189|   1801995|7.1426902798119976|  23.01154210082439|1.4292453323055603|\n",
      "+---------+----------+------------------+-------------------+------------------+\n",
      "only showing top 20 rows\n",
      "\n"
     ]
    }
   ],
   "source": [
    "#  User-product pairs with the highest interaction scores\n",
    "\n",
    "interaction_matrix.sort('interaction', ascending=False).show()"
   ]
  },
  {
   "cell_type": "code",
   "execution_count": 153,
   "metadata": {},
   "outputs": [],
   "source": [
    "from pyspark.ml.recommendation import ALS\n",
    "from pyspark.ml.evaluation import RegressionEvaluator\n",
    "from pyspark.ml.tuning import CrossValidator, ParamGridBuilder\n",
    "from pyspark.ml import Pipeline\n",
    "\n",
    "def cross_validate_als(interaction_matrix):\n",
    "    \n",
    "    # Define the ALS model\n",
    "    als = ALS(userCol='user_id', itemCol='product_id', ratingCol='interaction', \n",
    "              nonnegative=True, coldStartStrategy='drop', implicitPrefs=True)\n",
    "\n",
    "    # Define the parameter grid for hyperparameter tuning\n",
    "    param_grid = ParamGridBuilder() \\\n",
    "        .addGrid(als.rank, [5, 10, 15, 20]).addGrid(als.regParam, [0.005, 0.01, 0.05, 0.1]) \\\n",
    "        .addGrid(als.alpha, [0, 1.0, 5.0]) \\\n",
    "        .build()\n",
    "        \n",
    "    # Define the evaluator for computing the evaluation metrics\n",
    "    evaluator = RegressionEvaluator(metricName='rmse', labelCol='interaction', predictionCol='prediction')\n",
    "\n",
    "    # Define the cross-validator for performing 5-fold cross-validation\n",
    "    cv = CrossValidator(estimator=als, estimatorParamMaps=param_grid, evaluator=evaluator, numFolds=5, collectSubModels=False)\n",
    "\n",
    "    # Define the pipeline for fitting the model and evaluating it\n",
    "    pipeline = Pipeline(stages=[cv])\n",
    "\n",
    "    # Fit the pipeline on the data and evaluate the model\n",
    "    model = pipeline.fit(interaction_matrix)\n",
    "    \n",
    "    return model"
   ]
  },
  {
   "cell_type": "code",
   "execution_count": 154,
   "metadata": {},
   "outputs": [],
   "source": [
    "# # starting the monitoring\n",
    "# tracemalloc.start()\n",
    " \n",
    "# # function call\n",
    "# model = cross_validate_als(interaction_matrix)\n",
    "\n",
    "# # Model with the lowest RMSE value \n",
    "# bestModel = model.stages[0].bestModel\n",
    "\n",
    "# # Make predictions\n",
    "# predictions = bestModel.transform(interaction_matrix)\n",
    " \n",
    "# # displaying the memory\n",
    "# print(tracemalloc.get_traced_memory())\n",
    " \n",
    "# # stopping the library\n",
    "# tracemalloc.stop()"
   ]
  },
  {
   "cell_type": "code",
   "execution_count": 155,
   "metadata": {},
   "outputs": [],
   "source": [
    "# # Calculate RMSE and MAE metrics\n",
    "# evaluator = RegressionEvaluator(metricName='rmse', labelCol='interaction', predictionCol='prediction')\n",
    "# rmse = evaluator.setMetricName('rmse').evaluate(predictions)\n",
    "# mae = evaluator.setMetricName('mae').evaluate(predictions)\n",
    "# print(' rmse:' + str(rmse) + ' mae:' + str(mae))\n",
    "\n",
    "# # Print the parameters of the model with the lowest RMSE value\n",
    "# regParam = bestModel._java_obj.parent().getRegParam()\n",
    "# rank = bestModel._java_obj.parent().getRank()\n",
    "# alpha = bestModel._java_obj.parent().getAlpha()\n",
    "# print('rank:' + str(rank) + ' regParam:' + str(regParam) + ' alpha:' + str(alpha))"
   ]
  },
  {
   "cell_type": "code",
   "execution_count": 156,
   "metadata": {},
   "outputs": [],
   "source": [
    "from pyspark.ml.recommendation import ALS\n",
    "from pyspark.ml.evaluation import RegressionEvaluator\n",
    "\n",
    "def simple_als(interaction_matrix):\n",
    "    \n",
    "    # Train-test split\n",
    "    (train, test) = interaction_matrix.randomSplit([0.8, 0.2])\n",
    "    \n",
    "    # Initialize the model with the optimized parameters\n",
    "    als = ALS(userCol='user_id', itemCol='product_id', ratingCol='interaction', \n",
    "              alpha=5.0, regParam=0.1, rank=20, implicitPrefs=True, \n",
    "              nonnegative=True, coldStartStrategy='drop')\n",
    "\n",
    "    # Fit the ALS model on the ratings data\n",
    "    model = als.fit(train)\n",
    "    \n",
    "    # Make predictions\n",
    "    predictions = model.transform(test)\n",
    "    \n",
    "    # Calculate the RMSE and MAE metrics\n",
    "    evaluator = RegressionEvaluator(metricName='rmse', labelCol='interaction', predictionCol='prediction')\n",
    "    rmse = evaluator.evaluate(predictions)\n",
    "    mae = evaluator.setMetricName('mae').evaluate(predictions)\n",
    "    print('test rmse:' + str(rmse) + ' mae:' + str(mae))\n",
    "    \n",
    "    return model"
   ]
  },
  {
   "cell_type": "code",
   "execution_count": 157,
   "metadata": {},
   "outputs": [
    {
     "name": "stdout",
     "output_type": "stream",
     "text": [
      "test rmse:0.22298220894667203 mae:0.18658479554098714\n"
     ]
    }
   ],
   "source": [
    "als_model = simple_als(interaction_matrix)"
   ]
  },
  {
   "cell_type": "markdown",
   "metadata": {},
   "source": [
    "### Recommend Products for Users"
   ]
  },
  {
   "cell_type": "code",
   "execution_count": 158,
   "metadata": {},
   "outputs": [],
   "source": [
    "# 3 random users\n",
    "user_subset = [633770714, 598224683, 518089189]\n",
    "\n",
    "# Recommend top 500 products for the users\n",
    "recommendations = sc.createDataFrame([(user, 0) for user in user_subset], ['user_id', 'product_id'])\n",
    "recommendations = als_model.recommendForUserSubset(recommendations, 500)"
   ]
  },
  {
   "cell_type": "code",
   "execution_count": 159,
   "metadata": {},
   "outputs": [
    {
     "ename": "Py4JJavaError",
     "evalue": "An error occurred while calling o2672.showString.\n: org.apache.spark.SparkException: Job aborted due to stage failure: Task 1 in stage 2107.0 failed 1 times, most recent failure: Lost task 1.0 in stage 2107.0 (TID 3515) (DESKTOP-47DU1LS executor driver): org.apache.spark.SparkException: Python worker exited unexpectedly (crashed)\r\n\tat org.apache.spark.api.python.BasePythonRunner$ReaderIterator$$anonfun$1.applyOrElse(PythonRunner.scala:601)\r\n\tat org.apache.spark.api.python.BasePythonRunner$ReaderIterator$$anonfun$1.applyOrElse(PythonRunner.scala:583)\r\n\tat scala.runtime.AbstractPartialFunction.apply(AbstractPartialFunction.scala:38)\r\n\tat org.apache.spark.api.python.PythonRunner$$anon$3.read(PythonRunner.scala:772)\r\n\tat org.apache.spark.api.python.PythonRunner$$anon$3.read(PythonRunner.scala:749)\r\n\tat org.apache.spark.api.python.BasePythonRunner$ReaderIterator.hasNext(PythonRunner.scala:514)\r\n\tat org.apache.spark.InterruptibleIterator.hasNext(InterruptibleIterator.scala:37)\r\n\tat scala.collection.Iterator$$anon$11.hasNext(Iterator.scala:491)\r\n\tat scala.collection.Iterator$$anon$10.hasNext(Iterator.scala:460)\r\n\tat scala.collection.Iterator$$anon$10.hasNext(Iterator.scala:460)\r\n\tat org.apache.spark.sql.catalyst.expressions.GeneratedClass$GeneratedIteratorForCodegenStage2.processNext(Unknown Source)\r\n\tat org.apache.spark.sql.execution.BufferedRowIterator.hasNext(BufferedRowIterator.java:43)\r\n\tat org.apache.spark.sql.execution.WholeStageCodegenExec$$anon$1.hasNext(WholeStageCodegenExec.scala:760)\r\n\tat scala.collection.Iterator$$anon$10.hasNext(Iterator.scala:460)\r\n\tat org.apache.spark.shuffle.sort.BypassMergeSortShuffleWriter.write(BypassMergeSortShuffleWriter.java:140)\r\n\tat org.apache.spark.shuffle.ShuffleWriteProcessor.write(ShuffleWriteProcessor.scala:59)\r\n\tat org.apache.spark.scheduler.ShuffleMapTask.runTask(ShuffleMapTask.scala:101)\r\n\tat org.apache.spark.scheduler.ShuffleMapTask.runTask(ShuffleMapTask.scala:53)\r\n\tat org.apache.spark.TaskContext.runTaskWithListeners(TaskContext.scala:161)\r\n\tat org.apache.spark.scheduler.Task.run(Task.scala:139)\r\n\tat org.apache.spark.executor.Executor$TaskRunner.$anonfun$run$3(Executor.scala:554)\r\n\tat org.apache.spark.util.Utils$.tryWithSafeFinally(Utils.scala:1529)\r\n\tat org.apache.spark.executor.Executor$TaskRunner.run(Executor.scala:557)\r\n\tat java.base/java.util.concurrent.ThreadPoolExecutor.runWorker(ThreadPoolExecutor.java:1136)\r\n\tat java.base/java.util.concurrent.ThreadPoolExecutor$Worker.run(ThreadPoolExecutor.java:635)\r\n\tat java.base/java.lang.Thread.run(Thread.java:833)\r\nCaused by: java.io.EOFException\r\n\tat java.base/java.io.DataInputStream.readInt(DataInputStream.java:398)\r\n\tat org.apache.spark.api.python.PythonRunner$$anon$3.read(PythonRunner.scala:757)\r\n\t... 22 more\r\n\nDriver stacktrace:\r\n\tat org.apache.spark.scheduler.DAGScheduler.failJobAndIndependentStages(DAGScheduler.scala:2785)\r\n\tat org.apache.spark.scheduler.DAGScheduler.$anonfun$abortStage$2(DAGScheduler.scala:2721)\r\n\tat org.apache.spark.scheduler.DAGScheduler.$anonfun$abortStage$2$adapted(DAGScheduler.scala:2720)\r\n\tat scala.collection.mutable.ResizableArray.foreach(ResizableArray.scala:62)\r\n\tat scala.collection.mutable.ResizableArray.foreach$(ResizableArray.scala:55)\r\n\tat scala.collection.mutable.ArrayBuffer.foreach(ArrayBuffer.scala:49)\r\n\tat org.apache.spark.scheduler.DAGScheduler.abortStage(DAGScheduler.scala:2720)\r\n\tat org.apache.spark.scheduler.DAGScheduler.$anonfun$handleTaskSetFailed$1(DAGScheduler.scala:1206)\r\n\tat org.apache.spark.scheduler.DAGScheduler.$anonfun$handleTaskSetFailed$1$adapted(DAGScheduler.scala:1206)\r\n\tat scala.Option.foreach(Option.scala:407)\r\n\tat org.apache.spark.scheduler.DAGScheduler.handleTaskSetFailed(DAGScheduler.scala:1206)\r\n\tat org.apache.spark.scheduler.DAGSchedulerEventProcessLoop.doOnReceive(DAGScheduler.scala:2984)\r\n\tat org.apache.spark.scheduler.DAGSchedulerEventProcessLoop.onReceive(DAGScheduler.scala:2923)\r\n\tat org.apache.spark.scheduler.DAGSchedulerEventProcessLoop.onReceive(DAGScheduler.scala:2912)\r\n\tat org.apache.spark.util.EventLoop$$anon$1.run(EventLoop.scala:49)\r\nCaused by: org.apache.spark.SparkException: Python worker exited unexpectedly (crashed)\r\n\tat org.apache.spark.api.python.BasePythonRunner$ReaderIterator$$anonfun$1.applyOrElse(PythonRunner.scala:601)\r\n\tat org.apache.spark.api.python.BasePythonRunner$ReaderIterator$$anonfun$1.applyOrElse(PythonRunner.scala:583)\r\n\tat scala.runtime.AbstractPartialFunction.apply(AbstractPartialFunction.scala:38)\r\n\tat org.apache.spark.api.python.PythonRunner$$anon$3.read(PythonRunner.scala:772)\r\n\tat org.apache.spark.api.python.PythonRunner$$anon$3.read(PythonRunner.scala:749)\r\n\tat org.apache.spark.api.python.BasePythonRunner$ReaderIterator.hasNext(PythonRunner.scala:514)\r\n\tat org.apache.spark.InterruptibleIterator.hasNext(InterruptibleIterator.scala:37)\r\n\tat scala.collection.Iterator$$anon$11.hasNext(Iterator.scala:491)\r\n\tat scala.collection.Iterator$$anon$10.hasNext(Iterator.scala:460)\r\n\tat scala.collection.Iterator$$anon$10.hasNext(Iterator.scala:460)\r\n\tat org.apache.spark.sql.catalyst.expressions.GeneratedClass$GeneratedIteratorForCodegenStage2.processNext(Unknown Source)\r\n\tat org.apache.spark.sql.execution.BufferedRowIterator.hasNext(BufferedRowIterator.java:43)\r\n\tat org.apache.spark.sql.execution.WholeStageCodegenExec$$anon$1.hasNext(WholeStageCodegenExec.scala:760)\r\n\tat scala.collection.Iterator$$anon$10.hasNext(Iterator.scala:460)\r\n\tat org.apache.spark.shuffle.sort.BypassMergeSortShuffleWriter.write(BypassMergeSortShuffleWriter.java:140)\r\n\tat org.apache.spark.shuffle.ShuffleWriteProcessor.write(ShuffleWriteProcessor.scala:59)\r\n\tat org.apache.spark.scheduler.ShuffleMapTask.runTask(ShuffleMapTask.scala:101)\r\n\tat org.apache.spark.scheduler.ShuffleMapTask.runTask(ShuffleMapTask.scala:53)\r\n\tat org.apache.spark.TaskContext.runTaskWithListeners(TaskContext.scala:161)\r\n\tat org.apache.spark.scheduler.Task.run(Task.scala:139)\r\n\tat org.apache.spark.executor.Executor$TaskRunner.$anonfun$run$3(Executor.scala:554)\r\n\tat org.apache.spark.util.Utils$.tryWithSafeFinally(Utils.scala:1529)\r\n\tat org.apache.spark.executor.Executor$TaskRunner.run(Executor.scala:557)\r\n\tat java.base/java.util.concurrent.ThreadPoolExecutor.runWorker(ThreadPoolExecutor.java:1136)\r\n\tat java.base/java.util.concurrent.ThreadPoolExecutor$Worker.run(ThreadPoolExecutor.java:635)\r\n\tat java.base/java.lang.Thread.run(Thread.java:833)\r\nCaused by: java.io.EOFException\r\n\tat java.base/java.io.DataInputStream.readInt(DataInputStream.java:398)\r\n\tat org.apache.spark.api.python.PythonRunner$$anon$3.read(PythonRunner.scala:757)\r\n\t... 22 more\r\n",
     "output_type": "error",
     "traceback": [
      "\u001b[1;31m---------------------------------------------------------------------------\u001b[0m",
      "\u001b[1;31mPy4JJavaError\u001b[0m                             Traceback (most recent call last)",
      "Cell \u001b[1;32mIn[159], line 1\u001b[0m\n\u001b[1;32m----> 1\u001b[0m recommendations\u001b[39m.\u001b[39;49mshow()\n",
      "File \u001b[1;32mc:\\Users\\DELL\\AppData\\Local\\Programs\\Python\\Python311\\Lib\\site-packages\\pyspark\\sql\\dataframe.py:899\u001b[0m, in \u001b[0;36mDataFrame.show\u001b[1;34m(self, n, truncate, vertical)\u001b[0m\n\u001b[0;32m    893\u001b[0m     \u001b[39mraise\u001b[39;00m PySparkTypeError(\n\u001b[0;32m    894\u001b[0m         error_class\u001b[39m=\u001b[39m\u001b[39m\"\u001b[39m\u001b[39mNOT_BOOL\u001b[39m\u001b[39m\"\u001b[39m,\n\u001b[0;32m    895\u001b[0m         message_parameters\u001b[39m=\u001b[39m{\u001b[39m\"\u001b[39m\u001b[39marg_name\u001b[39m\u001b[39m\"\u001b[39m: \u001b[39m\"\u001b[39m\u001b[39mvertical\u001b[39m\u001b[39m\"\u001b[39m, \u001b[39m\"\u001b[39m\u001b[39marg_type\u001b[39m\u001b[39m\"\u001b[39m: \u001b[39mtype\u001b[39m(vertical)\u001b[39m.\u001b[39m\u001b[39m__name__\u001b[39m},\n\u001b[0;32m    896\u001b[0m     )\n\u001b[0;32m    898\u001b[0m \u001b[39mif\u001b[39;00m \u001b[39misinstance\u001b[39m(truncate, \u001b[39mbool\u001b[39m) \u001b[39mand\u001b[39;00m truncate:\n\u001b[1;32m--> 899\u001b[0m     \u001b[39mprint\u001b[39m(\u001b[39mself\u001b[39;49m\u001b[39m.\u001b[39;49m_jdf\u001b[39m.\u001b[39;49mshowString(n, \u001b[39m20\u001b[39;49m, vertical))\n\u001b[0;32m    900\u001b[0m \u001b[39melse\u001b[39;00m:\n\u001b[0;32m    901\u001b[0m     \u001b[39mtry\u001b[39;00m:\n",
      "File \u001b[1;32mc:\\Users\\DELL\\AppData\\Local\\Programs\\Python\\Python311\\Lib\\site-packages\\py4j\\java_gateway.py:1322\u001b[0m, in \u001b[0;36mJavaMember.__call__\u001b[1;34m(self, *args)\u001b[0m\n\u001b[0;32m   1316\u001b[0m command \u001b[39m=\u001b[39m proto\u001b[39m.\u001b[39mCALL_COMMAND_NAME \u001b[39m+\u001b[39m\\\n\u001b[0;32m   1317\u001b[0m     \u001b[39mself\u001b[39m\u001b[39m.\u001b[39mcommand_header \u001b[39m+\u001b[39m\\\n\u001b[0;32m   1318\u001b[0m     args_command \u001b[39m+\u001b[39m\\\n\u001b[0;32m   1319\u001b[0m     proto\u001b[39m.\u001b[39mEND_COMMAND_PART\n\u001b[0;32m   1321\u001b[0m answer \u001b[39m=\u001b[39m \u001b[39mself\u001b[39m\u001b[39m.\u001b[39mgateway_client\u001b[39m.\u001b[39msend_command(command)\n\u001b[1;32m-> 1322\u001b[0m return_value \u001b[39m=\u001b[39m get_return_value(\n\u001b[0;32m   1323\u001b[0m     answer, \u001b[39mself\u001b[39;49m\u001b[39m.\u001b[39;49mgateway_client, \u001b[39mself\u001b[39;49m\u001b[39m.\u001b[39;49mtarget_id, \u001b[39mself\u001b[39;49m\u001b[39m.\u001b[39;49mname)\n\u001b[0;32m   1325\u001b[0m \u001b[39mfor\u001b[39;00m temp_arg \u001b[39min\u001b[39;00m temp_args:\n\u001b[0;32m   1326\u001b[0m     \u001b[39mif\u001b[39;00m \u001b[39mhasattr\u001b[39m(temp_arg, \u001b[39m\"\u001b[39m\u001b[39m_detach\u001b[39m\u001b[39m\"\u001b[39m):\n",
      "File \u001b[1;32mc:\\Users\\DELL\\AppData\\Local\\Programs\\Python\\Python311\\Lib\\site-packages\\pyspark\\errors\\exceptions\\captured.py:169\u001b[0m, in \u001b[0;36mcapture_sql_exception.<locals>.deco\u001b[1;34m(*a, **kw)\u001b[0m\n\u001b[0;32m    167\u001b[0m \u001b[39mdef\u001b[39;00m \u001b[39mdeco\u001b[39m(\u001b[39m*\u001b[39ma: Any, \u001b[39m*\u001b[39m\u001b[39m*\u001b[39mkw: Any) \u001b[39m-\u001b[39m\u001b[39m>\u001b[39m Any:\n\u001b[0;32m    168\u001b[0m     \u001b[39mtry\u001b[39;00m:\n\u001b[1;32m--> 169\u001b[0m         \u001b[39mreturn\u001b[39;00m f(\u001b[39m*\u001b[39;49ma, \u001b[39m*\u001b[39;49m\u001b[39m*\u001b[39;49mkw)\n\u001b[0;32m    170\u001b[0m     \u001b[39mexcept\u001b[39;00m Py4JJavaError \u001b[39mas\u001b[39;00m e:\n\u001b[0;32m    171\u001b[0m         converted \u001b[39m=\u001b[39m convert_exception(e\u001b[39m.\u001b[39mjava_exception)\n",
      "File \u001b[1;32mc:\\Users\\DELL\\AppData\\Local\\Programs\\Python\\Python311\\Lib\\site-packages\\py4j\\protocol.py:326\u001b[0m, in \u001b[0;36mget_return_value\u001b[1;34m(answer, gateway_client, target_id, name)\u001b[0m\n\u001b[0;32m    324\u001b[0m value \u001b[39m=\u001b[39m OUTPUT_CONVERTER[\u001b[39mtype\u001b[39m](answer[\u001b[39m2\u001b[39m:], gateway_client)\n\u001b[0;32m    325\u001b[0m \u001b[39mif\u001b[39;00m answer[\u001b[39m1\u001b[39m] \u001b[39m==\u001b[39m REFERENCE_TYPE:\n\u001b[1;32m--> 326\u001b[0m     \u001b[39mraise\u001b[39;00m Py4JJavaError(\n\u001b[0;32m    327\u001b[0m         \u001b[39m\"\u001b[39m\u001b[39mAn error occurred while calling \u001b[39m\u001b[39m{0}\u001b[39;00m\u001b[39m{1}\u001b[39;00m\u001b[39m{2}\u001b[39;00m\u001b[39m.\u001b[39m\u001b[39m\\n\u001b[39;00m\u001b[39m\"\u001b[39m\u001b[39m.\u001b[39m\n\u001b[0;32m    328\u001b[0m         \u001b[39mformat\u001b[39m(target_id, \u001b[39m\"\u001b[39m\u001b[39m.\u001b[39m\u001b[39m\"\u001b[39m, name), value)\n\u001b[0;32m    329\u001b[0m \u001b[39melse\u001b[39;00m:\n\u001b[0;32m    330\u001b[0m     \u001b[39mraise\u001b[39;00m Py4JError(\n\u001b[0;32m    331\u001b[0m         \u001b[39m\"\u001b[39m\u001b[39mAn error occurred while calling \u001b[39m\u001b[39m{0}\u001b[39;00m\u001b[39m{1}\u001b[39;00m\u001b[39m{2}\u001b[39;00m\u001b[39m. Trace:\u001b[39m\u001b[39m\\n\u001b[39;00m\u001b[39m{3}\u001b[39;00m\u001b[39m\\n\u001b[39;00m\u001b[39m\"\u001b[39m\u001b[39m.\u001b[39m\n\u001b[0;32m    332\u001b[0m         \u001b[39mformat\u001b[39m(target_id, \u001b[39m\"\u001b[39m\u001b[39m.\u001b[39m\u001b[39m\"\u001b[39m, name, value))\n",
      "\u001b[1;31mPy4JJavaError\u001b[0m: An error occurred while calling o2672.showString.\n: org.apache.spark.SparkException: Job aborted due to stage failure: Task 1 in stage 2107.0 failed 1 times, most recent failure: Lost task 1.0 in stage 2107.0 (TID 3515) (DESKTOP-47DU1LS executor driver): org.apache.spark.SparkException: Python worker exited unexpectedly (crashed)\r\n\tat org.apache.spark.api.python.BasePythonRunner$ReaderIterator$$anonfun$1.applyOrElse(PythonRunner.scala:601)\r\n\tat org.apache.spark.api.python.BasePythonRunner$ReaderIterator$$anonfun$1.applyOrElse(PythonRunner.scala:583)\r\n\tat scala.runtime.AbstractPartialFunction.apply(AbstractPartialFunction.scala:38)\r\n\tat org.apache.spark.api.python.PythonRunner$$anon$3.read(PythonRunner.scala:772)\r\n\tat org.apache.spark.api.python.PythonRunner$$anon$3.read(PythonRunner.scala:749)\r\n\tat org.apache.spark.api.python.BasePythonRunner$ReaderIterator.hasNext(PythonRunner.scala:514)\r\n\tat org.apache.spark.InterruptibleIterator.hasNext(InterruptibleIterator.scala:37)\r\n\tat scala.collection.Iterator$$anon$11.hasNext(Iterator.scala:491)\r\n\tat scala.collection.Iterator$$anon$10.hasNext(Iterator.scala:460)\r\n\tat scala.collection.Iterator$$anon$10.hasNext(Iterator.scala:460)\r\n\tat org.apache.spark.sql.catalyst.expressions.GeneratedClass$GeneratedIteratorForCodegenStage2.processNext(Unknown Source)\r\n\tat org.apache.spark.sql.execution.BufferedRowIterator.hasNext(BufferedRowIterator.java:43)\r\n\tat org.apache.spark.sql.execution.WholeStageCodegenExec$$anon$1.hasNext(WholeStageCodegenExec.scala:760)\r\n\tat scala.collection.Iterator$$anon$10.hasNext(Iterator.scala:460)\r\n\tat org.apache.spark.shuffle.sort.BypassMergeSortShuffleWriter.write(BypassMergeSortShuffleWriter.java:140)\r\n\tat org.apache.spark.shuffle.ShuffleWriteProcessor.write(ShuffleWriteProcessor.scala:59)\r\n\tat org.apache.spark.scheduler.ShuffleMapTask.runTask(ShuffleMapTask.scala:101)\r\n\tat org.apache.spark.scheduler.ShuffleMapTask.runTask(ShuffleMapTask.scala:53)\r\n\tat org.apache.spark.TaskContext.runTaskWithListeners(TaskContext.scala:161)\r\n\tat org.apache.spark.scheduler.Task.run(Task.scala:139)\r\n\tat org.apache.spark.executor.Executor$TaskRunner.$anonfun$run$3(Executor.scala:554)\r\n\tat org.apache.spark.util.Utils$.tryWithSafeFinally(Utils.scala:1529)\r\n\tat org.apache.spark.executor.Executor$TaskRunner.run(Executor.scala:557)\r\n\tat java.base/java.util.concurrent.ThreadPoolExecutor.runWorker(ThreadPoolExecutor.java:1136)\r\n\tat java.base/java.util.concurrent.ThreadPoolExecutor$Worker.run(ThreadPoolExecutor.java:635)\r\n\tat java.base/java.lang.Thread.run(Thread.java:833)\r\nCaused by: java.io.EOFException\r\n\tat java.base/java.io.DataInputStream.readInt(DataInputStream.java:398)\r\n\tat org.apache.spark.api.python.PythonRunner$$anon$3.read(PythonRunner.scala:757)\r\n\t... 22 more\r\n\nDriver stacktrace:\r\n\tat org.apache.spark.scheduler.DAGScheduler.failJobAndIndependentStages(DAGScheduler.scala:2785)\r\n\tat org.apache.spark.scheduler.DAGScheduler.$anonfun$abortStage$2(DAGScheduler.scala:2721)\r\n\tat org.apache.spark.scheduler.DAGScheduler.$anonfun$abortStage$2$adapted(DAGScheduler.scala:2720)\r\n\tat scala.collection.mutable.ResizableArray.foreach(ResizableArray.scala:62)\r\n\tat scala.collection.mutable.ResizableArray.foreach$(ResizableArray.scala:55)\r\n\tat scala.collection.mutable.ArrayBuffer.foreach(ArrayBuffer.scala:49)\r\n\tat org.apache.spark.scheduler.DAGScheduler.abortStage(DAGScheduler.scala:2720)\r\n\tat org.apache.spark.scheduler.DAGScheduler.$anonfun$handleTaskSetFailed$1(DAGScheduler.scala:1206)\r\n\tat org.apache.spark.scheduler.DAGScheduler.$anonfun$handleTaskSetFailed$1$adapted(DAGScheduler.scala:1206)\r\n\tat scala.Option.foreach(Option.scala:407)\r\n\tat org.apache.spark.scheduler.DAGScheduler.handleTaskSetFailed(DAGScheduler.scala:1206)\r\n\tat org.apache.spark.scheduler.DAGSchedulerEventProcessLoop.doOnReceive(DAGScheduler.scala:2984)\r\n\tat org.apache.spark.scheduler.DAGSchedulerEventProcessLoop.onReceive(DAGScheduler.scala:2923)\r\n\tat org.apache.spark.scheduler.DAGSchedulerEventProcessLoop.onReceive(DAGScheduler.scala:2912)\r\n\tat org.apache.spark.util.EventLoop$$anon$1.run(EventLoop.scala:49)\r\nCaused by: org.apache.spark.SparkException: Python worker exited unexpectedly (crashed)\r\n\tat org.apache.spark.api.python.BasePythonRunner$ReaderIterator$$anonfun$1.applyOrElse(PythonRunner.scala:601)\r\n\tat org.apache.spark.api.python.BasePythonRunner$ReaderIterator$$anonfun$1.applyOrElse(PythonRunner.scala:583)\r\n\tat scala.runtime.AbstractPartialFunction.apply(AbstractPartialFunction.scala:38)\r\n\tat org.apache.spark.api.python.PythonRunner$$anon$3.read(PythonRunner.scala:772)\r\n\tat org.apache.spark.api.python.PythonRunner$$anon$3.read(PythonRunner.scala:749)\r\n\tat org.apache.spark.api.python.BasePythonRunner$ReaderIterator.hasNext(PythonRunner.scala:514)\r\n\tat org.apache.spark.InterruptibleIterator.hasNext(InterruptibleIterator.scala:37)\r\n\tat scala.collection.Iterator$$anon$11.hasNext(Iterator.scala:491)\r\n\tat scala.collection.Iterator$$anon$10.hasNext(Iterator.scala:460)\r\n\tat scala.collection.Iterator$$anon$10.hasNext(Iterator.scala:460)\r\n\tat org.apache.spark.sql.catalyst.expressions.GeneratedClass$GeneratedIteratorForCodegenStage2.processNext(Unknown Source)\r\n\tat org.apache.spark.sql.execution.BufferedRowIterator.hasNext(BufferedRowIterator.java:43)\r\n\tat org.apache.spark.sql.execution.WholeStageCodegenExec$$anon$1.hasNext(WholeStageCodegenExec.scala:760)\r\n\tat scala.collection.Iterator$$anon$10.hasNext(Iterator.scala:460)\r\n\tat org.apache.spark.shuffle.sort.BypassMergeSortShuffleWriter.write(BypassMergeSortShuffleWriter.java:140)\r\n\tat org.apache.spark.shuffle.ShuffleWriteProcessor.write(ShuffleWriteProcessor.scala:59)\r\n\tat org.apache.spark.scheduler.ShuffleMapTask.runTask(ShuffleMapTask.scala:101)\r\n\tat org.apache.spark.scheduler.ShuffleMapTask.runTask(ShuffleMapTask.scala:53)\r\n\tat org.apache.spark.TaskContext.runTaskWithListeners(TaskContext.scala:161)\r\n\tat org.apache.spark.scheduler.Task.run(Task.scala:139)\r\n\tat org.apache.spark.executor.Executor$TaskRunner.$anonfun$run$3(Executor.scala:554)\r\n\tat org.apache.spark.util.Utils$.tryWithSafeFinally(Utils.scala:1529)\r\n\tat org.apache.spark.executor.Executor$TaskRunner.run(Executor.scala:557)\r\n\tat java.base/java.util.concurrent.ThreadPoolExecutor.runWorker(ThreadPoolExecutor.java:1136)\r\n\tat java.base/java.util.concurrent.ThreadPoolExecutor$Worker.run(ThreadPoolExecutor.java:635)\r\n\tat java.base/java.lang.Thread.run(Thread.java:833)\r\nCaused by: java.io.EOFException\r\n\tat java.base/java.io.DataInputStream.readInt(DataInputStream.java:398)\r\n\tat org.apache.spark.api.python.PythonRunner$$anon$3.read(PythonRunner.scala:757)\r\n\t... 22 more\r\n"
     ]
    }
   ],
   "source": [
    "recommendations.show()"
   ]
  },
  {
   "cell_type": "code",
   "execution_count": 53,
   "metadata": {},
   "outputs": [
    {
     "ename": "Py4JJavaError",
     "evalue": "An error occurred while calling o906.collectToPython.\n: org.apache.spark.SparkException: Job aborted due to stage failure: Task 0 in stage 701.0 failed 1 times, most recent failure: Lost task 0.0 in stage 701.0 (TID 1164) (DESKTOP-47DU1LS executor driver): org.apache.spark.SparkException: Python worker exited unexpectedly (crashed)\r\n\tat org.apache.spark.api.python.BasePythonRunner$ReaderIterator$$anonfun$1.applyOrElse(PythonRunner.scala:601)\r\n\tat org.apache.spark.api.python.BasePythonRunner$ReaderIterator$$anonfun$1.applyOrElse(PythonRunner.scala:583)\r\n\tat scala.runtime.AbstractPartialFunction.apply(AbstractPartialFunction.scala:38)\r\n\tat org.apache.spark.api.python.PythonRunner$$anon$3.read(PythonRunner.scala:772)\r\n\tat org.apache.spark.api.python.PythonRunner$$anon$3.read(PythonRunner.scala:749)\r\n\tat org.apache.spark.api.python.BasePythonRunner$ReaderIterator.hasNext(PythonRunner.scala:514)\r\n\tat org.apache.spark.InterruptibleIterator.hasNext(InterruptibleIterator.scala:37)\r\n\tat scala.collection.Iterator$$anon$11.hasNext(Iterator.scala:491)\r\n\tat scala.collection.Iterator$$anon$10.hasNext(Iterator.scala:460)\r\n\tat scala.collection.Iterator$$anon$10.hasNext(Iterator.scala:460)\r\n\tat org.apache.spark.sql.catalyst.expressions.GeneratedClass$GeneratedIteratorForCodegenStage2.processNext(Unknown Source)\r\n\tat org.apache.spark.sql.execution.BufferedRowIterator.hasNext(BufferedRowIterator.java:43)\r\n\tat org.apache.spark.sql.execution.WholeStageCodegenExec$$anon$1.hasNext(WholeStageCodegenExec.scala:760)\r\n\tat scala.collection.Iterator$$anon$10.hasNext(Iterator.scala:460)\r\n\tat org.apache.spark.shuffle.sort.BypassMergeSortShuffleWriter.write(BypassMergeSortShuffleWriter.java:140)\r\n\tat org.apache.spark.shuffle.ShuffleWriteProcessor.write(ShuffleWriteProcessor.scala:59)\r\n\tat org.apache.spark.scheduler.ShuffleMapTask.runTask(ShuffleMapTask.scala:101)\r\n\tat org.apache.spark.scheduler.ShuffleMapTask.runTask(ShuffleMapTask.scala:53)\r\n\tat org.apache.spark.TaskContext.runTaskWithListeners(TaskContext.scala:161)\r\n\tat org.apache.spark.scheduler.Task.run(Task.scala:139)\r\n\tat org.apache.spark.executor.Executor$TaskRunner.$anonfun$run$3(Executor.scala:554)\r\n\tat org.apache.spark.util.Utils$.tryWithSafeFinally(Utils.scala:1529)\r\n\tat org.apache.spark.executor.Executor$TaskRunner.run(Executor.scala:557)\r\n\tat java.base/java.util.concurrent.ThreadPoolExecutor.runWorker(ThreadPoolExecutor.java:1144)\r\n\tat java.base/java.util.concurrent.ThreadPoolExecutor$Worker.run(ThreadPoolExecutor.java:642)\r\n\tat java.base/java.lang.Thread.run(Thread.java:1623)\r\nCaused by: java.io.EOFException\r\n\tat java.base/java.io.DataInputStream.readInt(DataInputStream.java:386)\r\n\tat org.apache.spark.api.python.PythonRunner$$anon$3.read(PythonRunner.scala:757)\r\n\t... 22 more\r\n\nDriver stacktrace:\r\n\tat org.apache.spark.scheduler.DAGScheduler.failJobAndIndependentStages(DAGScheduler.scala:2785)\r\n\tat org.apache.spark.scheduler.DAGScheduler.$anonfun$abortStage$2(DAGScheduler.scala:2721)\r\n\tat org.apache.spark.scheduler.DAGScheduler.$anonfun$abortStage$2$adapted(DAGScheduler.scala:2720)\r\n\tat scala.collection.mutable.ResizableArray.foreach(ResizableArray.scala:62)\r\n\tat scala.collection.mutable.ResizableArray.foreach$(ResizableArray.scala:55)\r\n\tat scala.collection.mutable.ArrayBuffer.foreach(ArrayBuffer.scala:49)\r\n\tat org.apache.spark.scheduler.DAGScheduler.abortStage(DAGScheduler.scala:2720)\r\n\tat org.apache.spark.scheduler.DAGScheduler.$anonfun$handleTaskSetFailed$1(DAGScheduler.scala:1206)\r\n\tat org.apache.spark.scheduler.DAGScheduler.$anonfun$handleTaskSetFailed$1$adapted(DAGScheduler.scala:1206)\r\n\tat scala.Option.foreach(Option.scala:407)\r\n\tat org.apache.spark.scheduler.DAGScheduler.handleTaskSetFailed(DAGScheduler.scala:1206)\r\n\tat org.apache.spark.scheduler.DAGSchedulerEventProcessLoop.doOnReceive(DAGScheduler.scala:2984)\r\n\tat org.apache.spark.scheduler.DAGSchedulerEventProcessLoop.onReceive(DAGScheduler.scala:2923)\r\n\tat org.apache.spark.scheduler.DAGSchedulerEventProcessLoop.onReceive(DAGScheduler.scala:2912)\r\n\tat org.apache.spark.util.EventLoop$$anon$1.run(EventLoop.scala:49)\r\nCaused by: org.apache.spark.SparkException: Python worker exited unexpectedly (crashed)\r\n\tat org.apache.spark.api.python.BasePythonRunner$ReaderIterator$$anonfun$1.applyOrElse(PythonRunner.scala:601)\r\n\tat org.apache.spark.api.python.BasePythonRunner$ReaderIterator$$anonfun$1.applyOrElse(PythonRunner.scala:583)\r\n\tat scala.runtime.AbstractPartialFunction.apply(AbstractPartialFunction.scala:38)\r\n\tat org.apache.spark.api.python.PythonRunner$$anon$3.read(PythonRunner.scala:772)\r\n\tat org.apache.spark.api.python.PythonRunner$$anon$3.read(PythonRunner.scala:749)\r\n\tat org.apache.spark.api.python.BasePythonRunner$ReaderIterator.hasNext(PythonRunner.scala:514)\r\n\tat org.apache.spark.InterruptibleIterator.hasNext(InterruptibleIterator.scala:37)\r\n\tat scala.collection.Iterator$$anon$11.hasNext(Iterator.scala:491)\r\n\tat scala.collection.Iterator$$anon$10.hasNext(Iterator.scala:460)\r\n\tat scala.collection.Iterator$$anon$10.hasNext(Iterator.scala:460)\r\n\tat org.apache.spark.sql.catalyst.expressions.GeneratedClass$GeneratedIteratorForCodegenStage2.processNext(Unknown Source)\r\n\tat org.apache.spark.sql.execution.BufferedRowIterator.hasNext(BufferedRowIterator.java:43)\r\n\tat org.apache.spark.sql.execution.WholeStageCodegenExec$$anon$1.hasNext(WholeStageCodegenExec.scala:760)\r\n\tat scala.collection.Iterator$$anon$10.hasNext(Iterator.scala:460)\r\n\tat org.apache.spark.shuffle.sort.BypassMergeSortShuffleWriter.write(BypassMergeSortShuffleWriter.java:140)\r\n\tat org.apache.spark.shuffle.ShuffleWriteProcessor.write(ShuffleWriteProcessor.scala:59)\r\n\tat org.apache.spark.scheduler.ShuffleMapTask.runTask(ShuffleMapTask.scala:101)\r\n\tat org.apache.spark.scheduler.ShuffleMapTask.runTask(ShuffleMapTask.scala:53)\r\n\tat org.apache.spark.TaskContext.runTaskWithListeners(TaskContext.scala:161)\r\n\tat org.apache.spark.scheduler.Task.run(Task.scala:139)\r\n\tat org.apache.spark.executor.Executor$TaskRunner.$anonfun$run$3(Executor.scala:554)\r\n\tat org.apache.spark.util.Utils$.tryWithSafeFinally(Utils.scala:1529)\r\n\tat org.apache.spark.executor.Executor$TaskRunner.run(Executor.scala:557)\r\n\tat java.base/java.util.concurrent.ThreadPoolExecutor.runWorker(ThreadPoolExecutor.java:1144)\r\n\tat java.base/java.util.concurrent.ThreadPoolExecutor$Worker.run(ThreadPoolExecutor.java:642)\r\n\tat java.base/java.lang.Thread.run(Thread.java:1623)\r\nCaused by: java.io.EOFException\r\n\tat java.base/java.io.DataInputStream.readInt(DataInputStream.java:386)\r\n\tat org.apache.spark.api.python.PythonRunner$$anon$3.read(PythonRunner.scala:757)\r\n\t... 22 more\r\n",
     "output_type": "error",
     "traceback": [
      "\u001b[1;31m---------------------------------------------------------------------------\u001b[0m",
      "\u001b[1;31mPy4JJavaError\u001b[0m                             Traceback (most recent call last)",
      "Cell \u001b[1;32mIn[53], line 2\u001b[0m\n\u001b[0;32m      1\u001b[0m \u001b[39m# Select user 516454226\u001b[39;00m\n\u001b[1;32m----> 2\u001b[0m recs_for_user_1 \u001b[39m=\u001b[39m sc\u001b[39m.\u001b[39mcreateDataFrame(recommendations\u001b[39m.\u001b[39;49mcollect()[\u001b[39m1\u001b[39m][\u001b[39m1\u001b[39m])\n",
      "File \u001b[1;32mc:\\Users\\DELL\\AppData\\Local\\Programs\\Python\\Python311\\Lib\\site-packages\\pyspark\\sql\\dataframe.py:1216\u001b[0m, in \u001b[0;36mDataFrame.collect\u001b[1;34m(self)\u001b[0m\n\u001b[0;32m   1196\u001b[0m \u001b[39m\u001b[39m\u001b[39m\"\"\"Returns all the records as a list of :class:`Row`.\u001b[39;00m\n\u001b[0;32m   1197\u001b[0m \n\u001b[0;32m   1198\u001b[0m \u001b[39m.. versionadded:: 1.3.0\u001b[39;00m\n\u001b[1;32m   (...)\u001b[0m\n\u001b[0;32m   1213\u001b[0m \u001b[39m[Row(age=14, name='Tom'), Row(age=23, name='Alice'), Row(age=16, name='Bob')]\u001b[39;00m\n\u001b[0;32m   1214\u001b[0m \u001b[39m\"\"\"\u001b[39;00m\n\u001b[0;32m   1215\u001b[0m \u001b[39mwith\u001b[39;00m SCCallSiteSync(\u001b[39mself\u001b[39m\u001b[39m.\u001b[39m_sc):\n\u001b[1;32m-> 1216\u001b[0m     sock_info \u001b[39m=\u001b[39m \u001b[39mself\u001b[39;49m\u001b[39m.\u001b[39;49m_jdf\u001b[39m.\u001b[39;49mcollectToPython()\n\u001b[0;32m   1217\u001b[0m \u001b[39mreturn\u001b[39;00m \u001b[39mlist\u001b[39m(_load_from_socket(sock_info, BatchedSerializer(CPickleSerializer())))\n",
      "File \u001b[1;32mc:\\Users\\DELL\\AppData\\Local\\Programs\\Python\\Python311\\Lib\\site-packages\\py4j\\java_gateway.py:1322\u001b[0m, in \u001b[0;36mJavaMember.__call__\u001b[1;34m(self, *args)\u001b[0m\n\u001b[0;32m   1316\u001b[0m command \u001b[39m=\u001b[39m proto\u001b[39m.\u001b[39mCALL_COMMAND_NAME \u001b[39m+\u001b[39m\\\n\u001b[0;32m   1317\u001b[0m     \u001b[39mself\u001b[39m\u001b[39m.\u001b[39mcommand_header \u001b[39m+\u001b[39m\\\n\u001b[0;32m   1318\u001b[0m     args_command \u001b[39m+\u001b[39m\\\n\u001b[0;32m   1319\u001b[0m     proto\u001b[39m.\u001b[39mEND_COMMAND_PART\n\u001b[0;32m   1321\u001b[0m answer \u001b[39m=\u001b[39m \u001b[39mself\u001b[39m\u001b[39m.\u001b[39mgateway_client\u001b[39m.\u001b[39msend_command(command)\n\u001b[1;32m-> 1322\u001b[0m return_value \u001b[39m=\u001b[39m get_return_value(\n\u001b[0;32m   1323\u001b[0m     answer, \u001b[39mself\u001b[39;49m\u001b[39m.\u001b[39;49mgateway_client, \u001b[39mself\u001b[39;49m\u001b[39m.\u001b[39;49mtarget_id, \u001b[39mself\u001b[39;49m\u001b[39m.\u001b[39;49mname)\n\u001b[0;32m   1325\u001b[0m \u001b[39mfor\u001b[39;00m temp_arg \u001b[39min\u001b[39;00m temp_args:\n\u001b[0;32m   1326\u001b[0m     \u001b[39mif\u001b[39;00m \u001b[39mhasattr\u001b[39m(temp_arg, \u001b[39m\"\u001b[39m\u001b[39m_detach\u001b[39m\u001b[39m\"\u001b[39m):\n",
      "File \u001b[1;32mc:\\Users\\DELL\\AppData\\Local\\Programs\\Python\\Python311\\Lib\\site-packages\\pyspark\\errors\\exceptions\\captured.py:169\u001b[0m, in \u001b[0;36mcapture_sql_exception.<locals>.deco\u001b[1;34m(*a, **kw)\u001b[0m\n\u001b[0;32m    167\u001b[0m \u001b[39mdef\u001b[39;00m \u001b[39mdeco\u001b[39m(\u001b[39m*\u001b[39ma: Any, \u001b[39m*\u001b[39m\u001b[39m*\u001b[39mkw: Any) \u001b[39m-\u001b[39m\u001b[39m>\u001b[39m Any:\n\u001b[0;32m    168\u001b[0m     \u001b[39mtry\u001b[39;00m:\n\u001b[1;32m--> 169\u001b[0m         \u001b[39mreturn\u001b[39;00m f(\u001b[39m*\u001b[39;49ma, \u001b[39m*\u001b[39;49m\u001b[39m*\u001b[39;49mkw)\n\u001b[0;32m    170\u001b[0m     \u001b[39mexcept\u001b[39;00m Py4JJavaError \u001b[39mas\u001b[39;00m e:\n\u001b[0;32m    171\u001b[0m         converted \u001b[39m=\u001b[39m convert_exception(e\u001b[39m.\u001b[39mjava_exception)\n",
      "File \u001b[1;32mc:\\Users\\DELL\\AppData\\Local\\Programs\\Python\\Python311\\Lib\\site-packages\\py4j\\protocol.py:326\u001b[0m, in \u001b[0;36mget_return_value\u001b[1;34m(answer, gateway_client, target_id, name)\u001b[0m\n\u001b[0;32m    324\u001b[0m value \u001b[39m=\u001b[39m OUTPUT_CONVERTER[\u001b[39mtype\u001b[39m](answer[\u001b[39m2\u001b[39m:], gateway_client)\n\u001b[0;32m    325\u001b[0m \u001b[39mif\u001b[39;00m answer[\u001b[39m1\u001b[39m] \u001b[39m==\u001b[39m REFERENCE_TYPE:\n\u001b[1;32m--> 326\u001b[0m     \u001b[39mraise\u001b[39;00m Py4JJavaError(\n\u001b[0;32m    327\u001b[0m         \u001b[39m\"\u001b[39m\u001b[39mAn error occurred while calling \u001b[39m\u001b[39m{0}\u001b[39;00m\u001b[39m{1}\u001b[39;00m\u001b[39m{2}\u001b[39;00m\u001b[39m.\u001b[39m\u001b[39m\\n\u001b[39;00m\u001b[39m\"\u001b[39m\u001b[39m.\u001b[39m\n\u001b[0;32m    328\u001b[0m         \u001b[39mformat\u001b[39m(target_id, \u001b[39m\"\u001b[39m\u001b[39m.\u001b[39m\u001b[39m\"\u001b[39m, name), value)\n\u001b[0;32m    329\u001b[0m \u001b[39melse\u001b[39;00m:\n\u001b[0;32m    330\u001b[0m     \u001b[39mraise\u001b[39;00m Py4JError(\n\u001b[0;32m    331\u001b[0m         \u001b[39m\"\u001b[39m\u001b[39mAn error occurred while calling \u001b[39m\u001b[39m{0}\u001b[39;00m\u001b[39m{1}\u001b[39;00m\u001b[39m{2}\u001b[39;00m\u001b[39m. Trace:\u001b[39m\u001b[39m\\n\u001b[39;00m\u001b[39m{3}\u001b[39;00m\u001b[39m\\n\u001b[39;00m\u001b[39m\"\u001b[39m\u001b[39m.\u001b[39m\n\u001b[0;32m    332\u001b[0m         \u001b[39mformat\u001b[39m(target_id, \u001b[39m\"\u001b[39m\u001b[39m.\u001b[39m\u001b[39m\"\u001b[39m, name, value))\n",
      "\u001b[1;31mPy4JJavaError\u001b[0m: An error occurred while calling o906.collectToPython.\n: org.apache.spark.SparkException: Job aborted due to stage failure: Task 0 in stage 701.0 failed 1 times, most recent failure: Lost task 0.0 in stage 701.0 (TID 1164) (DESKTOP-47DU1LS executor driver): org.apache.spark.SparkException: Python worker exited unexpectedly (crashed)\r\n\tat org.apache.spark.api.python.BasePythonRunner$ReaderIterator$$anonfun$1.applyOrElse(PythonRunner.scala:601)\r\n\tat org.apache.spark.api.python.BasePythonRunner$ReaderIterator$$anonfun$1.applyOrElse(PythonRunner.scala:583)\r\n\tat scala.runtime.AbstractPartialFunction.apply(AbstractPartialFunction.scala:38)\r\n\tat org.apache.spark.api.python.PythonRunner$$anon$3.read(PythonRunner.scala:772)\r\n\tat org.apache.spark.api.python.PythonRunner$$anon$3.read(PythonRunner.scala:749)\r\n\tat org.apache.spark.api.python.BasePythonRunner$ReaderIterator.hasNext(PythonRunner.scala:514)\r\n\tat org.apache.spark.InterruptibleIterator.hasNext(InterruptibleIterator.scala:37)\r\n\tat scala.collection.Iterator$$anon$11.hasNext(Iterator.scala:491)\r\n\tat scala.collection.Iterator$$anon$10.hasNext(Iterator.scala:460)\r\n\tat scala.collection.Iterator$$anon$10.hasNext(Iterator.scala:460)\r\n\tat org.apache.spark.sql.catalyst.expressions.GeneratedClass$GeneratedIteratorForCodegenStage2.processNext(Unknown Source)\r\n\tat org.apache.spark.sql.execution.BufferedRowIterator.hasNext(BufferedRowIterator.java:43)\r\n\tat org.apache.spark.sql.execution.WholeStageCodegenExec$$anon$1.hasNext(WholeStageCodegenExec.scala:760)\r\n\tat scala.collection.Iterator$$anon$10.hasNext(Iterator.scala:460)\r\n\tat org.apache.spark.shuffle.sort.BypassMergeSortShuffleWriter.write(BypassMergeSortShuffleWriter.java:140)\r\n\tat org.apache.spark.shuffle.ShuffleWriteProcessor.write(ShuffleWriteProcessor.scala:59)\r\n\tat org.apache.spark.scheduler.ShuffleMapTask.runTask(ShuffleMapTask.scala:101)\r\n\tat org.apache.spark.scheduler.ShuffleMapTask.runTask(ShuffleMapTask.scala:53)\r\n\tat org.apache.spark.TaskContext.runTaskWithListeners(TaskContext.scala:161)\r\n\tat org.apache.spark.scheduler.Task.run(Task.scala:139)\r\n\tat org.apache.spark.executor.Executor$TaskRunner.$anonfun$run$3(Executor.scala:554)\r\n\tat org.apache.spark.util.Utils$.tryWithSafeFinally(Utils.scala:1529)\r\n\tat org.apache.spark.executor.Executor$TaskRunner.run(Executor.scala:557)\r\n\tat java.base/java.util.concurrent.ThreadPoolExecutor.runWorker(ThreadPoolExecutor.java:1144)\r\n\tat java.base/java.util.concurrent.ThreadPoolExecutor$Worker.run(ThreadPoolExecutor.java:642)\r\n\tat java.base/java.lang.Thread.run(Thread.java:1623)\r\nCaused by: java.io.EOFException\r\n\tat java.base/java.io.DataInputStream.readInt(DataInputStream.java:386)\r\n\tat org.apache.spark.api.python.PythonRunner$$anon$3.read(PythonRunner.scala:757)\r\n\t... 22 more\r\n\nDriver stacktrace:\r\n\tat org.apache.spark.scheduler.DAGScheduler.failJobAndIndependentStages(DAGScheduler.scala:2785)\r\n\tat org.apache.spark.scheduler.DAGScheduler.$anonfun$abortStage$2(DAGScheduler.scala:2721)\r\n\tat org.apache.spark.scheduler.DAGScheduler.$anonfun$abortStage$2$adapted(DAGScheduler.scala:2720)\r\n\tat scala.collection.mutable.ResizableArray.foreach(ResizableArray.scala:62)\r\n\tat scala.collection.mutable.ResizableArray.foreach$(ResizableArray.scala:55)\r\n\tat scala.collection.mutable.ArrayBuffer.foreach(ArrayBuffer.scala:49)\r\n\tat org.apache.spark.scheduler.DAGScheduler.abortStage(DAGScheduler.scala:2720)\r\n\tat org.apache.spark.scheduler.DAGScheduler.$anonfun$handleTaskSetFailed$1(DAGScheduler.scala:1206)\r\n\tat org.apache.spark.scheduler.DAGScheduler.$anonfun$handleTaskSetFailed$1$adapted(DAGScheduler.scala:1206)\r\n\tat scala.Option.foreach(Option.scala:407)\r\n\tat org.apache.spark.scheduler.DAGScheduler.handleTaskSetFailed(DAGScheduler.scala:1206)\r\n\tat org.apache.spark.scheduler.DAGSchedulerEventProcessLoop.doOnReceive(DAGScheduler.scala:2984)\r\n\tat org.apache.spark.scheduler.DAGSchedulerEventProcessLoop.onReceive(DAGScheduler.scala:2923)\r\n\tat org.apache.spark.scheduler.DAGSchedulerEventProcessLoop.onReceive(DAGScheduler.scala:2912)\r\n\tat org.apache.spark.util.EventLoop$$anon$1.run(EventLoop.scala:49)\r\nCaused by: org.apache.spark.SparkException: Python worker exited unexpectedly (crashed)\r\n\tat org.apache.spark.api.python.BasePythonRunner$ReaderIterator$$anonfun$1.applyOrElse(PythonRunner.scala:601)\r\n\tat org.apache.spark.api.python.BasePythonRunner$ReaderIterator$$anonfun$1.applyOrElse(PythonRunner.scala:583)\r\n\tat scala.runtime.AbstractPartialFunction.apply(AbstractPartialFunction.scala:38)\r\n\tat org.apache.spark.api.python.PythonRunner$$anon$3.read(PythonRunner.scala:772)\r\n\tat org.apache.spark.api.python.PythonRunner$$anon$3.read(PythonRunner.scala:749)\r\n\tat org.apache.spark.api.python.BasePythonRunner$ReaderIterator.hasNext(PythonRunner.scala:514)\r\n\tat org.apache.spark.InterruptibleIterator.hasNext(InterruptibleIterator.scala:37)\r\n\tat scala.collection.Iterator$$anon$11.hasNext(Iterator.scala:491)\r\n\tat scala.collection.Iterator$$anon$10.hasNext(Iterator.scala:460)\r\n\tat scala.collection.Iterator$$anon$10.hasNext(Iterator.scala:460)\r\n\tat org.apache.spark.sql.catalyst.expressions.GeneratedClass$GeneratedIteratorForCodegenStage2.processNext(Unknown Source)\r\n\tat org.apache.spark.sql.execution.BufferedRowIterator.hasNext(BufferedRowIterator.java:43)\r\n\tat org.apache.spark.sql.execution.WholeStageCodegenExec$$anon$1.hasNext(WholeStageCodegenExec.scala:760)\r\n\tat scala.collection.Iterator$$anon$10.hasNext(Iterator.scala:460)\r\n\tat org.apache.spark.shuffle.sort.BypassMergeSortShuffleWriter.write(BypassMergeSortShuffleWriter.java:140)\r\n\tat org.apache.spark.shuffle.ShuffleWriteProcessor.write(ShuffleWriteProcessor.scala:59)\r\n\tat org.apache.spark.scheduler.ShuffleMapTask.runTask(ShuffleMapTask.scala:101)\r\n\tat org.apache.spark.scheduler.ShuffleMapTask.runTask(ShuffleMapTask.scala:53)\r\n\tat org.apache.spark.TaskContext.runTaskWithListeners(TaskContext.scala:161)\r\n\tat org.apache.spark.scheduler.Task.run(Task.scala:139)\r\n\tat org.apache.spark.executor.Executor$TaskRunner.$anonfun$run$3(Executor.scala:554)\r\n\tat org.apache.spark.util.Utils$.tryWithSafeFinally(Utils.scala:1529)\r\n\tat org.apache.spark.executor.Executor$TaskRunner.run(Executor.scala:557)\r\n\tat java.base/java.util.concurrent.ThreadPoolExecutor.runWorker(ThreadPoolExecutor.java:1144)\r\n\tat java.base/java.util.concurrent.ThreadPoolExecutor$Worker.run(ThreadPoolExecutor.java:642)\r\n\tat java.base/java.lang.Thread.run(Thread.java:1623)\r\nCaused by: java.io.EOFException\r\n\tat java.base/java.io.DataInputStream.readInt(DataInputStream.java:386)\r\n\tat org.apache.spark.api.python.PythonRunner$$anon$3.read(PythonRunner.scala:757)\r\n\t... 22 more\r\n"
     ]
    }
   ],
   "source": [
    "# Select user 598224683\n",
    "recs_for_user_1 = sc.createDataFrame(recommendations.collect()[1][1])"
   ]
  },
  {
   "cell_type": "code",
   "execution_count": 55,
   "metadata": {},
   "outputs": [
    {
     "name": "stdout",
     "output_type": "stream",
     "text": [
      "+---------+----------+------------------+-------------------+\n",
      "|  user_id|product_id|             carts|          purchases|\n",
      "+---------+----------+------------------+-------------------+\n",
      "|598224683|   1801849|13.424844233738863|  37.33082417567878|\n",
      "|598224683|   3601603|6.2620832926326235|    22.264547887824|\n",
      "|598224683|   2702277|  9.55221687363865| 18.053328823812244|\n",
      "|598224683|   1801881| 6.390755930878592| 16.910094820955166|\n",
      "|598224683| 100090024|0.8477618219750345| 12.433686143827385|\n",
      "|598224683|   2702331| 7.777080826520921|  11.77571379897072|\n",
      "|598224683|   1801690|2.2708173537544427| 10.887466858444705|\n",
      "|598224683|   1801854| 4.998308034847588|   8.88716004939163|\n",
      "|598224683|   2702347|1.4074105329640159|  4.572105823580895|\n",
      "|598224683|   3601522|               0.0|   3.53890490486224|\n",
      "|598224683|   3601448|               0.0| 1.5693465682843657|\n",
      "|598224683|   1802009|               0.0| 1.2396221781012216|\n",
      "|598224683|   3601605|               0.0| 0.9796906306653123|\n",
      "|598224683|   3700338|               0.0| 0.9130422159958216|\n",
      "|598224683|   4803977|0.8247593531892548| 0.8823978356567482|\n",
      "|598224683|   3900898|               0.0| 0.6288004650991836|\n",
      "|598224683|   1802116|               0.0| 0.6209483338981936|\n",
      "|598224683|   1802025|               0.0| 0.5440470169426822|\n",
      "|598224683|   4804056|               0.0|0.39915719873134514|\n",
      "|598224683|   2402063|               0.0|0.37006977442751143|\n",
      "+---------+----------+------------------+-------------------+\n",
      "only showing top 20 rows\n",
      "\n"
     ]
    }
   ],
   "source": [
    "# Products with the highest number of interactions for the user\n",
    "\n",
    "interactions.filter(col('user_id') == 598224683).sort('purchases', ascending=False).show()"
   ]
  },
  {
   "cell_type": "code",
   "execution_count": 56,
   "metadata": {},
   "outputs": [],
   "source": [
    "def calculate_recommendation_scores_for_user(user_id, recs, products, users, coef_als_score=0.8, coef_conversion_rate=0.1, coef_spending_habit=0.1, coef_spending_booster=0.05):\n",
    "   \n",
    "    recs = recs.join(products['product_id', 'purchase_per_view', 'relative_price'], on='product_id')\n",
    "    \n",
    "    user_avg_relative_price = users.filter(col('user_id') == user_id)['user_id', 'avg_relative_price_purchased'].collect()[0][1]\n",
    "\n",
    "    \n",
    "    # Scale CF rating score, ranges from 0 to 2\n",
    "    recs = recs.withColumn('rating', col('rating') / 2)\n",
    "    \n",
    "    # Scale purchase_per_view rate, ranges from 0 to 0.075\n",
    "    recs = recs.withColumn('purchase_per_view', col('purchase_per_view') / 0.075)\n",
    "    \n",
    "    # Scale relative price value, ranges from -5 to 5\n",
    "    recs = recs.withColumn('relative_price', (col('relative_price') + 5) / 10)\n",
    "    \n",
    "    # Scale users average relative price value, ranges from -1 to 1\n",
    "    user_avg_relative_price = (user_avg_relative_price + 1) / 2\n",
    "    \n",
    "    \n",
    "    # Calculate the recommendation scores\n",
    "    recs = recs.withColumn('recommendation_score', ((recs['rating'] * coef_als_score) + (recs['purchase_per_view'] * coef_conversion_rate) - abs(user_avg_relative_price + coef_spending_booster - recs['relative_price']) * coef_spending_habit) / (coef_als_score + coef_conversion_rate + coef_spending_habit)) \n",
    "\n",
    "    \n",
    "    # Scale back CF rating score, ranges from 0 to 2\n",
    "    recs = recs.withColumn('rating', col('rating') * 2)\n",
    "\n",
    "    # Scale back purchase_per_view rate, ranges from 0 to 0.075\n",
    "    recs = recs.withColumn('purchase_per_view', col('purchase_per_view') * 0.075)\n",
    "    \n",
    "    # Scale back relative price value, ranges from -1 to 1\n",
    "    recs = recs.withColumn('relative_price', col('relative_price') * 2 - 1)\n",
    "\n",
    "    # Scale back average relative price value, ranges from -5 to 5\n",
    "    user_avg_relative_price = user_avg_relative_price * 10 - 5\n",
    "    \n",
    "    return recs"
   ]
  },
  {
   "cell_type": "code",
   "execution_count": 57,
   "metadata": {},
   "outputs": [
    {
     "ename": "NameError",
     "evalue": "name 'recs_for_user_1' is not defined",
     "output_type": "error",
     "traceback": [
      "\u001b[1;31m---------------------------------------------------------------------------\u001b[0m",
      "\u001b[1;31mNameError\u001b[0m                                 Traceback (most recent call last)",
      "Cell \u001b[1;32mIn[57], line 1\u001b[0m\n\u001b[1;32m----> 1\u001b[0m recs_user \u001b[39m=\u001b[39m calculate_recommendation_scores_for_user(\u001b[39m598224683\u001b[39m, recs_for_user_1, products, users)\n",
      "\u001b[1;31mNameError\u001b[0m: name 'recs_for_user_1' is not defined"
     ]
    }
   ],
   "source": [
    "recs_user = calculate_recommendation_scores_for_user(598224683, recs_for_user_1, products, users)"
   ]
  },
  {
   "cell_type": "code",
   "execution_count": null,
   "metadata": {},
   "outputs": [],
   "source": [
    "# Products with the highest recommendation scores\n",
    "\n",
    "recs_user.sort('recommendation_score', ascending=False).show()"
   ]
  },
  {
   "cell_type": "code",
   "execution_count": null,
   "metadata": {},
   "outputs": [],
   "source": [
    "# Filter non-interacted products in recommendations using left-anti join\n",
    "non_interacted_products = recs_user.join(interactions.filter(col('user_id') == 564068124), on='product_id', how='leftanti')\n",
    "\n",
    "# Non-interacted products with the highest recommendation scores\n",
    "non_interacted_products.sort('recommendation_score', ascending=False).show()"
   ]
  },
  {
   "attachments": {},
   "cell_type": "markdown",
   "metadata": {},
   "source": [
    "### Recommend Products for Products"
   ]
  },
  {
   "cell_type": "code",
   "execution_count": null,
   "metadata": {},
   "outputs": [],
   "source": [
    "from pyspark.ml.linalg import Vectors\n",
    "from pyspark.ml.feature import VectorAssembler\n",
    "from pyspark.ml.feature import Normalizer\n",
    "from pyspark.ml.feature import SQLTransformer\n",
    "\n",
    "# Get the product factors from the ALS model\n",
    "product_vectors = best_model.itemFactors\n",
    "product_vectors = product_vectors.rdd.map(lambda row: (row[0], Vectors.dense(row[1])))\n",
    "product_vectors = product_vectors.toDF(['product_id', 'features'])\n",
    "\n",
    "# Use VectorAssembler to convert the features column into a dense vector column\n",
    "assembler = VectorAssembler(inputCols=['features'], outputCol='vector')\n",
    "product_vectors = assembler.transform(product_vectors)\n",
    "\n",
    "# Normalize the vectors\n",
    "normalizer = Normalizer(inputCol='vector', outputCol='norm_vector')\n",
    "product_vectors = normalizer.transform(product_vectors)\n",
    "\n",
    "# Get the normalized vector representation of the selected product\n",
    "product_vector = product_vectors.where(col('product_id') == 5100067).select('norm_vector').collect()[0][0]\n",
    "product_vector"
   ]
  }
 ],
 "metadata": {
  "kernelspec": {
   "display_name": "Python 3",
   "language": "python",
   "name": "python3"
  },
  "language_info": {
   "codemirror_mode": {
    "name": "ipython",
    "version": 3
   },
   "file_extension": ".py",
   "mimetype": "text/x-python",
   "name": "python",
   "nbconvert_exporter": "python",
   "pygments_lexer": "ipython3",
   "version": "3.11.3"
  },
  "orig_nbformat": 4
 },
 "nbformat": 4,
 "nbformat_minor": 2
}
